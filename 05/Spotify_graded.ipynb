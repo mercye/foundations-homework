{
 "cells": [
  {
   "cell_type": "markdown",
   "metadata": {},
   "source": [
    "Graded = 3/8"
   ]
  },
  {
   "cell_type": "markdown",
   "metadata": {},
   "source": [
    "### 1) With \"Lil Wayne\" and \"Lil Kim\" there are a lot of \"Lil\" musicians. Do a search and print a list of 50 that are playable in the USA (or the country of your choice), along with their popularity score."
   ]
  },
  {
   "cell_type": "code",
   "execution_count": 169,
   "metadata": {
    "collapsed": false
   },
   "outputs": [
    {
     "name": "stdout",
     "output_type": "stream",
     "text": [
      "Lil Wayne 86\n",
      "Lil Yachty 74\n",
      "Lil Uzi Vert 75\n",
      "Lil Dicky 69\n",
      "Boosie Badazz 67\n",
      "Lil Jon 72\n",
      "King Lil G 61\n",
      "Lil Durk 60\n",
      "Lil Jon & The East Side Boyz 60\n",
      "Lil Bibby 54\n",
      "G Herbo 53\n",
      "Lil Rob 50\n",
      "Lil Reese 50\n",
      "Lil Scrappy 50\n",
      "Bow Wow 57\n",
      "Lil Keke 48\n",
      "Lil Wyte 50\n",
      "Lil Blood 46\n",
      "Lil Snupe 45\n",
      "Lil Boom 48\n",
      "Lil Mama 45\n",
      "Lil B 43\n",
      "Lil' Kim 62\n",
      "Lil Cuete 40\n",
      "Lil Phat 40\n",
      "Lil Debbie 43\n",
      "Lil Twist 40\n",
      "Lil Trill 37\n",
      "Lil Goofy 37\n",
      "Lil Lonnie 37\n",
      "Lil Haiti 38\n",
      "Lil AJ 37\n",
      "Lil Cray 36\n",
      "Lil Mouse 36\n",
      "Mr. Lil One 37\n",
      "Lil Yase 34\n",
      "Lil Twon 35\n",
      "Lil Flash 38\n",
      "Lil Silva 43\n",
      "Lil Suzy 34\n",
      "Lil Rue 34\n",
      "Lil Eddie 41\n",
      "Lil Kesh 39\n",
      "Lil Wayne, DJ Drama 35\n",
      "Lil C 34\n",
      "Lil Rick 39\n",
      "Lil E 35\n",
      "Lil June 32\n",
      "Lil Fate 34\n",
      "Lil' Flip 50\n"
     ]
    }
   ],
   "source": [
    "import requests\n",
    "\n",
    "# query = 'lil' type = 'artist' number of responses(limit) = '50' market = 'US'\n",
    "response = requests.get('https://api.spotify.com/v1/search?q=lil&type=artist&limit=50&market=US')\n",
    "\n",
    "# data is a string, use json\n",
    "data = response.json()\n",
    "\n",
    "# print(type(data))\n",
    "# print(data.keys())\n",
    "# print(type(data['artists']))\n",
    "# print(data['artists'].keys())\n",
    "\n",
    "artists = data['artists']['items']\n",
    "\n",
    "# print(type(artists))\n",
    "\n",
    "for artist in artists: \n",
    "    print(artist['name'], artist['popularity'])\n",
    "    \n"
   ]
  },
  {
   "cell_type": "markdown",
   "metadata": {},
   "source": [
    "### 2) What genres are most represented in the search results? Edit your previous printout to also display a list of their genres in the format \"GENRE_1, GENRE_2, GENRE_3\". If there are no genres, print \"No genres listed\".\n",
    "Tip: \"how to join a list Python\" might be a helpful search"
   ]
  },
  {
   "cell_type": "code",
   "execution_count": 170,
   "metadata": {
    "collapsed": false,
    "scrolled": true
   },
   "outputs": [
    {
     "name": "stdout",
     "output_type": "stream",
     "text": [
      "Lil Wayne 86\n",
      "Genre list: dirty south rap, pop rap, southern hip hop, trap music\n",
      "Lil Yachty 74\n",
      "No genres listed\n",
      "Lil Uzi Vert 75\n",
      "No genres listed\n",
      "Lil Dicky 69\n",
      "No genres listed\n",
      "Boosie Badazz 67\n",
      "No genres listed\n",
      "Lil Jon 72\n",
      "Genre list: crunk, dirty south rap, southern hip hop\n",
      "King Lil G 61\n",
      "No genres listed\n",
      "Lil Durk 60\n",
      "No genres listed\n",
      "Lil Jon & The East Side Boyz 60\n",
      "No genres listed\n",
      "Lil Bibby 54\n",
      "No genres listed\n",
      "G Herbo 53\n",
      "No genres listed\n",
      "Lil Rob 50\n",
      "Genre list: chicano rap, latin hip hop\n",
      "Lil Reese 50\n",
      "No genres listed\n",
      "Lil Scrappy 50\n",
      "Genre list: crunk, dirty south rap, southern hip hop, trap music\n",
      "Bow Wow 57\n",
      "Genre list: hip pop, pop rap\n",
      "Lil Keke 48\n",
      "No genres listed\n",
      "Lil Wyte 50\n",
      "Genre list: juggalo\n",
      "Lil Blood 46\n",
      "No genres listed\n",
      "Lil Snupe 45\n",
      "No genres listed\n",
      "Lil Boom 48\n",
      "No genres listed\n",
      "Lil Mama 45\n",
      "Genre list: hip pop\n",
      "Lil B 43\n",
      "No genres listed\n",
      "Lil' Kim 62\n",
      "Genre list: hip pop\n",
      "Lil Cuete 40\n",
      "Genre list: chicano rap\n",
      "Lil Phat 40\n",
      "No genres listed\n",
      "Lil Debbie 43\n",
      "No genres listed\n",
      "Lil Twist 40\n",
      "Genre list: jerk\n",
      "Lil Trill 37\n",
      "Genre list: deep trap\n",
      "Lil Goofy 37\n",
      "No genres listed\n",
      "Lil Lonnie 37\n",
      "No genres listed\n",
      "Lil Haiti 38\n",
      "No genres listed\n",
      "Lil AJ 37\n",
      "No genres listed\n",
      "Lil Cray 36\n",
      "No genres listed\n",
      "Lil Mouse 36\n",
      "No genres listed\n",
      "Mr. Lil One 37\n",
      "Genre list: chicano rap\n",
      "Lil Yase 34\n",
      "No genres listed\n",
      "Lil Twon 35\n",
      "No genres listed\n",
      "Lil Flash 38\n",
      "No genres listed\n",
      "Lil Silva 43\n",
      "No genres listed\n",
      "Lil Suzy 34\n",
      "Genre list: freestyle\n",
      "Lil Rue 34\n",
      "No genres listed\n",
      "Lil Eddie 41\n",
      "No genres listed\n",
      "Lil Kesh 39\n",
      "No genres listed\n",
      "Lil Wayne, DJ Drama 35\n",
      "No genres listed\n",
      "Lil C 34\n",
      "No genres listed\n",
      "Lil Rick 39\n",
      "Genre list: soca\n",
      "Lil E 35\n",
      "No genres listed\n",
      "Lil June 32\n",
      "No genres listed\n",
      "Lil Fate 34\n",
      "No genres listed\n",
      "Lil' Flip 50\n",
      "Genre list: crunk, dirty south rap\n"
     ]
    }
   ],
   "source": [
    "for artist in artists: \n",
    "    print(artist['name'], artist['popularity'])\n",
    "    if len(artist['genres']) == 0: \n",
    "        print(\"No genres listed\")\n",
    "    else: \n",
    "        genres = (\", \".join(artist['genres']))\n",
    "        print(\"Genre list:\", genres)"
   ]
  },
  {
   "cell_type": "markdown",
   "metadata": {},
   "source": [
    "### 3) Use a for loop to determine who BESIDES Lil Wayne has the highest popularity rating. Is it the same artist who has the largest number of followers?"
   ]
  },
  {
   "cell_type": "code",
   "execution_count": 188,
   "metadata": {
    "collapsed": false,
    "scrolled": true
   },
   "outputs": [
    {
     "name": "stdout",
     "output_type": "stream",
     "text": [
      "('Lil Uzi Vert', 75)\n"
     ]
    }
   ],
   "source": [
    "# sorted in descending order\n",
    "\n",
    "artists_by_popularity=[(item[0], item[1]) for item in sorted([(item['name'], item['popularity']) for item in artists], key=lambda item: item[1], reverse=True)]\n",
    "\n",
    "# print second item in list\n",
    "\n",
    "print(artists_by_popularity[1])\n",
    "\n",
    "# TA-Stephan: Did not display who has the second highest popularity.    \n",
    "\n"
   ]
  },
  {
   "cell_type": "markdown",
   "metadata": {},
   "source": [
    "### 4) Print a list of Lil's that are more popular than Lil' Kim."
   ]
  },
  {
   "cell_type": "code",
   "execution_count": 91,
   "metadata": {
    "collapsed": false
   },
   "outputs": [
    {
     "name": "stdout",
     "output_type": "stream",
     "text": [
      "Lil' Kim has a popularity of 62\n",
      "So, any artist with a score greater than 62 is more popular than Lil' Kim\n",
      "The following artist have a popularity greater than 62 :\n",
      "Lil Wayne\n",
      "Lil Yachty\n",
      "Lil Uzi Vert\n",
      "Lil Dicky\n",
      "Boosie Badazz\n",
      "Lil Jon\n"
     ]
    }
   ],
   "source": [
    "for artist in artists: \n",
    "    if artist['name'] == \"Lil' Kim\": \n",
    "        print (artist['name'], \"has a popularity of\", artist['popularity'])\n",
    "        target_score = artist['popularity']\n",
    "\n",
    "print(\"So, any artist with a score greater than\", target_score, \"is more popular than Lil' Kim\")\n",
    "\n",
    "more_popular = [artist['name'] for artist in artists if artist['popularity'] > 62]\n",
    "\n",
    "print(\"The following artist have a popularity greater than\", target_score, \":\")\n",
    "for artist in more_popular: \n",
    "    print(artist)\n"
   ]
  },
  {
   "cell_type": "markdown",
   "metadata": {},
   "source": [
    "5) Pick two of your favorite Lils to fight it out, and use their IDs to print out their top tracks.\n",
    "Tip: You're going to be making two separate requests, be sure you DO NOT save them into the same variable."
   ]
  },
  {
   "cell_type": "code",
   "execution_count": 92,
   "metadata": {
    "collapsed": false
   },
   "outputs": [
    {
     "name": "stdout",
     "output_type": "stream",
     "text": [
      "*****Lil Wayne's top tracks are:*****\n",
      "Forever\n",
      "Nothing But Trouble - Instagram Models\n",
      "6 Foot 7 Foot\n",
      "A Milli\n",
      "Right Above It\n",
      "Lollipop\n",
      "Rich As Fuck\n",
      "Love Me\n",
      "Mirror\n",
      "Believe Me\n",
      "*****Lil Yachty's top tracks are:*****\n",
      "One Night (Extended)\n",
      "Minnesota (Remix) [feat. Quavo, Skippa da Flippa & Young Thug]\n",
      "Wanna Be Us (feat. Burberry Perry)\n",
      "Intro (Just Keep Swimming)\n",
      "Up Next 2 (feat. Big Brutha Chubba & Byou)\n",
      "Good Day (feat. Skippa da Flippa)\n",
      "Not My Bro\n",
      "Fucked Over\n",
      "Out Late\n",
      "Interlude\n"
     ]
    }
   ],
   "source": [
    "#TA - Stephan: Want to print out top tracks, not genres\n",
    "\n",
    "# Find Lil Wayne's id\n",
    "\n",
    "# for artist in artists: \n",
    "#     if artist['name'] == 'Lil Wayne': \n",
    "#         print(artist['id'])\n",
    "        \n",
    "# get data for top tracks and print list of the artists top tracks\n",
    "response = requests.get('https://api.spotify.com/v1/artists/55Aa2cqylxrFIXC767Z865/top-tracks?country=US')\n",
    "data = response.json()\n",
    "# print(data.keys())\n",
    "toptracks1 = data['tracks']\n",
    "print(\"*****Lil Wayne's top tracks are:*****\")\n",
    "for item in toptracks1: \n",
    "    print(item['name'])\n",
    "\n",
    "\n",
    "# Find Lil Yachty's id \n",
    "\n",
    "# for artist in artists: \n",
    "#     if artist['name'] == 'Lil Yachty': \n",
    "#         print(artist['id'])\n",
    "    \n",
    "# get data for top tracks and print list of the artists top tracks\n",
    "response = requests.get('https://api.spotify.com/v1/artists/6icQOAFXDZKsumw3YXyusw/top-tracks?country=US')\n",
    "data = response.json()\n",
    "toptracks2 = data['tracks']\n",
    "print(\"*****Lil Yachty's top tracks are:*****\")\n",
    "for item in toptracks2: \n",
    "    print(item['name'])\n"
   ]
  },
  {
   "cell_type": "markdown",
   "metadata": {},
   "source": [
    "6) Will the world explode if a musicians swears? Get an average popularity for their explicit songs vs. their non-explicit songs. How many minutes of explicit songs do they have? Non-explicit?\n"
   ]
  },
  {
   "cell_type": "code",
   "execution_count": 119,
   "metadata": {
    "collapsed": false
   },
   "outputs": [
    {
     "name": "stdout",
     "output_type": "stream",
     "text": [
      "The average popularity for Lil Jon's explicit songs are 54.857142857142854\n",
      "He has 24.620966666666668 minutes of explicit songs\n",
      "The average popularity for Lil Jon's non-explicit songs are 70.66666666666667\n",
      "He has 12.847083333333334 minutes of non-explicit songs\n"
     ]
    }
   ],
   "source": [
    "#changed to Lil Jon because Lil Wayne and Lil Yachty have 100 percent explicit songs\n",
    "\n",
    "# for artist in artists: \n",
    "#     if artist['name'] == 'Lil Jon': \n",
    "#         print(artist['id'])\n",
    "\n",
    "# request data for Lil Jon top tracks\n",
    "response = requests.get('https://api.spotify.com/v1/artists/7sfl4Xt5KmfyDs2T3SVSMK/top-tracks?country=US')\n",
    "data = response.json()\n",
    "toptracks3 = data['tracks']\n",
    "\n",
    "#check dict keys \n",
    "# print(toptracks3[0].keys())\n",
    "\n",
    "# explicit songs \n",
    "explicit_pops = [item['popularity']for item in toptracks3 if item['explicit']]\n",
    "avg_explicit_pop = sum(explicit_pops)/len(explicit_pops)\n",
    "print(\"The average popularity for Lil Jon's explicit songs are\", avg_explicit_pop)\n",
    "\n",
    "explicit_ms = [item['duration_ms'] for item in toptracks3 if item['explicit']]\n",
    "tot_explicit_min = sum(explicit_ms)/60000\n",
    "print(\"He has\", tot_explicit_min, \"minutes of explicit songs\")\n",
    "\n",
    "# non-explicit songs\n",
    "nonexplicit_pops = [item['popularity']for item in toptracks3 if not item['explicit']]\n",
    "avg_nonexplicit_pop = sum(nonexplicit_pops)/len(nonexplicit_pops)\n",
    "print(\"The average popularity for Lil Jon's non-explicit songs are\", avg_nonexplicit_pop)\n",
    "\n",
    "nonexplicit_ms = [item['duration_ms'] for item in toptracks3 if not item['explicit']]\n",
    "tot_nonexplicit_min = sum(nonexplicit_ms)/60000\n",
    "print(\"He has\", tot_nonexplicit_min, \"minutes of non-explicit songs\")\n",
    "\n"
   ]
  },
  {
   "cell_type": "markdown",
   "metadata": {},
   "source": [
    "7) Since we're talking about Lils, what about Biggies? How many total \"Biggie\" artists are there? How many total \"Lil\"s? If you made 1 request every 5 seconds, how long would it take to download information on all the Lils vs the Biggies?\n"
   ]
  },
  {
   "cell_type": "code",
   "execution_count": 168,
   "metadata": {
    "collapsed": false
   },
   "outputs": [
    {
     "name": "stdout",
     "output_type": "stream",
     "text": [
      "{'artists': {'total': 50, 'next': 'https://api.spotify.com/v1/search?query=biggie*&offset=30&limit=20&type=artist', 'href': 'https://api.spotify.com/v1/search?query=biggie*&offset=10&limit=20&type=artist', 'limit': 20, 'previous': 'https://api.spotify.com/v1/search?query=biggie*&offset=0&limit=20&type=artist', 'offset': 10, 'items': [{'type': 'artist', 'uri': 'spotify:artist:0wzeEbcsUKiP1mZLkeC3iB', 'popularity': 0, 'external_urls': {'spotify': 'https://open.spotify.com/artist/0wzeEbcsUKiP1mZLkeC3iB'}, 'followers': {'total': 9, 'href': None}, 'name': 'Mister Biggie', 'id': '0wzeEbcsUKiP1mZLkeC3iB', 'genres': [], 'href': 'https://api.spotify.com/v1/artists/0wzeEbcsUKiP1mZLkeC3iB', 'images': []}, {'type': 'artist', 'uri': 'spotify:artist:0ylErua0QWjJm1xExk8NCa', 'popularity': 0, 'external_urls': {'spotify': 'https://open.spotify.com/artist/0ylErua0QWjJm1xExk8NCa'}, 'followers': {'total': 2, 'href': None}, 'name': 'Biggie & Foldy', 'id': '0ylErua0QWjJm1xExk8NCa', 'genres': [], 'href': 'https://api.spotify.com/v1/artists/0ylErua0QWjJm1xExk8NCa', 'images': [{'url': 'https://i.scdn.co/image/4032748fe023f8340827f3e5536fe727660384d0', 'height': 640, 'width': 640}, {'url': 'https://i.scdn.co/image/7d0abfb01458e34f233fdc1eab0903de562ef915', 'height': 300, 'width': 300}, {'url': 'https://i.scdn.co/image/355b60f390db34a3b48b11c349d2bd7b7e9247c1', 'height': 64, 'width': 64}]}, {'type': 'artist', 'uri': 'spotify:artist:52bcshIAYPMvoEnEmwus6N', 'popularity': 6, 'external_urls': {'spotify': 'https://open.spotify.com/artist/52bcshIAYPMvoEnEmwus6N'}, 'followers': {'total': 21, 'href': None}, 'name': 'Biggie Bash', 'id': '52bcshIAYPMvoEnEmwus6N', 'genres': [], 'href': 'https://api.spotify.com/v1/artists/52bcshIAYPMvoEnEmwus6N', 'images': []}, {'type': 'artist', 'uri': 'spotify:artist:2FU57JKnCnLVaSXaCiTaY8', 'popularity': 2, 'external_urls': {'spotify': 'https://open.spotify.com/artist/2FU57JKnCnLVaSXaCiTaY8'}, 'followers': {'total': 15, 'href': None}, 'name': 'Dj Majah & Blaq Biggie Blaq', 'id': '2FU57JKnCnLVaSXaCiTaY8', 'genres': [], 'href': 'https://api.spotify.com/v1/artists/2FU57JKnCnLVaSXaCiTaY8', 'images': []}, {'type': 'artist', 'uri': 'spotify:artist:3WbEnNpaSNPnYzHRXj73WS', 'popularity': 1, 'external_urls': {'spotify': 'https://open.spotify.com/artist/3WbEnNpaSNPnYzHRXj73WS'}, 'followers': {'total': 12, 'href': None}, 'name': 'Biggie Tembo', 'id': '3WbEnNpaSNPnYzHRXj73WS', 'genres': ['zim'], 'href': 'https://api.spotify.com/v1/artists/3WbEnNpaSNPnYzHRXj73WS', 'images': []}, {'type': 'artist', 'uri': 'spotify:artist:10WpL7wK50c2RMbaSjPAT5', 'popularity': 0, 'external_urls': {'spotify': 'https://open.spotify.com/artist/10WpL7wK50c2RMbaSjPAT5'}, 'followers': {'total': 1, 'href': None}, 'name': 'Louis Biggie', 'id': '10WpL7wK50c2RMbaSjPAT5', 'genres': [], 'href': 'https://api.spotify.com/v1/artists/10WpL7wK50c2RMbaSjPAT5', 'images': [{'url': 'https://i.scdn.co/image/a7830166f311fa73165d7f823dd1043e6d85db4d', 'height': 640, 'width': 640}, {'url': 'https://i.scdn.co/image/19a4a546d23697789736fe8f0940771432b965c7', 'height': 300, 'width': 300}, {'url': 'https://i.scdn.co/image/e79fe8573379b7d7f2eca351cd881830b1af665f', 'height': 64, 'width': 64}]}, {'type': 'artist', 'uri': 'spotify:artist:4KtKqs3wbli7oTsLjpuRKq', 'popularity': 0, 'external_urls': {'spotify': 'https://open.spotify.com/artist/4KtKqs3wbli7oTsLjpuRKq'}, 'followers': {'total': 0, 'href': None}, 'name': 'Biggie Da Roxter', 'id': '4KtKqs3wbli7oTsLjpuRKq', 'genres': [], 'href': 'https://api.spotify.com/v1/artists/4KtKqs3wbli7oTsLjpuRKq', 'images': []}, {'type': 'artist', 'uri': 'spotify:artist:0cExlEbrUiYO6Wq1VDyC0D', 'popularity': 0, 'external_urls': {'spotify': 'https://open.spotify.com/artist/0cExlEbrUiYO6Wq1VDyC0D'}, 'followers': {'total': 6, 'href': None}, 'name': 'Biggie Dutch', 'id': '0cExlEbrUiYO6Wq1VDyC0D', 'genres': [], 'href': 'https://api.spotify.com/v1/artists/0cExlEbrUiYO6Wq1VDyC0D', 'images': [{'url': 'https://i.scdn.co/image/25552a15238824e72d45c7d8e98a695938f42410', 'height': 600, 'width': 600}, {'url': 'https://i.scdn.co/image/52ea1edfecea9695b7a78ead7a060587d363fc48', 'height': 300, 'width': 300}, {'url': 'https://i.scdn.co/image/f0bc3e9276e40c8648f4c2f486567e2c5d93a810', 'height': 64, 'width': 64}]}, {'type': 'artist', 'uri': 'spotify:artist:1BGFuzglzV871bnwTMVLzR', 'popularity': 0, 'external_urls': {'spotify': 'https://open.spotify.com/artist/1BGFuzglzV871bnwTMVLzR'}, 'followers': {'total': 0, 'href': None}, 'name': 'Biggie Dutch feat. Marina Wilde', 'id': '1BGFuzglzV871bnwTMVLzR', 'genres': [], 'href': 'https://api.spotify.com/v1/artists/1BGFuzglzV871bnwTMVLzR', 'images': [{'url': 'https://i.scdn.co/image/87e8136e9371dd78f0e289c358136786aa3c6059', 'height': 600, 'width': 600}, {'url': 'https://i.scdn.co/image/5b3a6db14f1b7f5fc2381d2a84c23ca91813caa7', 'height': 300, 'width': 300}, {'url': 'https://i.scdn.co/image/ccae34918f20d9f63d36c8c6608d426fb033e797', 'height': 64, 'width': 64}]}, {'type': 'artist', 'uri': 'spotify:artist:0cbg8Q3ul7S0EOg53foHP1', 'popularity': 0, 'external_urls': {'spotify': 'https://open.spotify.com/artist/0cbg8Q3ul7S0EOg53foHP1'}, 'followers': {'total': 0, 'href': None}, 'name': 'MC Biggie', 'id': '0cbg8Q3ul7S0EOg53foHP1', 'genres': [], 'href': 'https://api.spotify.com/v1/artists/0cbg8Q3ul7S0EOg53foHP1', 'images': []}, {'type': 'artist', 'uri': 'spotify:artist:7s6FI4ZY7aYqZJTMFZVh5z', 'popularity': 0, 'external_urls': {'spotify': 'https://open.spotify.com/artist/7s6FI4ZY7aYqZJTMFZVh5z'}, 'followers': {'total': 1, 'href': None}, 'name': 'Mr Biggie', 'id': '7s6FI4ZY7aYqZJTMFZVh5z', 'genres': [], 'href': 'https://api.spotify.com/v1/artists/7s6FI4ZY7aYqZJTMFZVh5z', 'images': []}, {'type': 'artist', 'uri': 'spotify:artist:5sOKmPQsWh90sEqdJVj9uA', 'popularity': 0, 'external_urls': {'spotify': 'https://open.spotify.com/artist/5sOKmPQsWh90sEqdJVj9uA'}, 'followers': {'total': 0, 'href': None}, 'name': 'Biggie & Anjay', 'id': '5sOKmPQsWh90sEqdJVj9uA', 'genres': [], 'href': 'https://api.spotify.com/v1/artists/5sOKmPQsWh90sEqdJVj9uA', 'images': []}, {'type': 'artist', 'uri': 'spotify:artist:01ETg7HperPOO5SIFjSMns', 'popularity': 2, 'external_urls': {'spotify': 'https://open.spotify.com/artist/01ETg7HperPOO5SIFjSMns'}, 'followers': {'total': 8, 'href': None}, 'name': 'Balder & Biggie', 'id': '01ETg7HperPOO5SIFjSMns', 'genres': [], 'href': 'https://api.spotify.com/v1/artists/01ETg7HperPOO5SIFjSMns', 'images': [{'url': 'https://i.scdn.co/image/98c54d150b5cfb3b28a30063100bcdc5111503ea', 'height': 640, 'width': 640}, {'url': 'https://i.scdn.co/image/08ad6f980407747e448115f1ab139b26fc95e1ae', 'height': 300, 'width': 300}, {'url': 'https://i.scdn.co/image/5d24c33c9f0d70883017c2062e86fa3a730c3dbf', 'height': 64, 'width': 64}]}, {'type': 'artist', 'uri': 'spotify:artist:6XgdbcdYU6UX6VXb58CuSq', 'popularity': 0, 'external_urls': {'spotify': 'https://open.spotify.com/artist/6XgdbcdYU6UX6VXb58CuSq'}, 'followers': {'total': 5, 'href': None}, 'name': 'Poppa Biggie', 'id': '6XgdbcdYU6UX6VXb58CuSq', 'genres': [], 'href': 'https://api.spotify.com/v1/artists/6XgdbcdYU6UX6VXb58CuSq', 'images': [{'url': 'https://i.scdn.co/image/b928544e91e2168c99d8bfe0fa6523b1a46678fd', 'height': 640, 'width': 640}, {'url': 'https://i.scdn.co/image/47839f58562030a11d06ee5f973c48b95a22de2b', 'height': 300, 'width': 300}, {'url': 'https://i.scdn.co/image/26eff86e3e88431d2a51d41f6ff8d70790f91849', 'height': 64, 'width': 64}]}, {'type': 'artist', 'uri': 'spotify:artist:0d6ZzL7oqz1yvwLPBnYthO', 'popularity': 0, 'external_urls': {'spotify': 'https://open.spotify.com/artist/0d6ZzL7oqz1yvwLPBnYthO'}, 'followers': {'total': 0, 'href': None}, 'name': 'Biggie Mic', 'id': '0d6ZzL7oqz1yvwLPBnYthO', 'genres': [], 'href': 'https://api.spotify.com/v1/artists/0d6ZzL7oqz1yvwLPBnYthO', 'images': []}, {'type': 'artist', 'uri': 'spotify:artist:1rzXoaOU1vD7hbsRJpMhIQ', 'popularity': 0, 'external_urls': {'spotify': 'https://open.spotify.com/artist/1rzXoaOU1vD7hbsRJpMhIQ'}, 'followers': {'total': 0, 'href': None}, 'name': 'Babie Biggie', 'id': '1rzXoaOU1vD7hbsRJpMhIQ', 'genres': [], 'href': 'https://api.spotify.com/v1/artists/1rzXoaOU1vD7hbsRJpMhIQ', 'images': []}, {'type': 'artist', 'uri': 'spotify:artist:1F5YvPFuHD09sUf61xhMPp', 'popularity': 0, 'external_urls': {'spotify': 'https://open.spotify.com/artist/1F5YvPFuHD09sUf61xhMPp'}, 'followers': {'total': 0, 'href': None}, 'name': 'Biggie Moe', 'id': '1F5YvPFuHD09sUf61xhMPp', 'genres': [], 'href': 'https://api.spotify.com/v1/artists/1F5YvPFuHD09sUf61xhMPp', 'images': []}, {'type': 'artist', 'uri': 'spotify:artist:1TZAZqjCNXzW5bd9ZZFRfr', 'popularity': 0, 'external_urls': {'spotify': 'https://open.spotify.com/artist/1TZAZqjCNXzW5bd9ZZFRfr'}, 'followers': {'total': 0, 'href': None}, 'name': 'MC Biggiedoy', 'id': '1TZAZqjCNXzW5bd9ZZFRfr', 'genres': [], 'href': 'https://api.spotify.com/v1/artists/1TZAZqjCNXzW5bd9ZZFRfr', 'images': []}, {'type': 'artist', 'uri': 'spotify:artist:46Qf7VZQKEDy14dJF70j7N', 'popularity': 0, 'external_urls': {'spotify': 'https://open.spotify.com/artist/46Qf7VZQKEDy14dJF70j7N'}, 'followers': {'total': 0, 'href': None}, 'name': 'Biggie Lu', 'id': '46Qf7VZQKEDy14dJF70j7N', 'genres': [], 'href': 'https://api.spotify.com/v1/artists/46Qf7VZQKEDy14dJF70j7N', 'images': [{'url': 'https://i.scdn.co/image/33bc566e51dc8e10699fb7f5dd62c922d867317e', 'height': 640, 'width': 640}, {'url': 'https://i.scdn.co/image/ab5f1fb81a6f912109e02774b6ce17566995b6ca', 'height': 300, 'width': 300}, {'url': 'https://i.scdn.co/image/b07c2ac0fea586e2577f60895eb93abd296078cf', 'height': 64, 'width': 64}]}, {'type': 'artist', 'uri': 'spotify:artist:0Rn34aKuTIzRiXrkh7o9or', 'popularity': 0, 'external_urls': {'spotify': 'https://open.spotify.com/artist/0Rn34aKuTIzRiXrkh7o9or'}, 'followers': {'total': 3, 'href': None}, 'name': 'Biggie Bandit', 'id': '0Rn34aKuTIzRiXrkh7o9or', 'genres': [], 'href': 'https://api.spotify.com/v1/artists/0Rn34aKuTIzRiXrkh7o9or', 'images': [{'url': 'https://i.scdn.co/image/b6100be209469688c1a96f9ef3ad8d240ffe67fc', 'height': 640, 'width': 640}, {'url': 'https://i.scdn.co/image/8a4333f6c50ecbb5c467d31a5ef7b125415f1ad2', 'height': 300, 'width': 300}, {'url': 'https://i.scdn.co/image/db7ee2a8fe5b00116a8504d610df7c9f9c77ca4e', 'height': 64, 'width': 64}]}]}}\n",
      "20\n"
     ]
    }
   ],
   "source": [
    "response = requests.get(\"https://api.spotify.com/v1/search?q=biggie*&type=artist&limit=50\")\n",
    "data = response.json()\n",
    "print(data)\n",
    "artists = data['artists']['items']\n",
    "artist_name=[item['name'] for item in artists]\n",
    "print(len(artist_name))"
   ]
  },
  {
   "cell_type": "markdown",
   "metadata": {},
   "source": [
    "8) Out of the top 50 \"Lil\"s and the top 50 \"Biggie\"s, who is more popular on average?\n"
   ]
  },
  {
   "cell_type": "code",
   "execution_count": null,
   "metadata": {
    "collapsed": true
   },
   "outputs": [],
   "source": []
  }
 ],
 "metadata": {
  "kernelspec": {
   "display_name": "Python 3",
   "language": "python",
   "name": "python3"
  },
  "language_info": {
   "codemirror_mode": {
    "name": "ipython",
    "version": 3
   },
   "file_extension": ".py",
   "mimetype": "text/x-python",
   "name": "python",
   "nbconvert_exporter": "python",
   "pygments_lexer": "ipython3",
   "version": "3.5.1"
  }
 },
 "nbformat": 4,
 "nbformat_minor": 0
}
