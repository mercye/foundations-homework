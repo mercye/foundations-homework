{
 "cells": [
  {
   "cell_type": "markdown",
   "metadata": {},
   "source": [
<<<<<<< HEAD:05/Spotify.ipynb
    "#### 1) With \"Lil Wayne\" and \"Lil Kim\" there are a lot of \"Lil\" musicians. Do a search and print a list of 50 that are playable in the USA (or the country of your choice), along with their popularity score."
=======
    "Graded = 3/8"
   ]
  },
  {
   "cell_type": "markdown",
   "metadata": {},
   "source": [
    "1) With \"Lil Wayne\" and \"Lil Kim\" there are a lot of \"Lil\" musicians. Do a search and print a list of 50 that are playable in the USA (or the country of your choice), along with their popularity score."
>>>>>>> c270819fe09b36a29b783c3dd898552d234e7661:05/.ipynb_checkpoints/Spotify_graded-checkpoint.ipynb
   ]
  },
  {
   "cell_type": "code",
<<<<<<< HEAD:05/Spotify.ipynb
   "execution_count": 4,
=======
   "execution_count": 2,
>>>>>>> c270819fe09b36a29b783c3dd898552d234e7661:05/.ipynb_checkpoints/Spotify_graded-checkpoint.ipynb
   "metadata": {
    "collapsed": false
   },
   "outputs": [
    {
     "name": "stdout",
     "output_type": "stream",
     "text": [
      "Lil Wayne 86\n",
      "Lil Yachty 74\n",
      "Lil Uzi Vert 74\n",
      "Lil Dicky 69\n",
      "Boosie Badazz 67\n",
      "Lil Jon 72\n",
      "King Lil G 61\n",
      "Lil Durk 60\n",
      "Lil Jon & The East Side Boyz 60\n",
      "Lil Bibby 54\n",
      "G Herbo 53\n",
      "Lil Rob 50\n",
      "Lil Reese 50\n",
      "Lil Scrappy 50\n",
      "Bow Wow 57\n",
      "Lil Keke 48\n",
      "Lil Wyte 50\n",
      "Lil Blood 46\n",
      "Lil Snupe 45\n",
      "Lil Mama 45\n",
      "Lil Boom 46\n",
      "Lil B 44\n",
      "Lil' Kim 62\n",
      "Lil Cuete 40\n",
      "Lil Phat 40\n",
      "Lil Debbie 43\n",
      "Lil Twist 40\n",
      "Lil Trill 37\n",
      "Lil Goofy 36\n",
      "Lil Lonnie 37\n",
      "Lil AJ 37\n",
      "Lil Haiti 38\n",
      "Lil Cray 36\n",
      "Lil Twon 36\n",
      "Mr. Lil One 36\n",
      "Lil Mouse 35\n",
      "Lil Silva 43\n",
      "Lil Yase 34\n",
      "Lil Flash 38\n",
      "Lil Suzy 34\n",
      "Lil Eddie 41\n",
      "Lil Rue 34\n",
      "Lil Kesh 39\n",
      "Lil Wayne, DJ Drama 35\n",
      "Lil C 33\n",
      "Lil Rick 39\n",
      "Lil E 35\n",
      "Lil June 32\n",
      "Lil Fate 34\n",
      "Lil' Flip 50\n"
     ]
    }
   ],
   "source": [
    "import requests\n",
    "\n",
    "# query = 'lil' type = 'artist' number of responses(limit) = '50' market = 'US'\n",
    "response = requests.get('https://api.spotify.com/v1/search?q=lil&type=artist&limit=50&market=US')\n",
    "\n",
    "# data is a string, usejson\n",
    "data = response.json()\n",
    "\n",
    "# print(type(data))\n",
    "# print(data.keys())\n",
    "# print(type(data['artists']))\n",
    "# print(data['artists'].keys())\n",
    "\n",
    "artists = data['artists']['items']\n",
    "\n",
    "# print(type(artists))\n",
    "\n",
    "for item in artists: \n",
    "    print(artist['name'], artist['popularity'])\n",
    "    \n"
   ]
  },
  {
   "cell_type": "markdown",
   "metadata": {},
   "source": [
    "#### 2) What genres are most represented in the search results? Edit your previous printout to also display a list of their genres in the format \"GENRE_1, GENRE_2, GENRE_3\". If there are no genres, print \"No genres listed\".\n",
    "Tip: \"how to join a list Python\" might be a helpful search"
   ]
  },
  {
   "cell_type": "code",
<<<<<<< HEAD:05/Spotify.ipynb
   "execution_count": 5,
=======
   "execution_count": 3,
>>>>>>> c270819fe09b36a29b783c3dd898552d234e7661:05/.ipynb_checkpoints/Spotify_graded-checkpoint.ipynb
   "metadata": {
    "collapsed": false,
    "scrolled": true
   },
   "outputs": [
    {
     "name": "stdout",
     "output_type": "stream",
     "text": [
      "Lil Wayne 86\n",
      "Genre list: dirty south rap, pop rap, southern hip hop, trap music\n",
      "Lil Yachty 74\n",
      "No genres listed\n",
      "Lil Uzi Vert 74\n",
      "No genres listed\n",
      "Lil Dicky 69\n",
      "No genres listed\n",
      "Boosie Badazz 67\n",
      "No genres listed\n",
      "Lil Jon 72\n",
      "Genre list: crunk, dirty south rap, southern hip hop\n",
      "King Lil G 61\n",
      "No genres listed\n",
      "Lil Durk 60\n",
      "No genres listed\n",
      "Lil Jon & The East Side Boyz 60\n",
      "No genres listed\n",
      "Lil Bibby 54\n",
      "No genres listed\n",
      "G Herbo 53\n",
      "No genres listed\n",
      "Lil Rob 50\n",
      "Genre list: chicano rap, latin hip hop\n",
      "Lil Reese 50\n",
      "No genres listed\n",
      "Lil Scrappy 50\n",
      "Genre list: crunk, dirty south rap, southern hip hop, trap music\n",
      "Bow Wow 57\n",
      "Genre list: hip pop, pop rap\n",
      "Lil Keke 48\n",
      "No genres listed\n",
      "Lil Wyte 50\n",
      "Genre list: juggalo\n",
      "Lil Blood 46\n",
      "No genres listed\n",
      "Lil Snupe 45\n",
      "No genres listed\n",
      "Lil Mama 45\n",
      "Genre list: hip pop\n",
      "Lil Boom 46\n",
      "No genres listed\n",
      "Lil B 44\n",
      "No genres listed\n",
      "Lil' Kim 62\n",
      "Genre list: hip pop\n",
      "Lil Cuete 40\n",
      "Genre list: chicano rap\n",
      "Lil Phat 40\n",
      "No genres listed\n",
      "Lil Debbie 43\n",
      "No genres listed\n",
      "Lil Twist 40\n",
      "Genre list: jerk\n",
      "Lil Trill 37\n",
      "Genre list: deep trap\n",
      "Lil Goofy 36\n",
      "No genres listed\n",
      "Lil Lonnie 37\n",
      "No genres listed\n",
      "Lil AJ 37\n",
      "No genres listed\n",
      "Lil Haiti 38\n",
      "No genres listed\n",
      "Lil Cray 36\n",
      "No genres listed\n",
      "Lil Twon 36\n",
      "No genres listed\n",
      "Mr. Lil One 36\n",
      "Genre list: chicano rap\n",
      "Lil Mouse 35\n",
      "No genres listed\n",
      "Lil Silva 43\n",
      "No genres listed\n",
      "Lil Yase 34\n",
      "No genres listed\n",
      "Lil Flash 38\n",
      "No genres listed\n",
      "Lil Suzy 34\n",
      "Genre list: freestyle\n",
      "Lil Eddie 41\n",
      "No genres listed\n",
      "Lil Rue 34\n",
      "No genres listed\n",
      "Lil Kesh 39\n",
      "No genres listed\n",
      "Lil Wayne, DJ Drama 35\n",
      "No genres listed\n",
      "Lil C 33\n",
      "No genres listed\n",
      "Lil Rick 39\n",
      "Genre list: soca\n",
      "Lil E 35\n",
      "No genres listed\n",
      "Lil June 32\n",
      "No genres listed\n",
      "Lil Fate 34\n",
      "No genres listed\n",
      "Lil' Flip 50\n",
      "Genre list: crunk, dirty south rap\n"
     ]
    }
   ],
   "source": [
    "for item in artists: \n",
    "    print(artist['name'], artist['popularity'])\n",
    "    if len(artist['genres']) == 0: \n",
    "        print(\"No genres listed\")\n",
    "    else: \n",
    "        genres = (\", \".join(artist['genres']))\n",
    "        print(\"Genre list:\", genres)"
   ]
  },
  {
   "cell_type": "markdown",
   "metadata": {},
   "source": [
    "#### 3) Use a for loop to determine who BESIDES Lil Wayne has the highest popularity rating. Is it the same artist who has the largest number of followers?"
   ]
  },
  {
   "cell_type": "code",
<<<<<<< HEAD:05/Spotify.ipynb
   "execution_count": 6,
=======
   "execution_count": 4,
>>>>>>> c270819fe09b36a29b783c3dd898552d234e7661:05/.ipynb_checkpoints/Spotify_graded-checkpoint.ipynb
   "metadata": {
    "collapsed": false,
    "scrolled": true
   },
   "outputs": [
    {
     "name": "stdout",
     "output_type": "stream",
     "text": [
<<<<<<< HEAD:05/Spotify.ipynb
      "{'popularity': 86, 'uri': 'spotify:artist:55Aa2cqylxrFIXC767Z865', 'href': 'https://api.spotify.com/v1/artists/55Aa2cqylxrFIXC767Z865', 'name': 'Lil Wayne', 'followers': {'total': 2634767, 'href': None}, 'genres': ['dirty south rap', 'pop rap', 'southern hip hop', 'trap music'], 'external_urls': {'spotify': 'https://open.spotify.com/artist/55Aa2cqylxrFIXC767Z865'}, 'images': [{'height': 1239, 'width': 1000, 'url': 'https://i.scdn.co/image/cf012139c3b8681b46a66bae70558a8a336ab231'}, {'height': 793, 'width': 640, 'url': 'https://i.scdn.co/image/fffd48d60e27901f6e9ce99423f045cb2b893944'}, {'height': 248, 'width': 200, 'url': 'https://i.scdn.co/image/bf03141629c202e94b206f1374a39326a9d8c6ca'}, {'height': 79, 'width': 64, 'url': 'https://i.scdn.co/image/521f99f2469883b8806a69a3a2487fdd983bd621'}], 'id': '55Aa2cqylxrFIXC767Z865', 'type': 'artist'}\n"
=======
      "{'genres': ['dirty south rap', 'pop rap', 'southern hip hop', 'trap music'], 'popularity': 86, 'images': [{'url': 'https://i.scdn.co/image/cf012139c3b8681b46a66bae70558a8a336ab231', 'width': 1000, 'height': 1239}, {'url': 'https://i.scdn.co/image/fffd48d60e27901f6e9ce99423f045cb2b893944', 'width': 640, 'height': 793}, {'url': 'https://i.scdn.co/image/bf03141629c202e94b206f1374a39326a9d8c6ca', 'width': 200, 'height': 248}, {'url': 'https://i.scdn.co/image/521f99f2469883b8806a69a3a2487fdd983bd621', 'width': 64, 'height': 79}], 'external_urls': {'spotify': 'https://open.spotify.com/artist/55Aa2cqylxrFIXC767Z865'}, 'type': 'artist', 'uri': 'spotify:artist:55Aa2cqylxrFIXC767Z865', 'followers': {'href': None, 'total': 2634236}, 'name': 'Lil Wayne', 'href': 'https://api.spotify.com/v1/artists/55Aa2cqylxrFIXC767Z865', 'id': '55Aa2cqylxrFIXC767Z865'}\n"
>>>>>>> c270819fe09b36a29b783c3dd898552d234e7661:05/.ipynb_checkpoints/Spotify_graded-checkpoint.ipynb
     ]
    }
   ],
   "source": [
    "#checking out structure of the dictionary \n",
    "print(artists[0])"
   ]
  },
  {
   "cell_type": "code",
<<<<<<< HEAD:05/Spotify.ipynb
   "execution_count": 51,
=======
   "execution_count": 5,
>>>>>>> c270819fe09b36a29b783c3dd898552d234e7661:05/.ipynb_checkpoints/Spotify_graded-checkpoint.ipynb
   "metadata": {
    "collapsed": false
   },
   "outputs": [
    {
<<<<<<< HEAD:05/Spotify.ipynb
     "ename": "TypeError",
     "evalue": "list indices must be integers or slices, not str",
     "output_type": "error",
     "traceback": [
      "\u001b[0;31m---------------------------------------------------------------------------\u001b[0m",
      "\u001b[0;31mTypeError\u001b[0m                                 Traceback (most recent call last)",
      "\u001b[0;32m<ipython-input-51-420bdefa19b4>\u001b[0m in \u001b[0;36m<module>\u001b[0;34m()\u001b[0m\n\u001b[1;32m      1\u001b[0m \u001b[0;32mif\u001b[0m \u001b[0martist\u001b[0m\u001b[0;34m[\u001b[0m\u001b[0;34m'popularity'\u001b[0m\u001b[0;34m]\u001b[0m \u001b[0;34m<\u001b[0m \u001b[0;36m86\u001b[0m\u001b[0;34m:\u001b[0m\u001b[0;34m\u001b[0m\u001b[0m\n\u001b[1;32m      2\u001b[0m     \u001b[0mvalues\u001b[0m \u001b[0;34m=\u001b[0m \u001b[0martist\u001b[0m\u001b[0;34m.\u001b[0m\u001b[0mvalues\u001b[0m\u001b[0;34m(\u001b[0m\u001b[0;34m)\u001b[0m\u001b[0;34m\u001b[0m\u001b[0m\n\u001b[0;32m----> 3\u001b[0;31m     \u001b[0msmallestKey\u001b[0m \u001b[0;34m=\u001b[0m \u001b[0mmin\u001b[0m\u001b[0;34m(\u001b[0m\u001b[0martist\u001b[0m\u001b[0;34m[\u001b[0m\u001b[0;34m'followers'\u001b[0m\u001b[0;34m]\u001b[0m\u001b[0;34m,\u001b[0m \u001b[0mkey\u001b[0m\u001b[0;34m=\u001b[0m\u001b[0martists\u001b[0m\u001b[0;34m[\u001b[0m\u001b[0;34m'followers'\u001b[0m\u001b[0;34m]\u001b[0m\u001b[0;34m.\u001b[0m\u001b[0mget\u001b[0m\u001b[0;34m)\u001b[0m\u001b[0;34m\u001b[0m\u001b[0m\n\u001b[0m\u001b[1;32m      4\u001b[0m \u001b[0;34m\u001b[0m\u001b[0m\n\u001b[1;32m      5\u001b[0m \u001b[0;34m\u001b[0m\u001b[0m\n",
      "\u001b[0;31mTypeError\u001b[0m: list indices must be integers or slices, not str"
=======
     "name": "stdout",
     "output_type": "stream",
     "text": [
      "Lil Yachty 74 43779\n",
      "Lil Uzi Vert 74 66016\n",
      "Lil Dicky 69 233944\n",
      "Boosie Badazz 67 222111\n",
      "Lil Jon 72 257173\n",
      "King Lil G 61 65470\n",
      "Lil Durk 60 135511\n",
      "Lil Jon & The East Side Boyz 60 17246\n",
      "Lil Bibby 54 44838\n",
      "G Herbo 53 52609\n",
      "Lil Rob 50 36217\n",
      "Lil Reese 50 24047\n",
      "Lil Scrappy 50 27287\n",
      "Bow Wow 57 119172\n",
      "Lil Keke 48 18943\n",
      "Lil Wyte 50 31352\n",
      "Lil Blood 46 5598\n",
      "Lil Snupe 45 34371\n",
      "Lil Mama 45 21259\n",
      "Lil Boom 46 316\n",
      "Lil B 44 260\n",
      "Lil' Kim 62 70830\n",
      "Lil Cuete 40 15692\n",
      "Lil Phat 40 5387\n",
      "Lil Debbie 43 14647\n",
      "Lil Twist 40 14856\n",
      "Lil Trill 37 2144\n",
      "Lil Goofy 36 1358\n",
      "Lil Lonnie 37 1438\n",
      "Lil AJ 37 915\n",
      "Lil Haiti 38 753\n",
      "Lil Cray 36 1030\n",
      "Lil Twon 36 335\n",
      "Mr. Lil One 36 4773\n",
      "Lil Mouse 35 16406\n",
      "Lil Silva 43 9570\n",
      "Lil Yase 34 1182\n",
      "Lil Flash 38 1796\n",
      "Lil Suzy 34 5953\n",
      "Lil Eddie 41 1642\n",
      "Lil Rue 34 3308\n",
      "Lil Kesh 39 1700\n",
      "Lil Wayne, DJ Drama 35 12923\n",
      "Lil C 33 1714\n",
      "Lil Rick 39 1841\n",
      "Lil E 35 143\n",
      "Lil June 32 1441\n",
      "Lil Fate 34 113\n",
      "Lil' Flip 50 20115\n"
>>>>>>> c270819fe09b36a29b783c3dd898552d234e7661:05/.ipynb_checkpoints/Spotify_graded-checkpoint.ipynb
     ]
    }
   ],
   "source": [
<<<<<<< HEAD:05/Spotify.ipynb
    "\n",
    "    \n",
    "print(values)"
=======
    "for artist in artists: \n",
    "    if artist['popularity'] < 86:\n",
    "            print(artist['name'], artist['popularity'], artist['followers']['total'])\n",
    "#TA-Stephan: Did not display who has the second highest popularity.        "
>>>>>>> c270819fe09b36a29b783c3dd898552d234e7661:05/.ipynb_checkpoints/Spotify_graded-checkpoint.ipynb
   ]
  },
  {
   "cell_type": "markdown",
   "metadata": {},
   "source": [
    "#### 4) Print a list of Lil's that are more popular than Lil' Kim."
   ]
  },
  {
   "cell_type": "code",
<<<<<<< HEAD:05/Spotify.ipynb
   "execution_count": null,
   "metadata": {
    "collapsed": false
   },
   "outputs": [],
=======
   "execution_count": 6,
   "metadata": {
    "collapsed": false
   },
   "outputs": [
    {
     "name": "stdout",
     "output_type": "stream",
     "text": [
      "Lil' Kim 62\n",
      "***SO, ANY ARTIST WITH A SCORE GREATER THAN 62 IS MORE POPULAR THAN LIL KIM***\n",
      "Looking at Lil Wayne who has a popularity of 86\n",
      "!!!! The artist popularity greater than 62\n",
      "Looking at Lil Yachty who has a popularity of 74\n",
      "!!!! The artist popularity greater than 62\n",
      "Looking at Lil Uzi Vert who has a popularity of 74\n",
      "!!!! The artist popularity greater than 62\n",
      "Looking at Lil Dicky who has a popularity of 69\n",
      "!!!! The artist popularity greater than 62\n",
      "Looking at Boosie Badazz who has a popularity of 67\n",
      "!!!! The artist popularity greater than 62\n",
      "Looking at Lil Jon who has a popularity of 72\n",
      "!!!! The artist popularity greater than 62\n",
      "Looking at King Lil G who has a popularity of 61\n",
      "Looking at Lil Durk who has a popularity of 60\n",
      "Looking at Lil Jon & The East Side Boyz who has a popularity of 60\n",
      "Looking at Lil Bibby who has a popularity of 54\n",
      "Looking at G Herbo who has a popularity of 53\n",
      "Looking at Lil Rob who has a popularity of 50\n",
      "Looking at Lil Reese who has a popularity of 50\n",
      "Looking at Lil Scrappy who has a popularity of 50\n",
      "Looking at Bow Wow who has a popularity of 57\n",
      "Looking at Lil Keke who has a popularity of 48\n",
      "Looking at Lil Wyte who has a popularity of 50\n",
      "Looking at Lil Blood who has a popularity of 46\n",
      "Looking at Lil Snupe who has a popularity of 45\n",
      "Looking at Lil Mama who has a popularity of 45\n",
      "Looking at Lil Boom who has a popularity of 46\n",
      "Looking at Lil B who has a popularity of 44\n",
      "Looking at Lil' Kim who has a popularity of 62\n",
      "Looking at Lil Cuete who has a popularity of 40\n",
      "Looking at Lil Phat who has a popularity of 40\n",
      "Looking at Lil Debbie who has a popularity of 43\n",
      "Looking at Lil Twist who has a popularity of 40\n",
      "Looking at Lil Trill who has a popularity of 37\n",
      "Looking at Lil Goofy who has a popularity of 36\n",
      "Looking at Lil Lonnie who has a popularity of 37\n",
      "Looking at Lil AJ who has a popularity of 37\n",
      "Looking at Lil Haiti who has a popularity of 38\n",
      "Looking at Lil Cray who has a popularity of 36\n",
      "Looking at Lil Twon who has a popularity of 36\n",
      "Looking at Mr. Lil One who has a popularity of 36\n",
      "Looking at Lil Mouse who has a popularity of 35\n",
      "Looking at Lil Silva who has a popularity of 43\n",
      "Looking at Lil Yase who has a popularity of 34\n",
      "Looking at Lil Flash who has a popularity of 38\n",
      "Looking at Lil Suzy who has a popularity of 34\n",
      "Looking at Lil Eddie who has a popularity of 41\n",
      "Looking at Lil Rue who has a popularity of 34\n",
      "Looking at Lil Kesh who has a popularity of 39\n",
      "Looking at Lil Wayne, DJ Drama who has a popularity of 35\n",
      "Looking at Lil C who has a popularity of 33\n",
      "Looking at Lil Rick who has a popularity of 39\n",
      "Looking at Lil E who has a popularity of 35\n",
      "Looking at Lil June who has a popularity of 32\n",
      "Looking at Lil Fate who has a popularity of 34\n",
      "Looking at Lil' Flip who has a popularity of 50\n",
      "***OUR ARTISTS WHO ARE MORE POPULAR THAN LIL KIM ARE: \n",
      "Lil Wayne\n",
      "Lil Yachty\n",
      "Lil Uzi Vert\n",
      "Lil Dicky\n",
      "Boosie Badazz\n",
      "Lil Jon\n"
     ]
    }
   ],
>>>>>>> c270819fe09b36a29b783c3dd898552d234e7661:05/.ipynb_checkpoints/Spotify_graded-checkpoint.ipynb
   "source": [
    "for artist in artists: \n",
    "    if artist['name'] == \"Lil' Kim\": \n",
    "        print (artist['name'], artist['popularity'])\n",
    "    \n",
    "target_score = 62\n",
    "\n",
    "print('***ANY ARTIST WITH A SCORE GREATER THAN 62 IS MORE POPULAR THAN LIL KIM***')\n",
    "\n",
    "more_popular = []\n",
    "\n",
    "for artist in artists: \n",
    "    print (\"Looking at\", artist['name'], \"who has a popularity of\", artist['popularity'])\n",
    "    if artist['popularity'] > 62: \n",
    "        print ('!!!! The artist popularity greater than 62')\n",
    "        more_popular.append(artist['name'])\n",
    "        \n",
    "print(\"***OUR ARTISTS WHO ARE MORE POPULAR THAN LIL KIM ARE: \")\n",
    "for artist in more_popular: \n",
    "    print(artist)"
   ]
  },
  {
   "cell_type": "markdown",
   "metadata": {},
   "source": [
    "#### 5) Pick two of your favorite Lils to fight it out, and use their IDs to print out their top tracks.\n",
    "Tip: You're going to be making two separate requests, be sure you DO NOT save them into the same variable."
   ]
  },
  {
   "cell_type": "code",
<<<<<<< HEAD:05/Spotify.ipynb
   "execution_count": null,
   "metadata": {
    "collapsed": false
   },
   "outputs": [],
=======
   "execution_count": 7,
   "metadata": {
    "collapsed": false
   },
   "outputs": [
    {
     "name": "stdout",
     "output_type": "stream",
     "text": [
      "Lil Wayne has: ['dirty south rap', 'pop rap', 'southern hip hop', 'trap music']\n",
      "['dirty south rap', 'pop rap', 'southern hip hop', 'trap music']\n",
      "Lil Yachty has: []\n",
      "[]\n",
      "Lil Uzi Vert has: []\n",
      "[]\n",
      "Lil Dicky has: []\n",
      "[]\n",
      "Boosie Badazz has: []\n",
      "[]\n",
      "Lil Jon has: ['crunk', 'dirty south rap', 'southern hip hop']\n",
      "['crunk', 'dirty south rap', 'southern hip hop']\n",
      "King Lil G has: []\n",
      "[]\n",
      "Lil Durk has: []\n",
      "[]\n",
      "Lil Jon & The East Side Boyz has: []\n",
      "[]\n",
      "Lil Bibby has: []\n",
      "[]\n",
      "G Herbo has: []\n",
      "[]\n",
      "Lil Rob has: ['chicano rap', 'latin hip hop']\n",
      "['chicano rap', 'latin hip hop']\n",
      "Lil Reese has: []\n",
      "[]\n",
      "Lil Scrappy has: ['crunk', 'dirty south rap', 'southern hip hop', 'trap music']\n",
      "['crunk', 'dirty south rap', 'southern hip hop', 'trap music']\n",
      "Bow Wow has: ['hip pop', 'pop rap']\n",
      "['hip pop', 'pop rap']\n",
      "Lil Keke has: []\n",
      "[]\n",
      "Lil Wyte has: ['juggalo']\n",
      "['juggalo']\n",
      "Lil Blood has: []\n",
      "[]\n",
      "Lil Snupe has: []\n",
      "[]\n",
      "Lil Mama has: ['hip pop']\n",
      "['hip pop']\n",
      "Lil Boom has: []\n",
      "[]\n",
      "Lil B has: []\n",
      "[]\n",
      "Lil' Kim has: ['hip pop']\n",
      "['hip pop']\n",
      "Lil Cuete has: ['chicano rap']\n",
      "['chicano rap']\n",
      "Lil Phat has: []\n",
      "[]\n",
      "Lil Debbie has: []\n",
      "[]\n",
      "Lil Twist has: ['jerk']\n",
      "['jerk']\n",
      "Lil Trill has: ['deep trap']\n",
      "['deep trap']\n",
      "Lil Goofy has: []\n",
      "[]\n",
      "Lil Lonnie has: []\n",
      "[]\n",
      "Lil AJ has: []\n",
      "[]\n",
      "Lil Haiti has: []\n",
      "[]\n",
      "Lil Cray has: []\n",
      "[]\n",
      "Lil Twon has: []\n",
      "[]\n",
      "Mr. Lil One has: ['chicano rap']\n",
      "['chicano rap']\n",
      "Lil Mouse has: []\n",
      "[]\n",
      "Lil Silva has: []\n",
      "[]\n",
      "Lil Yase has: []\n",
      "[]\n",
      "Lil Flash has: []\n",
      "[]\n",
      "Lil Suzy has: ['freestyle']\n",
      "['freestyle']\n",
      "Lil Eddie has: []\n",
      "[]\n",
      "Lil Rue has: []\n",
      "[]\n",
      "Lil Kesh has: []\n",
      "[]\n",
      "Lil Wayne, DJ Drama has: []\n",
      "[]\n",
      "Lil C has: []\n",
      "[]\n",
      "Lil Rick has: ['soca']\n",
      "['soca']\n",
      "Lil E has: []\n",
      "[]\n",
      "Lil June has: []\n",
      "[]\n",
      "Lil Fate has: []\n",
      "[]\n",
      "Lil' Flip has: ['crunk', 'dirty south rap']\n",
      "['crunk', 'dirty south rap']\n",
      "['dirty south rap', 'pop rap', 'southern hip hop', 'trap music', 'crunk', 'dirty south rap', 'southern hip hop', 'chicano rap', 'latin hip hop', 'crunk', 'dirty south rap', 'southern hip hop', 'trap music', 'hip pop', 'pop rap', 'juggalo', 'hip pop', 'hip pop', 'chicano rap', 'jerk', 'deep trap', 'chicano rap', 'freestyle', 'soca', 'crunk', 'dirty south rap']\n"
     ]
    },
    {
     "data": {
      "text/plain": [
       "<function all>"
      ]
     },
     "execution_count": 7,
     "metadata": {},
     "output_type": "execute_result"
    }
   ],
>>>>>>> c270819fe09b36a29b783c3dd898552d234e7661:05/.ipynb_checkpoints/Spotify_graded-checkpoint.ipynb
   "source": [
    "#TA - Stephan: Want to print out top tracks, not genres\n",
    "\n",
    "all_genres = []\n",
    "\n",
    "for artist in artists: \n",
    "    print( artist['name'],'has:', artist['genres'])\n",
    "    print(artist['genres'])\n",
    "    all_genres = all_genres + artist['genres']\n",
    "print(all_genres)\n",
    "\n",
    "all"
   ]
  },
  {
   "cell_type": "code",
<<<<<<< HEAD:05/Spotify.ipynb
   "execution_count": null,
   "metadata": {
    "collapsed": false
   },
   "outputs": [],
=======
   "execution_count": 8,
   "metadata": {
    "collapsed": false
   },
   "outputs": [
    {
     "name": "stdout",
     "output_type": "stream",
     "text": [
      "crunk shows up 3 times\n"
     ]
    },
    {
     "data": {
      "text/plain": [
       "[('dirty south rap', 4), ('southern hip hop', 3), ('chicano rap', 3)]"
      ]
     },
     "execution_count": 8,
     "metadata": {},
     "output_type": "execute_result"
    }
   ],
>>>>>>> c270819fe09b36a29b783c3dd898552d234e7661:05/.ipynb_checkpoints/Spotify_graded-checkpoint.ipynb
   "source": [
    "#There's a library that comes with Python called Collections. Contains counter. \n",
    "import collections\n",
    "counts = collections.Counter(all_genres)\n",
    "print('crunk shows up', counts['crunk'], 'times')\n",
    "counts.most_common(3)"
   ]
  },
  {
   "cell_type": "markdown",
   "metadata": {},
   "source": [
    "#### 6) Will the world explode if a musicians swears? Get an average popularity for their explicit songs vs. their non-explicit songs. How many minutes of explicit songs do they have? Non-explicit?\n"
   ]
  },
  {
   "cell_type": "markdown",
   "metadata": {},
   "source": [
    "#### 7) Since we're talking about Lils, what about Biggies? How many total \"Biggie\" artists are there? How many total \"Lil\"s? If you made 1 request every 5 seconds, how long would it take to download information on all the Lils vs the Biggies?\n"
   ]
  },
  {
   "cell_type": "markdown",
   "metadata": {},
   "source": [
    "#### 8) Out of the top 50 \"Lil\"s and the top 50 \"Biggie\"s, who is more popular on average?\n"
   ]
  },
  {
   "cell_type": "code",
   "execution_count": null,
   "metadata": {
    "collapsed": true
   },
   "outputs": [],
   "source": []
  }
 ],
 "metadata": {
  "kernelspec": {
   "display_name": "Python 3",
   "language": "python",
   "name": "python3"
  },
  "language_info": {
   "codemirror_mode": {
    "name": "ipython",
    "version": 3
   },
   "file_extension": ".py",
   "mimetype": "text/x-python",
   "name": "python",
   "nbconvert_exporter": "python",
   "pygments_lexer": "ipython3",
   "version": "3.5.1"
  }
 },
 "nbformat": 4,
 "nbformat_minor": 0
}
