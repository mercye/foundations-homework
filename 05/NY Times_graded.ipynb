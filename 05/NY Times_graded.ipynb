{
 "cells": [
  {
   "cell_type": "markdown",
   "metadata": {},
   "source": [
    "#### 1) What books topped the Hardcover Fiction NYT best-sellers list on Mother's Day in 2009 and 2010? How about Father's Day?\n"
   ]
  },
  {
   "cell_type": "markdown",
   "metadata": {},
   "source": [
    "graded = 1/8"
   ]
  },
  {
   "cell_type": "code",
   "execution_count": 73,
   "metadata": {
    "collapsed": false
   },
   "outputs": [],
   "source": [
    "# APIKEY = 422004d03a794f1db979e02a81969b56\n",
    "import requests \n",
    "response = requests.get(\"https://api.nytimes.com/svc/books/v3/lists.json?list=hardcover-fiction&published-date=2009-05-10&api-key=422004d03a794f1db979e02a81969b56\")\n",
    "data = response.json() \n",
    "#print (data)\n",
    "#print(data.keys())"
   ]
  },
  {
   "cell_type": "code",
   "execution_count": 74,
   "metadata": {
    "collapsed": false
   },
   "outputs": [],
   "source": [
    "#print(data['results']) \n",
    "#print(data['results'][0]) \n",
    "#print(data['results'][0]['book_details'][0])\n",
    "#print(data['results'][0]['book_details'][0]['title'])"
   ]
  },
  {
   "cell_type": "code",
   "execution_count": 75,
   "metadata": {
    "collapsed": false
   },
   "outputs": [
    {
     "name": "stdout",
     "output_type": "stream",
     "text": [
      "On Mother's Day in 2009, the following books topped the bestseller list: \n",
      "FIRST FAMILY\n",
      "TEA TIME FOR THE TRADITIONALLY BUILT\n",
      "LOITERING WITH INTENT\n",
      "JUST TAKE MY HEART\n",
      "THE PERFECT POISON\n",
      "THE HOST\n",
      "LOOK AGAIN\n",
      "DEADLOCK\n",
      "LONG LOST\n",
      "TURN COAT\n",
      "THE ASSOCIATE\n",
      "HANDLE WITH CARE\n",
      "THE HELP\n",
      "THE GUERNSEY LITERARY AND POTATO PEEL PIE SOCIETY\n",
      "FATALLY FLAKY\n",
      "ARTHAS\n",
      "A RELIABLE WIFE\n",
      "BORDERLINE\n",
      "ONE SECOND AFTER\n",
      "BONEMAN'S DAUGHTERS\n"
     ]
    }
   ],
   "source": [
    "print(\"On Mother's Day in 2009, the following books topped the bestseller list: \" )\n",
    "for item in data['results']:\n",
    "    for item in item['book_details']: \n",
    "        print(item['title'])"
   ]
  },
  {
   "cell_type": "code",
   "execution_count": 76,
   "metadata": {
    "collapsed": false
   },
   "outputs": [
    {
     "name": "stdout",
     "output_type": "stream",
     "text": [
      "On Mother's Day in 2010, the following books topped the bestseller list: \n",
      "DELIVER US FROM EVIL\n",
      "THE HELP\n",
      "THE DOUBLE COMFORT SAFARI CLUB\n",
      "THIS BODY OF DEATH\n",
      "LUCID INTERVALS\n",
      "THE SHADOW OF YOUR SMILE\n",
      "BURNING LAMP\n",
      "EVERY LAST ONE\n",
      "EIGHT DAYS TO LIVE\n",
      "CHANGES\n",
      "CAUGHT\n",
      "HOUSE RULES\n",
      "MATTERHORN\n",
      "THE WALK\n",
      "DECEPTION\n",
      "BEATRICE AND VIRGIL\n",
      "WRECKED\n",
      "SILVER BORNE\n",
      "ABRAHAM LINCOLN: VAMPIRE HUNTER\n",
      "A RIVER IN THE SKY\n"
     ]
    }
   ],
   "source": [
    "#request data \n",
    "import requests \n",
    "response = requests.get(\"https://api.nytimes.com/svc/books/v3/lists.json?list=hardcover-fiction&published-date=2010-05-09&api-key=422004d03a794f1db979e02a81969b56\")\n",
    "data = response.json() \n",
    "\n",
    "#print books on hardcover fiction bestseller list\n",
    "print(\"On Mother's Day in 2010, the following books topped the bestseller list: \" )\n",
    "for item in data['results']:\n",
    "    for item in item['book_details']: \n",
    "        print(item['title'])"
   ]
  },
  {
   "cell_type": "code",
   "execution_count": 77,
   "metadata": {
    "collapsed": false
   },
   "outputs": [
    {
     "name": "stdout",
     "output_type": "stream",
     "text": [
      "On Father's Day in 2009, the following books topped the bestseller list: \n",
      "SKIN TRADE\n",
      "MEDUSA\n",
      "THE SCARECROW\n",
      "SHANGHAI GIRLS\n",
      "MATTERS OF THE HEART\n",
      "GONE TOMORROW\n",
      "DEAD AND GONE\n",
      "THE 8TH CONFESSION\n",
      "THE STRAIN\n",
      "WICKED PREY\n",
      "THE HOST\n",
      "FIRST FAMILY\n",
      "CEMETERY DANCE\n",
      "UNDEAD AND UNWELCOME\n",
      "THE HELP\n",
      "PYGMY\n",
      "MY FATHER'S TEARS AND OTHER STORIES\n",
      "ROAD DOGS\n",
      "THE STORY SISTERS\n",
      "HEARTLESS\n"
     ]
    }
   ],
   "source": [
    "#request data \n",
    "import requests \n",
    "response = requests.get(\"https://api.nytimes.com/svc/books/v3/lists.json?list=hardcover-fiction&published-date=2009-06-21&api-key=422004d03a794f1db979e02a81969b56\")\n",
    "data = response.json() \n",
    "\n",
    "#print books on hardcover fiction bestseller list\n",
    "print(\"On Father's Day in 2009, the following books topped the bestseller list: \" )\n",
    "for item in data['results']:\n",
    "    for item in item['book_details']: \n",
    "        print(item['title'])"
   ]
  },
  {
   "cell_type": "code",
   "execution_count": 78,
   "metadata": {
    "collapsed": false
   },
   "outputs": [
    {
     "name": "stdout",
     "output_type": "stream",
     "text": [
      "On Father's Day in 2010, the following books topped the bestseller list: \n",
      "THE GIRL WHO KICKED THE HORNET’S NEST\n",
      "BULLET\n",
      "THE SPY\n",
      "THE HELP\n",
      "DEAD IN THE FAMILY\n",
      "61 HOURS\n",
      "THE BURNING WIRE\n",
      "STORM PREY\n",
      "THE BOURNE OBJECTIVE\n",
      "INNOCENT\n",
      "HEART OF THE MATTER\n",
      "THE 9TH JUDGMENT\n",
      "BLOCKADE BILLY\n",
      "ALLIES\n",
      "THE RULE OF NINE\n",
      "FEVER DREAM\n",
      "DELIVER US FROM EVIL\n",
      "MATTERHORN\n",
      "THE PARTICULAR SADNESS OF LEMON CAKE\n",
      "DANGEROUS\n"
     ]
    }
   ],
   "source": [
    "#request data \n",
    "import requests \n",
    "response = requests.get(\"https://api.nytimes.com/svc/books/v3/lists.json?list=hardcover-fiction&published-date=2010-06-20&api-key=422004d03a794f1db979e02a81969b56\")\n",
    "data = response.json() \n",
    "\n",
    "#print books on hardcover fiction bestseller list\n",
    "print(\"On Father's Day in 2010, the following books topped the bestseller list: \" )\n",
    "for item in data['results']:\n",
    "    for item in item['book_details']: \n",
    "        print(item['title'])"
   ]
  },
  {
   "cell_type": "markdown",
   "metadata": {},
   "source": [
    "#### 2) What are all the different book categories the NYT ranked in June 6, 2009? How about June 6, 2015?"
   ]
  },
  {
   "cell_type": "code",
   "execution_count": null,
   "metadata": {
    "collapsed": true
   },
   "outputs": [],
   "source": []
  },
  {
   "cell_type": "markdown",
   "metadata": {
    "collapsed": true
   },
   "source": [
    "#### 3) Muammar Gaddafi's name can be transliterated many many ways. His last name is often a source of a million and one versions - Gadafi, Gaddafi, Kadafi, and Qaddafi to name a few. How many times has the New York Times referred to him by each of those names?\n",
    "\n",
    "Tip: Add \"Libya\" to your search to make sure (-ish) you're talking about the right guy."
   ]
  },
  {
   "cell_type": "markdown",
   "metadata": {},
   "source": [
    "#### 4) What's the title of the first story to mention the word 'hipster' in 1995? What's the first paragraph?\n"
   ]
  },
  {
   "cell_type": "markdown",
   "metadata": {},
   "source": [
    "#### 5) How many times was gay marriage mentioned in the NYT between 1950-1959, 1960-1969, 1970-1978, 1980-1989, 1990-2099, 2000-2009, and 2010-present?\n",
    "\n",
    "Tip: You'll want to put quotes around the search term so it isn't just looking for \"gay\" and \"marriage\" in the same article.\n",
    "\n",
    "Tip: Write code to find the number of mentions between Jan 1, 1950 and Dec 31, 1959.\n"
   ]
  },
  {
   "cell_type": "markdown",
   "metadata": {},
   "source": [
    "#### 6) What section talks about motorcycles the most?\n",
    "\n",
    "Tip: You'll be using facets"
   ]
  },
  {
   "cell_type": "markdown",
   "metadata": {},
   "source": [
    "#### 7) How many of the last 20 movies reviewed by the NYT were Critics' Picks? How about the last 40? The last 60?\n",
    "\n",
    "Tip: You really don't want to do this 3 separate times (1-20, 21-40 and 41-60) and add them together. What if, perhaps, you were able to figure out how to combine two lists? Then you could have a 1-20 list, a 1-40 list, and a 1-60 list, and then just run similar code for each of them."
   ]
  },
  {
   "cell_type": "markdown",
   "metadata": {},
   "source": [
    "#### 8) Out of the last 40 movie reviews from the NYT, which critic has written the most reviews?\n"
   ]
  },
  {
   "cell_type": "code",
   "execution_count": null,
   "metadata": {
    "collapsed": true
   },
   "outputs": [],
   "source": []
  }
 ],
 "metadata": {
  "kernelspec": {
   "display_name": "Python 3",
   "language": "python",
   "name": "python3"
  },
  "language_info": {
   "codemirror_mode": {
    "name": "ipython",
    "version": 3
   },
   "file_extension": ".py",
   "mimetype": "text/x-python",
   "name": "python",
   "nbconvert_exporter": "python",
   "pygments_lexer": "ipython3",
   "version": "3.5.1"
  }
 },
 "nbformat": 4,
 "nbformat_minor": 0
}
