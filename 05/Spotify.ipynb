{
 "cells": [
  {
   "cell_type": "markdown",
   "metadata": {},
   "source": [
    "#### 1) With \"Lil Wayne\" and \"Lil Kim\" there are a lot of \"Lil\" musicians. Do a search and print a list of 50 that are playable in the USA (or the country of your choice), along with their popularity score."
   ]
  },
  {
   "cell_type": "code",
   "execution_count": 4,
   "metadata": {
    "collapsed": false
   },
   "outputs": [
    {
     "name": "stdout",
     "output_type": "stream",
     "text": [
      "Lil Wayne 86\n",
      "Lil Yachty 74\n",
      "Lil Uzi Vert 74\n",
      "Lil Dicky 69\n",
      "Boosie Badazz 67\n",
      "Lil Jon 72\n",
      "King Lil G 61\n",
      "Lil Durk 60\n",
      "Lil Jon & The East Side Boyz 60\n",
      "Lil Bibby 54\n",
      "G Herbo 53\n",
      "Lil Rob 50\n",
      "Lil Reese 50\n",
      "Lil Scrappy 50\n",
      "Bow Wow 57\n",
      "Lil Keke 48\n",
      "Lil Wyte 50\n",
      "Lil Blood 46\n",
      "Lil Snupe 45\n",
      "Lil Mama 45\n",
      "Lil Boom 46\n",
      "Lil B 44\n",
      "Lil' Kim 62\n",
      "Lil Cuete 40\n",
      "Lil Phat 40\n",
      "Lil Debbie 43\n",
      "Lil Twist 40\n",
      "Lil Trill 37\n",
      "Lil Goofy 36\n",
      "Lil Lonnie 37\n",
      "Lil AJ 37\n",
      "Lil Haiti 38\n",
      "Lil Cray 36\n",
      "Lil Twon 36\n",
      "Mr. Lil One 36\n",
      "Lil Mouse 35\n",
      "Lil Silva 43\n",
      "Lil Yase 34\n",
      "Lil Flash 38\n",
      "Lil Suzy 34\n",
      "Lil Eddie 41\n",
      "Lil Rue 34\n",
      "Lil Kesh 39\n",
      "Lil Wayne, DJ Drama 35\n",
      "Lil C 33\n",
      "Lil Rick 39\n",
      "Lil E 35\n",
      "Lil June 32\n",
      "Lil Fate 34\n",
      "Lil' Flip 50\n"
     ]
    }
   ],
   "source": [
    "import requests\n",
    "\n",
    "# query = 'lil' type = 'artist' number of responses(limit) = '50' market = 'US'\n",
    "response = requests.get('https://api.spotify.com/v1/search?q=lil&type=artist&limit=50&market=US')\n",
    "\n",
    "# data is a string, usejson\n",
    "data = response.json()\n",
    "\n",
    "# print(type(data))\n",
    "# print(data.keys())\n",
    "# print(type(data['artists']))\n",
    "# print(data['artists'].keys())\n",
    "\n",
    "artists = data['artists']['items']\n",
    "\n",
    "# print(type(artists))\n",
    "\n",
    "for item in artists: \n",
    "    print(artist['name'], artist['popularity'])\n",
    "    \n"
   ]
  },
  {
   "cell_type": "markdown",
   "metadata": {},
   "source": [
    "#### 2) What genres are most represented in the search results? Edit your previous printout to also display a list of their genres in the format \"GENRE_1, GENRE_2, GENRE_3\". If there are no genres, print \"No genres listed\".\n",
    "Tip: \"how to join a list Python\" might be a helpful search"
   ]
  },
  {
   "cell_type": "code",
   "execution_count": 5,
   "metadata": {
    "collapsed": false,
    "scrolled": true
   },
   "outputs": [
    {
     "name": "stdout",
     "output_type": "stream",
     "text": [
      "Lil Wayne 86\n",
      "Genre list: dirty south rap, pop rap, southern hip hop, trap music\n",
      "Lil Yachty 74\n",
      "No genres listed\n",
      "Lil Uzi Vert 74\n",
      "No genres listed\n",
      "Lil Dicky 69\n",
      "No genres listed\n",
      "Boosie Badazz 67\n",
      "No genres listed\n",
      "Lil Jon 72\n",
      "Genre list: crunk, dirty south rap, southern hip hop\n",
      "King Lil G 61\n",
      "No genres listed\n",
      "Lil Durk 60\n",
      "No genres listed\n",
      "Lil Jon & The East Side Boyz 60\n",
      "No genres listed\n",
      "Lil Bibby 54\n",
      "No genres listed\n",
      "G Herbo 53\n",
      "No genres listed\n",
      "Lil Rob 50\n",
      "Genre list: chicano rap, latin hip hop\n",
      "Lil Reese 50\n",
      "No genres listed\n",
      "Lil Scrappy 50\n",
      "Genre list: crunk, dirty south rap, southern hip hop, trap music\n",
      "Bow Wow 57\n",
      "Genre list: hip pop, pop rap\n",
      "Lil Keke 48\n",
      "No genres listed\n",
      "Lil Wyte 50\n",
      "Genre list: juggalo\n",
      "Lil Blood 46\n",
      "No genres listed\n",
      "Lil Snupe 45\n",
      "No genres listed\n",
      "Lil Mama 45\n",
      "Genre list: hip pop\n",
      "Lil Boom 46\n",
      "No genres listed\n",
      "Lil B 44\n",
      "No genres listed\n",
      "Lil' Kim 62\n",
      "Genre list: hip pop\n",
      "Lil Cuete 40\n",
      "Genre list: chicano rap\n",
      "Lil Phat 40\n",
      "No genres listed\n",
      "Lil Debbie 43\n",
      "No genres listed\n",
      "Lil Twist 40\n",
      "Genre list: jerk\n",
      "Lil Trill 37\n",
      "Genre list: deep trap\n",
      "Lil Goofy 36\n",
      "No genres listed\n",
      "Lil Lonnie 37\n",
      "No genres listed\n",
      "Lil AJ 37\n",
      "No genres listed\n",
      "Lil Haiti 38\n",
      "No genres listed\n",
      "Lil Cray 36\n",
      "No genres listed\n",
      "Lil Twon 36\n",
      "No genres listed\n",
      "Mr. Lil One 36\n",
      "Genre list: chicano rap\n",
      "Lil Mouse 35\n",
      "No genres listed\n",
      "Lil Silva 43\n",
      "No genres listed\n",
      "Lil Yase 34\n",
      "No genres listed\n",
      "Lil Flash 38\n",
      "No genres listed\n",
      "Lil Suzy 34\n",
      "Genre list: freestyle\n",
      "Lil Eddie 41\n",
      "No genres listed\n",
      "Lil Rue 34\n",
      "No genres listed\n",
      "Lil Kesh 39\n",
      "No genres listed\n",
      "Lil Wayne, DJ Drama 35\n",
      "No genres listed\n",
      "Lil C 33\n",
      "No genres listed\n",
      "Lil Rick 39\n",
      "Genre list: soca\n",
      "Lil E 35\n",
      "No genres listed\n",
      "Lil June 32\n",
      "No genres listed\n",
      "Lil Fate 34\n",
      "No genres listed\n",
      "Lil' Flip 50\n",
      "Genre list: crunk, dirty south rap\n"
     ]
    }
   ],
   "source": [
    "for item in artists: \n",
    "    print(artist['name'], artist['popularity'])\n",
    "    if len(artist['genres']) == 0: \n",
    "        print(\"No genres listed\")\n",
    "    else: \n",
    "        genres = (\", \".join(artist['genres']))\n",
    "        print(\"Genre list:\", genres)"
   ]
  },
  {
   "cell_type": "markdown",
   "metadata": {},
   "source": [
    "#### 3) Use a for loop to determine who BESIDES Lil Wayne has the highest popularity rating. Is it the same artist who has the largest number of followers?"
   ]
  },
  {
   "cell_type": "code",
   "execution_count": 6,
   "metadata": {
    "collapsed": false,
    "scrolled": true
   },
   "outputs": [
    {
     "name": "stdout",
     "output_type": "stream",
     "text": [
      "{'popularity': 86, 'uri': 'spotify:artist:55Aa2cqylxrFIXC767Z865', 'href': 'https://api.spotify.com/v1/artists/55Aa2cqylxrFIXC767Z865', 'name': 'Lil Wayne', 'followers': {'total': 2634767, 'href': None}, 'genres': ['dirty south rap', 'pop rap', 'southern hip hop', 'trap music'], 'external_urls': {'spotify': 'https://open.spotify.com/artist/55Aa2cqylxrFIXC767Z865'}, 'images': [{'height': 1239, 'width': 1000, 'url': 'https://i.scdn.co/image/cf012139c3b8681b46a66bae70558a8a336ab231'}, {'height': 793, 'width': 640, 'url': 'https://i.scdn.co/image/fffd48d60e27901f6e9ce99423f045cb2b893944'}, {'height': 248, 'width': 200, 'url': 'https://i.scdn.co/image/bf03141629c202e94b206f1374a39326a9d8c6ca'}, {'height': 79, 'width': 64, 'url': 'https://i.scdn.co/image/521f99f2469883b8806a69a3a2487fdd983bd621'}], 'id': '55Aa2cqylxrFIXC767Z865', 'type': 'artist'}\n"
     ]
    }
   ],
   "source": [
    "#checking out structure of the dictionary \n",
    "print(artists[0])"
   ]
  },
  {
   "cell_type": "code",
   "execution_count": 51,
   "metadata": {
    "collapsed": false
   },
   "outputs": [
    {
     "ename": "TypeError",
     "evalue": "list indices must be integers or slices, not str",
     "output_type": "error",
     "traceback": [
      "\u001b[0;31m---------------------------------------------------------------------------\u001b[0m",
      "\u001b[0;31mTypeError\u001b[0m                                 Traceback (most recent call last)",
      "\u001b[0;32m<ipython-input-51-420bdefa19b4>\u001b[0m in \u001b[0;36m<module>\u001b[0;34m()\u001b[0m\n\u001b[1;32m      1\u001b[0m \u001b[0;32mif\u001b[0m \u001b[0martist\u001b[0m\u001b[0;34m[\u001b[0m\u001b[0;34m'popularity'\u001b[0m\u001b[0;34m]\u001b[0m \u001b[0;34m<\u001b[0m \u001b[0;36m86\u001b[0m\u001b[0;34m:\u001b[0m\u001b[0;34m\u001b[0m\u001b[0m\n\u001b[1;32m      2\u001b[0m     \u001b[0mvalues\u001b[0m \u001b[0;34m=\u001b[0m \u001b[0martist\u001b[0m\u001b[0;34m.\u001b[0m\u001b[0mvalues\u001b[0m\u001b[0;34m(\u001b[0m\u001b[0;34m)\u001b[0m\u001b[0;34m\u001b[0m\u001b[0m\n\u001b[0;32m----> 3\u001b[0;31m     \u001b[0msmallestKey\u001b[0m \u001b[0;34m=\u001b[0m \u001b[0mmin\u001b[0m\u001b[0;34m(\u001b[0m\u001b[0martist\u001b[0m\u001b[0;34m[\u001b[0m\u001b[0;34m'followers'\u001b[0m\u001b[0;34m]\u001b[0m\u001b[0;34m,\u001b[0m \u001b[0mkey\u001b[0m\u001b[0;34m=\u001b[0m\u001b[0martists\u001b[0m\u001b[0;34m[\u001b[0m\u001b[0;34m'followers'\u001b[0m\u001b[0;34m]\u001b[0m\u001b[0;34m.\u001b[0m\u001b[0mget\u001b[0m\u001b[0;34m)\u001b[0m\u001b[0;34m\u001b[0m\u001b[0m\n\u001b[0m\u001b[1;32m      4\u001b[0m \u001b[0;34m\u001b[0m\u001b[0m\n\u001b[1;32m      5\u001b[0m \u001b[0;34m\u001b[0m\u001b[0m\n",
      "\u001b[0;31mTypeError\u001b[0m: list indices must be integers or slices, not str"
     ]
    }
   ],
   "source": [
    "\n",
    "    \n",
    "print(values)"
   ]
  },
  {
   "cell_type": "markdown",
   "metadata": {},
   "source": [
    "#### 4) Print a list of Lil's that are more popular than Lil' Kim."
   ]
  },
  {
   "cell_type": "code",
   "execution_count": null,
   "metadata": {
    "collapsed": false
   },
   "outputs": [],
   "source": [
    "for artist in artists: \n",
    "    if artist['name'] == \"Lil' Kim\": \n",
    "        print (artist['name'], artist['popularity'])\n",
    "    \n",
    "target_score = 62\n",
    "\n",
    "print('***ANY ARTIST WITH A SCORE GREATER THAN 62 IS MORE POPULAR THAN LIL KIM***')\n",
    "\n",
    "more_popular = []\n",
    "\n",
    "for artist in artists: \n",
    "    print (\"Looking at\", artist['name'], \"who has a popularity of\", artist['popularity'])\n",
    "    if artist['popularity'] > 62: \n",
    "        print ('!!!! The artist popularity greater than 62')\n",
    "        more_popular.append(artist['name'])\n",
    "        \n",
    "print(\"***OUR ARTISTS WHO ARE MORE POPULAR THAN LIL KIM ARE: \")\n",
    "for artist in more_popular: \n",
    "    print(artist)"
   ]
  },
  {
   "cell_type": "markdown",
   "metadata": {},
   "source": [
    "#### 5) Pick two of your favorite Lils to fight it out, and use their IDs to print out their top tracks.\n",
    "Tip: You're going to be making two separate requests, be sure you DO NOT save them into the same variable."
   ]
  },
  {
   "cell_type": "code",
   "execution_count": null,
   "metadata": {
    "collapsed": false
   },
   "outputs": [],
   "source": [
    "all_genres = []\n",
    "\n",
    "for artist in artists: \n",
    "    print( artist['name'],'has:', artist['genres'])\n",
    "    print(artist['genres'])\n",
    "    all_genres = all_genres + artist['genres']\n",
    "print(all_genres)\n",
    "\n",
    "all"
   ]
  },
  {
   "cell_type": "code",
   "execution_count": null,
   "metadata": {
    "collapsed": false
   },
   "outputs": [],
   "source": [
    "#There's a library that comes with Python called Collections. Contains counter. \n",
    "import collections\n",
    "counts = collections.Counter(all_genres)\n",
    "print('crunk shows up', counts['crunk'], 'times')\n",
    "counts.most_common(3)"
   ]
  },
  {
   "cell_type": "markdown",
   "metadata": {},
   "source": [
    "#### 6) Will the world explode if a musicians swears? Get an average popularity for their explicit songs vs. their non-explicit songs. How many minutes of explicit songs do they have? Non-explicit?\n"
   ]
  },
  {
   "cell_type": "markdown",
   "metadata": {},
   "source": [
    "#### 7) Since we're talking about Lils, what about Biggies? How many total \"Biggie\" artists are there? How many total \"Lil\"s? If you made 1 request every 5 seconds, how long would it take to download information on all the Lils vs the Biggies?\n"
   ]
  },
  {
   "cell_type": "markdown",
   "metadata": {},
   "source": [
    "#### 8) Out of the top 50 \"Lil\"s and the top 50 \"Biggie\"s, who is more popular on average?\n"
   ]
  },
  {
   "cell_type": "code",
   "execution_count": null,
   "metadata": {
    "collapsed": true
   },
   "outputs": [],
   "source": []
  }
 ],
 "metadata": {
  "kernelspec": {
   "display_name": "Python 3",
   "language": "python",
   "name": "python3"
  },
  "language_info": {
   "codemirror_mode": {
    "name": "ipython",
    "version": 3
   },
   "file_extension": ".py",
   "mimetype": "text/x-python",
   "name": "python",
   "nbconvert_exporter": "python",
   "pygments_lexer": "ipython3",
   "version": "3.5.1"
  }
 },
 "nbformat": 4,
 "nbformat_minor": 0
}
