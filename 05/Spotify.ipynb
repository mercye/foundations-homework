{
 "cells": [
  {
   "cell_type": "markdown",
   "metadata": {},
   "source": [
    "1) With \"Lil Wayne\" and \"Lil Kim\" there are a lot of \"Lil\" musicians. Do a search and print a list of 50 that are playable in the USA (or the country of your choice), along with their popularity score."
   ]
  },
  {
   "cell_type": "code",
   "execution_count": 1,
   "metadata": {
    "collapsed": false
   },
   "outputs": [
    {
     "name": "stdout",
     "output_type": "stream",
     "text": [
      "Lil Wayne 86\n",
      "Lil Yachty 73\n",
      "Lil Uzi Vert 74\n",
      "Lil Dicky 68\n",
      "Boosie Badazz 67\n",
      "Lil Jon 72\n",
      "King Lil G 61\n",
      "Lil Durk 60\n",
      "Lil Jon & The East Side Boyz 60\n",
      "Lil Bibby 54\n",
      "G Herbo 53\n",
      "Lil Rob 50\n",
      "Lil Reese 50\n",
      "Lil Keke 48\n",
      "Bow Wow 57\n",
      "Lil Scrappy 49\n",
      "Lil Wyte 50\n",
      "Lil Blood 45\n",
      "Lil Snupe 45\n",
      "Lil Mama 45\n",
      "Lil B 44\n",
      "Lil' Kim 62\n",
      "Lil Boom 43\n",
      "Lil Cuete 40\n",
      "Lil Phat 39\n",
      "Lil Debbie 43\n",
      "Lil Twist 40\n",
      "Lil Trill 37\n",
      "Lil AJ 36\n",
      "Lil Lonnie 37\n",
      "Lil Twon 37\n",
      "Lil Goofy 35\n",
      "Lil Haiti 37\n",
      "Lil Cray 35\n",
      "Mr. Lil One 36\n",
      "Lil Flash 38\n",
      "Lil Silva 43\n",
      "Lil Yase 34\n",
      "Lil Rue 34\n",
      "Lil Eddie 41\n",
      "Lil Kesh 39\n",
      "Lil Suzy 34\n",
      "Lil Wayne, DJ Drama 35\n",
      "Lil Mouse 34\n",
      "Lil C 33\n",
      "Lil Rick 39\n",
      "Lil June 32\n",
      "Lil E 34\n",
      "Lil Fate 34\n",
      "Lil' Flip 50\n"
     ]
    }
   ],
   "source": [
    "import requests\n",
    "\n",
    "# query = 'lil' type = 'artist' number of responses(limit) = '50' market = 'US'\n",
    "response = requests.get('https://api.spotify.com/v1/search?q=lil&type=artist&limit=50&market=US')\n",
    "\n",
    "# data is a string, use json\n",
    "data = response.json()\n",
    "\n",
    "# print(type(data))\n",
    "# print(data.keys())\n",
    "# print(type(data['artists']))\n",
    "# print(data['artists'].keys())\n",
    "\n",
    "artists = data['artists']['items']\n",
    "\n",
    "# print(type(artists))\n",
    "\n",
    "for artist in artists: \n",
    "    print(artist['name'], artist['popularity'])\n",
    "    \n"
   ]
  },
  {
   "cell_type": "markdown",
   "metadata": {},
   "source": [
    "2) What genres are most represented in the search results? Edit your previous printout to also display a list of their genres in the format \"GENRE_1, GENRE_2, GENRE_3\". If there are no genres, print \"No genres listed\".\n",
    "Tip: \"how to join a list Python\" might be a helpful search"
   ]
  },
  {
   "cell_type": "code",
   "execution_count": 13,
   "metadata": {
    "collapsed": false,
    "scrolled": true
   },
   "outputs": [
    {
     "name": "stdout",
     "output_type": "stream",
     "text": [
      "Lil Wayne 86\n",
      "Genre list: dirty south rap, pop rap, southern hip hop, trap music\n",
      "Lil Yachty 72\n",
      "No genres listed\n",
      "Lil Uzi Vert 73\n",
      "No genres listed\n",
      "Lil Dicky 68\n",
      "No genres listed\n",
      "Boosie Badazz 67\n",
      "No genres listed\n",
      "Lil Jon 72\n",
      "Genre list: crunk, dirty south rap, southern hip hop\n",
      "King Lil G 61\n",
      "No genres listed\n",
      "Lil Durk 60\n",
      "No genres listed\n",
      "Lil Jon & The East Side Boyz 60\n",
      "No genres listed\n",
      "Lil Bibby 54\n",
      "No genres listed\n",
      "G Herbo 53\n",
      "No genres listed\n",
      "Lil Rob 50\n",
      "Genre list: chicano rap, latin hip hop\n",
      "Lil Reese 50\n",
      "No genres listed\n",
      "Lil Keke 48\n",
      "No genres listed\n",
      "Bow Wow 57\n",
      "Genre list: hip pop, pop rap\n",
      "Lil Scrappy 48\n",
      "Genre list: crunk, dirty south rap, southern hip hop, trap music\n",
      "Lil Wyte 50\n",
      "Genre list: juggalo\n",
      "Lil Blood 45\n",
      "No genres listed\n",
      "Lil Snupe 45\n",
      "No genres listed\n",
      "Lil Mama 45\n",
      "Genre list: hip pop\n",
      "Lil B 44\n",
      "No genres listed\n",
      "Lil' Kim 62\n",
      "Genre list: hip pop\n",
      "Lil Cuete 40\n",
      "Genre list: chicano rap\n",
      "Lil Phat 39\n",
      "No genres listed\n",
      "Lil Debbie 43\n",
      "No genres listed\n",
      "Lil Twist 39\n",
      "Genre list: jerk\n",
      "Lil Trill 37\n",
      "Genre list: deep trap\n",
      "Lil Boom 39\n",
      "No genres listed\n",
      "Lil Twon 37\n",
      "No genres listed\n",
      "Lil AJ 37\n",
      "No genres listed\n",
      "Lil Lonnie 37\n",
      "No genres listed\n",
      "Lil Goofy 35\n",
      "No genres listed\n",
      "Lil Haiti 36\n",
      "No genres listed\n",
      "Mr. Lil One 36\n",
      "Genre list: chicano rap\n",
      "Lil Cray 35\n",
      "No genres listed\n",
      "Lil Flash 38\n",
      "No genres listed\n",
      "Lil Silva 43\n",
      "No genres listed\n",
      "Lil Kesh 39\n",
      "No genres listed\n",
      "Lil Rue 34\n",
      "No genres listed\n",
      "Lil Yase 34\n",
      "No genres listed\n",
      "Lil Eddie 41\n",
      "No genres listed\n",
      "Lil Wayne, DJ Drama 35\n",
      "No genres listed\n",
      "Lil Suzy 34\n",
      "Genre list: freestyle\n",
      "Lil Mouse 34\n",
      "No genres listed\n",
      "Lil C 33\n",
      "No genres listed\n",
      "Lil Rick 39\n",
      "Genre list: soca\n",
      "Lil June 32\n",
      "No genres listed\n",
      "Lil E 34\n",
      "No genres listed\n",
      "Lil Fate 34\n",
      "No genres listed\n",
      "Lil' Flip 49\n",
      "Genre list: crunk, dirty south rap\n"
     ]
    }
   ],
   "source": [
    "for artist in artists: \n",
    "    print(artist['name'], artist['popularity'])\n",
    "    if len(artist['genres']) == 0: \n",
    "        print(\"No genres listed\")\n",
    "    else: \n",
    "        genres = (\", \".join(artist['genres']))\n",
    "        print(\"Genre list:\", genres)"
   ]
  },
  {
   "cell_type": "markdown",
   "metadata": {},
   "source": [
    "3) Use a for loop to determine who BESIDES Lil Wayne has the highest popularity rating. Is it the same artist who has the largest number of followers?"
   ]
  },
  {
   "cell_type": "code",
   "execution_count": 60,
   "metadata": {
    "collapsed": false,
    "scrolled": true
   },
   "outputs": [
    {
     "name": "stdout",
     "output_type": "stream",
     "text": [
      "{'id': '55Aa2cqylxrFIXC767Z865', 'genres': ['dirty south rap', 'pop rap', 'southern hip hop', 'trap music'], 'type': 'artist', 'external_urls': {'spotify': 'https://open.spotify.com/artist/55Aa2cqylxrFIXC767Z865'}, 'images': [{'url': 'https://i.scdn.co/image/cf012139c3b8681b46a66bae70558a8a336ab231', 'height': 1239, 'width': 1000}, {'url': 'https://i.scdn.co/image/fffd48d60e27901f6e9ce99423f045cb2b893944', 'height': 793, 'width': 640}, {'url': 'https://i.scdn.co/image/bf03141629c202e94b206f1374a39326a9d8c6ca', 'height': 248, 'width': 200}, {'url': 'https://i.scdn.co/image/521f99f2469883b8806a69a3a2487fdd983bd621', 'height': 79, 'width': 64}], 'popularity': 86, 'followers': {'total': 2624947, 'href': None}, 'uri': 'spotify:artist:55Aa2cqylxrFIXC767Z865', 'name': 'Lil Wayne', 'href': 'https://api.spotify.com/v1/artists/55Aa2cqylxrFIXC767Z865'}\n"
     ]
    }
   ],
   "source": [
    "print(artists[0])"
   ]
  },
  {
   "cell_type": "code",
   "execution_count": 91,
   "metadata": {
    "collapsed": false
   },
   "outputs": [
    {
     "name": "stdout",
     "output_type": "stream",
     "text": [
      "Lil Wayne 86 2624947\n",
      "Lil Yachty 72 38502\n",
      "Lil Uzi Vert 73 56319\n",
      "Lil Dicky 68 225286\n",
      "Boosie Badazz 67 220345\n",
      "Lil Jon 72 256184\n",
      "King Lil G 61 64326\n",
      "Lil Durk 60 134212\n",
      "Lil Jon & The East Side Boyz 60 17069\n",
      "Lil Bibby 54 44190\n",
      "G Herbo 53 51582\n",
      "Lil Rob 50 35867\n",
      "Lil Reese 50 23862\n",
      "Lil Keke 48 18774\n",
      "Bow Wow 57 118601\n",
      "Lil Scrappy 48 27098\n",
      "Lil Wyte 50 31127\n",
      "Lil Blood 45 5533\n",
      "Lil Snupe 45 34030\n",
      "Lil Mama 45 21123\n",
      "Lil B 44 231\n",
      "Lil' Kim 62 70288\n",
      "Lil Cuete 40 15591\n",
      "Lil Phat 39 5344\n",
      "Lil Debbie 43 14533\n",
      "Lil Twist 39 14834\n",
      "Lil Trill 37 2123\n",
      "Lil Boom 39 191\n",
      "Lil Twon 37 320\n",
      "Lil AJ 37 897\n",
      "Lil Lonnie 37 1349\n",
      "Lil Goofy 35 1343\n",
      "Lil Haiti 36 685\n",
      "Mr. Lil One 36 4747\n",
      "Lil Cray 35 990\n",
      "Lil Flash 38 1767\n",
      "Lil Silva 43 9454\n",
      "Lil Kesh 39 1664\n",
      "Lil Rue 34 3292\n",
      "Lil Yase 34 1132\n",
      "Lil Eddie 41 1623\n",
      "Lil Wayne, DJ Drama 35 12856\n",
      "Lil Suzy 34 5894\n",
      "Lil Mouse 34 16312\n",
      "Lil C 33 1705\n",
      "Lil Rick 39 1829\n",
      "Lil June 32 1411\n",
      "Lil E 34 130\n",
      "Lil Fate 34 110\n",
      "Lil' Flip 49 19910\n"
     ]
    }
   ],
   "source": [
    "for artist in artists: \n",
    "    if artist['popularity'] < 86:\n",
    "            print(artist['name'], artist['popularity'], artist['followers']['total'])\n",
    "\n",
    "        "
   ]
  },
  {
   "cell_type": "markdown",
   "metadata": {},
   "source": [
    "4) Print a list of Lil's that are more popular than Lil' Kim."
   ]
  },
  {
   "cell_type": "code",
   "execution_count": 103,
   "metadata": {
    "collapsed": false
   },
   "outputs": [
    {
     "name": "stdout",
     "output_type": "stream",
     "text": [
      "Lil' Kim 62\n",
      "***SO, ANY ARTIST WITH A SCORE GREATER THAN 62 IS MORE POPULAR THAN LIL KIM***\n",
      "Looking at Lil Wayne who has a popularity of 86\n",
      "!!!! The artist popularity greater than 62\n",
      "Looking at Lil Yachty who has a popularity of 72\n",
      "!!!! The artist popularity greater than 62\n",
      "Looking at Lil Uzi Vert who has a popularity of 73\n",
      "!!!! The artist popularity greater than 62\n",
      "Looking at Lil Dicky who has a popularity of 68\n",
      "!!!! The artist popularity greater than 62\n",
      "Looking at Boosie Badazz who has a popularity of 67\n",
      "!!!! The artist popularity greater than 62\n",
      "Looking at Lil Jon who has a popularity of 72\n",
      "!!!! The artist popularity greater than 62\n",
      "Looking at King Lil G who has a popularity of 61\n",
      "Looking at Lil Durk who has a popularity of 60\n",
      "Looking at Lil Jon & The East Side Boyz who has a popularity of 60\n",
      "Looking at Lil Bibby who has a popularity of 54\n",
      "Looking at G Herbo who has a popularity of 53\n",
      "Looking at Lil Rob who has a popularity of 50\n",
      "Looking at Lil Reese who has a popularity of 50\n",
      "Looking at Lil Keke who has a popularity of 48\n",
      "Looking at Bow Wow who has a popularity of 57\n",
      "Looking at Lil Scrappy who has a popularity of 48\n",
      "Looking at Lil Wyte who has a popularity of 50\n",
      "Looking at Lil Blood who has a popularity of 45\n",
      "Looking at Lil Snupe who has a popularity of 45\n",
      "Looking at Lil Mama who has a popularity of 45\n",
      "Looking at Lil B who has a popularity of 44\n",
      "Looking at Lil' Kim who has a popularity of 62\n",
      "Looking at Lil Cuete who has a popularity of 40\n",
      "Looking at Lil Phat who has a popularity of 39\n",
      "Looking at Lil Debbie who has a popularity of 43\n",
      "Looking at Lil Twist who has a popularity of 39\n",
      "Looking at Lil Trill who has a popularity of 37\n",
      "Looking at Lil Boom who has a popularity of 39\n",
      "Looking at Lil Twon who has a popularity of 37\n",
      "Looking at Lil AJ who has a popularity of 37\n",
      "Looking at Lil Lonnie who has a popularity of 37\n",
      "Looking at Lil Goofy who has a popularity of 35\n",
      "Looking at Lil Haiti who has a popularity of 36\n",
      "Looking at Mr. Lil One who has a popularity of 36\n",
      "Looking at Lil Cray who has a popularity of 35\n",
      "Looking at Lil Flash who has a popularity of 38\n",
      "Looking at Lil Silva who has a popularity of 43\n",
      "Looking at Lil Kesh who has a popularity of 39\n",
      "Looking at Lil Rue who has a popularity of 34\n",
      "Looking at Lil Yase who has a popularity of 34\n",
      "Looking at Lil Eddie who has a popularity of 41\n",
      "Looking at Lil Wayne, DJ Drama who has a popularity of 35\n",
      "Looking at Lil Suzy who has a popularity of 34\n",
      "Looking at Lil Mouse who has a popularity of 34\n",
      "Looking at Lil C who has a popularity of 33\n",
      "Looking at Lil Rick who has a popularity of 39\n",
      "Looking at Lil June who has a popularity of 32\n",
      "Looking at Lil E who has a popularity of 34\n",
      "Looking at Lil Fate who has a popularity of 34\n",
      "Looking at Lil' Flip who has a popularity of 49\n",
      "***OUR ARTISTS WHO ARE MORE POPULAR THAN LIL KIM ARE: \n",
      "Lil Wayne\n",
      "Lil Yachty\n",
      "Lil Uzi Vert\n",
      "Lil Dicky\n",
      "Boosie Badazz\n",
      "Lil Jon\n"
     ]
    }
   ],
   "source": [
    "for artist in artists: \n",
    "    if artist['name'] == \"Lil' Kim\": \n",
    "        print (artist['name'], artist['popularity'])\n",
    "    \n",
    "target_score = 62\n",
    "\n",
    "print('***SO, ANY ARTIST WITH A SCORE GREATER THAN 62 IS MORE POPULAR THAN LIL KIM***')\n",
    "\n",
    "more_popular = []\n",
    "\n",
    "for artist in artists: \n",
    "    print (\"Looking at\", artist['name'], \"who has a popularity of\", artist['popularity'])\n",
    "    if artist['popularity'] > 62: \n",
    "        print ('!!!! The artist popularity greater than 62')\n",
    "        more_popular.append(artist['name'])\n",
    "        \n",
    "print(\"***OUR ARTISTS WHO ARE MORE POPULAR THAN LIL KIM ARE: \")\n",
    "for artist in more_popular: \n",
    "    print(artist)"
   ]
  },
  {
   "cell_type": "markdown",
   "metadata": {},
   "source": [
    "5) Pick two of your favorite Lils to fight it out, and use their IDs to print out their top tracks.\n",
    "Tip: You're going to be making two separate requests, be sure you DO NOT save them into the same variable."
   ]
  },
  {
   "cell_type": "code",
   "execution_count": 54,
   "metadata": {
    "collapsed": false
   },
   "outputs": [
    {
     "name": "stdout",
     "output_type": "stream",
     "text": [
      "Lil Wayne has: ['dirty south rap', 'pop rap', 'southern hip hop', 'trap music']\n",
      "['dirty south rap', 'pop rap', 'southern hip hop', 'trap music']\n",
      "Lil Yachty has: []\n",
      "[]\n",
      "Lil Uzi Vert has: []\n",
      "[]\n",
      "Lil Dicky has: []\n",
      "[]\n",
      "Boosie Badazz has: []\n",
      "[]\n",
      "Lil Jon has: ['crunk', 'dirty south rap', 'southern hip hop']\n",
      "['crunk', 'dirty south rap', 'southern hip hop']\n",
      "King Lil G has: []\n",
      "[]\n",
      "Lil Durk has: []\n",
      "[]\n",
      "Lil Jon & The East Side Boyz has: []\n",
      "[]\n",
      "Lil Bibby has: []\n",
      "[]\n",
      "G Herbo has: []\n",
      "[]\n",
      "Lil Rob has: ['chicano rap', 'latin hip hop']\n",
      "['chicano rap', 'latin hip hop']\n",
      "Lil Reese has: []\n",
      "[]\n",
      "Lil Keke has: []\n",
      "[]\n",
      "Bow Wow has: ['hip pop', 'pop rap']\n",
      "['hip pop', 'pop rap']\n",
      "Lil Scrappy has: ['crunk', 'dirty south rap', 'southern hip hop', 'trap music']\n",
      "['crunk', 'dirty south rap', 'southern hip hop', 'trap music']\n",
      "Lil Wyte has: ['juggalo']\n",
      "['juggalo']\n",
      "Lil Blood has: []\n",
      "[]\n",
      "Lil Snupe has: []\n",
      "[]\n",
      "Lil Mama has: ['hip pop']\n",
      "['hip pop']\n",
      "Lil B has: []\n",
      "[]\n",
      "Lil' Kim has: ['hip pop']\n",
      "['hip pop']\n",
      "Lil Cuete has: ['chicano rap']\n",
      "['chicano rap']\n",
      "Lil Phat has: []\n",
      "[]\n",
      "Lil Debbie has: []\n",
      "[]\n",
      "Lil Twist has: ['jerk']\n",
      "['jerk']\n",
      "Lil Trill has: ['deep trap']\n",
      "['deep trap']\n",
      "Lil Twon has: []\n",
      "[]\n",
      "Lil AJ has: []\n",
      "[]\n",
      "Lil Lonnie has: []\n",
      "[]\n",
      "Lil Boom has: []\n",
      "[]\n",
      "Lil Goofy has: []\n",
      "[]\n",
      "Mr. Lil One has: ['chicano rap']\n",
      "['chicano rap']\n",
      "Lil Haiti has: []\n",
      "[]\n",
      "Lil Flash has: []\n",
      "[]\n",
      "Lil Kesh has: []\n",
      "[]\n",
      "Lil Cray has: []\n",
      "[]\n",
      "Lil Silva has: []\n",
      "[]\n",
      "Lil Rue has: []\n",
      "[]\n",
      "Lil Eddie has: []\n",
      "[]\n",
      "Lil Yase has: []\n",
      "[]\n",
      "Lil Wayne, DJ Drama has: []\n",
      "[]\n",
      "Lil Suzy has: ['freestyle']\n",
      "['freestyle']\n",
      "Lil Mouse has: []\n",
      "[]\n",
      "Lil C has: []\n",
      "[]\n",
      "Lil Rick has: ['soca']\n",
      "['soca']\n",
      "Lil June has: []\n",
      "[]\n",
      "Lil E has: []\n",
      "[]\n",
      "Lil Fate has: []\n",
      "[]\n",
      "Lil' Flip has: ['crunk', 'dirty south rap']\n",
      "['crunk', 'dirty south rap']\n",
      "['dirty south rap', 'pop rap', 'southern hip hop', 'trap music', 'crunk', 'dirty south rap', 'southern hip hop', 'chicano rap', 'latin hip hop', 'hip pop', 'pop rap', 'crunk', 'dirty south rap', 'southern hip hop', 'trap music', 'juggalo', 'hip pop', 'hip pop', 'chicano rap', 'jerk', 'deep trap', 'chicano rap', 'freestyle', 'soca', 'crunk', 'dirty south rap']\n"
     ]
    }
   ],
   "source": [
    "all_genres = []\n",
    "\n",
    "for artist in artists: \n",
    "    print( artist['name'],'has:', artist['genres'])\n",
    "    print(artist['genres'])\n",
    "    all_genres = all_genres + artist['genres']\n",
    "print(all_genres)\n",
    "\n",
    "all"
   ]
  },
  {
   "cell_type": "code",
   "execution_count": 56,
   "metadata": {
    "collapsed": false
   },
   "outputs": [
    {
     "name": "stdout",
     "output_type": "stream",
     "text": [
      "crunk shows up 3 times\n"
     ]
    },
    {
     "data": {
      "text/plain": [
       "[('dirty south rap', 4), ('southern hip hop', 3), ('hip pop', 3)]"
      ]
     },
     "execution_count": 56,
     "metadata": {},
     "output_type": "execute_result"
    }
   ],
   "source": [
    "#There's a library that comes with Python called Collections. Contains counter. \n",
    "import collections\n",
    "counts = collections.Counter(all_genres)\n",
    "print('crunk shows up', counts['crunk'], 'times')\n",
    "counts.most_common(3)"
   ]
  },
  {
   "cell_type": "markdown",
   "metadata": {},
   "source": [
    "6) Will the world explode if a musicians swears? Get an average popularity for their explicit songs vs. their non-explicit songs. How many minutes of explicit songs do they have? Non-explicit?\n"
   ]
  },
  {
   "cell_type": "markdown",
   "metadata": {},
   "source": [
    "7) Since we're talking about Lils, what about Biggies? How many total \"Biggie\" artists are there? How many total \"Lil\"s? If you made 1 request every 5 seconds, how long would it take to download information on all the Lils vs the Biggies?\n"
   ]
  },
  {
   "cell_type": "markdown",
   "metadata": {},
   "source": [
    "8) Out of the top 50 \"Lil\"s and the top 50 \"Biggie\"s, who is more popular on average?\n"
   ]
  },
  {
   "cell_type": "code",
   "execution_count": null,
   "metadata": {
    "collapsed": true
   },
   "outputs": [],
   "source": []
  }
 ],
 "metadata": {
  "kernelspec": {
   "display_name": "Python 3",
   "language": "python",
   "name": "python3"
  },
  "language_info": {
   "codemirror_mode": {
    "name": "ipython",
    "version": 3
   },
   "file_extension": ".py",
   "mimetype": "text/x-python",
   "name": "python",
   "nbconvert_exporter": "python",
   "pygments_lexer": "ipython3",
   "version": "3.5.1"
  }
 },
 "nbformat": 4,
 "nbformat_minor": 0
}
