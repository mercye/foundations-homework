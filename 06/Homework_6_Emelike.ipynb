{
 "cells": [
  {
   "cell_type": "markdown",
   "metadata": {},
   "source": [
    "### 1) Make a request from the Forecast.io API for where you were born (or lived, or want to visit!).\n",
    "\n",
    "Tip: Once you've imported the JSON into a variable, check the timezone's name to make sure it seems like it got the right part of the world!\n",
    "Tip 2: How is north vs. south and east vs. west latitude/longitude represented? Is it the normal North/South/East/West?"
   ]
  },
  {
   "cell_type": "code",
   "execution_count": 11,
   "metadata": {
    "collapsed": false
   },
   "outputs": [
    {
     "data": {
      "text/plain": [
       "{'apparentTemperature': 83.54,\n",
       " 'cloudCover': 0.13,\n",
       " 'dewPoint': 61.37,\n",
       " 'humidity': 0.48,\n",
       " 'icon': 'clear-day',\n",
       " 'nearestStormBearing': 181,\n",
       " 'nearestStormDistance': 191,\n",
       " 'ozone': 309.78,\n",
       " 'precipIntensity': 0,\n",
       " 'precipProbability': 0,\n",
       " 'pressure': 1018.64,\n",
       " 'summary': 'Clear',\n",
       " 'temperature': 82.95,\n",
       " 'time': 1468255781,\n",
       " 'visibility': 10,\n",
       " 'windBearing': 310,\n",
       " 'windSpeed': 1.05}"
      ]
     },
     "execution_count": 11,
     "metadata": {},
     "output_type": "execute_result"
    }
   ],
   "source": [
    "import requests \n",
    "# api request for bethesda, maryland \n",
    "response = requests.get('https://api.forecast.io/forecast/a197f06e1906b1a937ad31d4378b8939/38.9847, -77.0947')\n",
    "data = response.json()\n",
    "current = data['currently']\n",
    "current"
   ]
  },
  {
   "cell_type": "markdown",
   "metadata": {},
   "source": [
    "### 2) What's the current wind speed? How much warmer does it feel than it actually is?"
   ]
  },
  {
   "cell_type": "code",
   "execution_count": 14,
   "metadata": {
    "collapsed": false
   },
   "outputs": [
    {
     "name": "stdout",
     "output_type": "stream",
     "text": [
      "The current windspeed is 1.05 miles per hour.\n",
      "It feels 0.5900000000000034 degrees warmer than it actually is.\n"
     ]
    }
   ],
   "source": [
    "diff = current['apparentTemperature'] - current['temperature'] \n",
    "print('The current windspeed is', current['windSpeed'],\"miles per hour.\")\n",
    "print('It feels', diff, 'degrees warmer than it actually is.')"
   ]
  },
  {
   "cell_type": "markdown",
   "metadata": {},
   "source": [
    "### 3) The first daily forecast is the forecast for today. For the place you decided on up above, how much of the moon is currently visible?"
   ]
  },
  {
   "cell_type": "code",
   "execution_count": 42,
   "metadata": {
    "collapsed": false
   },
   "outputs": [
    {
     "name": "stdout",
     "output_type": "stream",
     "text": [
      "Reported moon phase from Dark Sky forecast is 0.24\n",
      "So, currently, the new moon is visible.\n"
     ]
    }
   ],
   "source": [
    "daily = data['daily']['data']\n",
    "today = daily[0]\n",
    "today_moonphase = today['moonPhase']\n",
    "\n",
    "if today_moonphase < .25: \n",
    "    moonphase = 'new moon' \n",
    "elif today_moonphase < 0.5:\n",
    "    moonphase = 'first quarter moon' \n",
    "elif today_moonphase < 0.75:\n",
    "    moonphase = 'full moon' \n",
    "else:\n",
    "    moonphase = 'last quarter moon' \n",
    "    \n",
    "print('Reported moon phase from Dark Sky forecast is', today_moonphase)\n",
    "print('So, currently, the', moonphase, 'is visible.')"
   ]
  },
  {
   "cell_type": "markdown",
   "metadata": {},
   "source": [
    "### 4) What's the difference between the high and low temperatures for today?"
   ]
  },
  {
   "cell_type": "code",
   "execution_count": 43,
   "metadata": {
    "collapsed": false
   },
   "outputs": [
    {
     "name": "stdout",
     "output_type": "stream",
     "text": [
      "The difference between the high and low temperatures for today is 22.159999999999997 degrees.\n"
     ]
    }
   ],
   "source": [
    "highlow_tempdiff = today['temperatureMax'] - today['temperatureMin']\n",
    "print('The difference between the high and low temperatures for today is', highlow_tempdiff, 'degrees.')"
   ]
  },
  {
   "cell_type": "markdown",
   "metadata": {},
   "source": [
    "### 5) Loop through the daily forecast, printing out the next week's worth of predictions. I'd like to know the high temperature for each day, and whether it's hot, warm, or cold, based on what temperatures you think are hot, warm or cold.\n"
   ]
  },
  {
   "cell_type": "code",
   "execution_count": 62,
   "metadata": {
    "collapsed": false
   },
   "outputs": [
    {
     "name": "stdout",
     "output_type": "stream",
     "text": [
      "The high temp is 87.25 so it is HOT\n",
      "The high temp is 87.6 so it is HOT\n",
      "The high temp is 86.14 so it is HOT\n",
      "The high temp is 96.17 so it is HOT\n",
      "The high temp is 94.83 so it is HOT\n",
      "The high temp is 91.91 so it is HOT\n",
      "The high temp is 85.88 so it is HOT\n",
      "The high temp is 84.84 so it is WARM\n"
     ]
    }
   ],
   "source": [
    "for item in daily: \n",
    "    daily_hightemp = item['temperatureMax']\n",
    "    if daily_hightemp < 70: \n",
    "        tempdescription = 'COLD'\n",
    "    elif daily_hightemp < 85: \n",
    "        tempdescription = 'WARM'\n",
    "    else: \n",
    "        tempdescription = 'HOT'\n",
    "\n",
    "    print('The high temp is', daily_hightemp, 'so it is', tempdescription)\n",
    "    "
   ]
  },
  {
   "cell_type": "markdown",
   "metadata": {},
   "source": [
    "### 6) What's the weather looking like for the rest of today in Miami, Florida? I'd like to know the temperature for every hour, and if it's going to have cloud cover of more than 0.5 say \"{temperature} and cloudy\" instead of just the temperature."
   ]
  },
  {
   "cell_type": "code",
   "execution_count": 74,
   "metadata": {
    "collapsed": false
   },
   "outputs": [
    {
     "name": "stdout",
     "output_type": "stream",
     "text": [
      "It is 90.53 degrees and cloudy\n",
      "It is 89.03 degrees and cloudy\n",
      "It is 89.36 degrees\n",
      "It is 89.3 degrees\n",
      "It is 88.47 degrees and cloudy\n",
      "It is 87.26 degrees and cloudy\n",
      "It is 85.73 degrees\n",
      "It is 84.51 degrees\n",
      "It is 83.85 degrees and cloudy\n",
      "It is 83.53 degrees and cloudy\n",
      "It is 83.29 degrees and cloudy\n",
      "It is 83.06 degrees and cloudy\n",
      "It is 82.64 degrees and cloudy\n",
      "It is 82.25 degrees and cloudy\n",
      "It is 82.12 degrees and cloudy\n",
      "It is 81.69 degrees and cloudy\n",
      "It is 81.1 degrees and cloudy\n",
      "It is 82.04 degrees and cloudy\n",
      "It is 82.81 degrees and cloudy\n",
      "It is 83.72 degrees and cloudy\n",
      "It is 85.22 degrees and cloudy\n",
      "It is 87.36 degrees and cloudy\n",
      "It is 90.13 degrees\n",
      "It is 91.9 degrees\n",
      "It is 91.16 degrees and cloudy\n",
      "It is 90.64 degrees and cloudy\n",
      "It is 90.08 degrees and cloudy\n",
      "It is 89.43 degrees and cloudy\n",
      "It is 88.65 degrees and cloudy\n",
      "It is 87.7 degrees and cloudy\n",
      "It is 86.69 degrees and cloudy\n",
      "It is 85.92 degrees and cloudy\n",
      "It is 85.5 degrees and cloudy\n",
      "It is 85.23 degrees and cloudy\n",
      "It is 84.8 degrees and cloudy\n",
      "It is 84.12 degrees and cloudy\n",
      "It is 83.31 degrees and cloudy\n",
      "It is 82.57 degrees and cloudy\n",
      "It is 82.02 degrees and cloudy\n",
      "It is 81.67 degrees and cloudy\n",
      "It is 82.21 degrees and cloudy\n",
      "It is 82.84 degrees and cloudy\n",
      "It is 83.43 degrees and cloudy\n",
      "It is 84.05 degrees and cloudy\n",
      "It is 84.9 degrees and cloudy\n",
      "It is 86.15 degrees and cloudy\n",
      "It is 87.44 degrees and cloudy\n",
      "It is 88.57 degrees and cloudy\n",
      "It is 89.73 degrees and cloudy\n"
     ]
    }
   ],
   "source": [
    "response = requests.get('https://api.forecast.io/forecast/a197f06e1906b1a937ad31d4378b8939/25.7617,-80.1918')\n",
    "data = response.json()\n",
    "\n",
    "hourly = data['hourly']['data']\n",
    "\n",
    "for item in hourly: \n",
    "    if item['cloudCover'] < .5: \n",
    "        print('It is', item['temperature'], 'degrees and cloudy')\n",
    "    else: \n",
    "        print('It is', item['temperature'], 'degrees')"
   ]
  },
  {
   "cell_type": "markdown",
   "metadata": {},
   "source": [
    "### 7) What was the temperature in Central Park on Christmas Day, 1980? How about 1990? 2000?\n",
    "\n",
    "Tip: You'll need to use UNIX time, which is the number of seconds since January 1, 1970. Google can help you convert a normal date!\n",
    "Tip: You'll want to use Forecast.io's \"time machine\" API at https://developer.forecast.io/docs/v2"
   ]
  },
  {
   "cell_type": "code",
   "execution_count": 121,
   "metadata": {
    "collapsed": false
   },
   "outputs": [
    {
     "name": "stdout",
     "output_type": "stream",
     "text": [
      "It was 36.95 degrees on Christmas Day, 1980.\n",
      "It was 59.87 degrees on Christmas Day, 1990.\n",
      "It was 47.87 degrees on Christmas Day, 2000.\n"
     ]
    }
   ],
   "source": [
    "response1980 = requests.get('https://api.forecast.io/forecast/a197f06e1906b1a937ad31d4378b8939/40.7829,-73.9654,346550400')\n",
    "data1980 = response1980.json()\n",
    "christmasday1980 = data1980['daily']['data'][0]\n",
    "\n",
    "print('It was', christmasday1980['temperatureMax'], 'degrees on Christmas Day, 1980.')\n",
    "\n",
    "response1990 = requests.get('https://api.forecast.io/forecast/a197f06e1906b1a937ad31d4378b8939/40.7829,-73.9654,662083200')\n",
    "data1990 = response1990.json()\n",
    "christmasday1990 = data1990['daily']['data'][0]\n",
    "\n",
    "print('It was', christmasday1990['temperatureMax'], 'degrees on Christmas Day, 1990.')\n",
    "\n",
    "response2000 = requests.get('https://api.forecast.io/forecast/a197f06e1906b1a937ad31d4378b8939/40.7829,-73.9654,976838400')\n",
    "data2000 = response2000.json()\n",
    "christmasday2000 = data2000['daily']['data'][0]\n",
    "\n",
    "print('It was', christmasday2000['temperatureMax'], 'degrees on Christmas Day, 2000.')\n"
   ]
  }
 ],
 "metadata": {
  "kernelspec": {
   "display_name": "Python 3",
   "language": "python",
   "name": "python3"
  },
  "language_info": {
   "codemirror_mode": {
    "name": "ipython",
    "version": 3
   },
   "file_extension": ".py",
   "mimetype": "text/x-python",
   "name": "python",
   "nbconvert_exporter": "python",
   "pygments_lexer": "ipython3",
   "version": "3.5.1"
  }
 },
 "nbformat": 4,
 "nbformat_minor": 0
}
