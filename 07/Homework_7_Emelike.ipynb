{
 "cells": [
  {
   "cell_type": "markdown",
   "metadata": {},
   "source": [
    "# Part One "
   ]
  },
  {
   "cell_type": "markdown",
   "metadata": {},
   "source": [
    "### 1) Import pandas with the right name"
   ]
  },
  {
   "cell_type": "code",
   "execution_count": 353,
   "metadata": {
    "collapsed": true
   },
   "outputs": [],
   "source": [
    "import pandas as pd"
   ]
  },
  {
   "cell_type": "markdown",
   "metadata": {},
   "source": [
    "### 2) Set all graphics from matplotlib to display inline"
   ]
  },
  {
   "cell_type": "code",
   "execution_count": 354,
   "metadata": {
    "collapsed": false
   },
   "outputs": [
    {
     "name": "stdout",
     "output_type": "stream",
     "text": [
      "Requirement already satisfied (use --upgrade to upgrade): matplotlib in /Users/mercyemelike/.virtualenvs/data_analysis/lib/python3.5/site-packages\n",
      "Requirement already satisfied (use --upgrade to upgrade): pyparsing!=2.0.0,!=2.0.4,>=1.5.6 in /Users/mercyemelike/.virtualenvs/data_analysis/lib/python3.5/site-packages (from matplotlib)\n",
      "Requirement already satisfied (use --upgrade to upgrade): cycler in /Users/mercyemelike/.virtualenvs/data_analysis/lib/python3.5/site-packages (from matplotlib)\n",
      "Requirement already satisfied (use --upgrade to upgrade): numpy>=1.6 in /Users/mercyemelike/.virtualenvs/data_analysis/lib/python3.5/site-packages (from matplotlib)\n",
      "Requirement already satisfied (use --upgrade to upgrade): pytz in /Users/mercyemelike/.virtualenvs/data_analysis/lib/python3.5/site-packages (from matplotlib)\n",
      "Requirement already satisfied (use --upgrade to upgrade): python-dateutil in /Users/mercyemelike/.virtualenvs/data_analysis/lib/python3.5/site-packages (from matplotlib)\n",
      "Requirement already satisfied (use --upgrade to upgrade): six in /Users/mercyemelike/.virtualenvs/data_analysis/lib/python3.5/site-packages (from cycler->matplotlib)\n"
     ]
    }
   ],
   "source": [
    "!pip install matplotlib\n",
    "import matplotlib.pyplot as plt\n",
    "from matplotlib import style\n",
    "%matplotlib inline\n",
    "plt.style.use('ggplot')"
   ]
  },
  {
   "cell_type": "markdown",
   "metadata": {},
   "source": [
    "### 3) Read the csv in (it should be UTF-8 already so you don't have to worry about encoding), save it with the proper boring name"
   ]
  },
  {
   "cell_type": "code",
   "execution_count": 355,
   "metadata": {
    "collapsed": false
   },
   "outputs": [],
   "source": [
    "df = pd.read_csv(\"07-hw-animals copy.csv\")"
   ]
  },
  {
   "cell_type": "markdown",
   "metadata": {},
   "source": [
    "### 4) Display the names of the columns in the csv"
   ]
  },
  {
   "cell_type": "code",
   "execution_count": 356,
   "metadata": {
    "collapsed": false
   },
   "outputs": [
    {
     "data": {
      "text/plain": [
       "array(['animal', 'name', 'length'], dtype=object)"
      ]
     },
     "execution_count": 356,
     "metadata": {},
     "output_type": "execute_result"
    }
   ],
   "source": [
    "df.columns.values"
   ]
  },
  {
   "cell_type": "markdown",
   "metadata": {},
   "source": [
    "### 5) Display the first 3 animals."
   ]
  },
  {
   "cell_type": "code",
   "execution_count": 357,
   "metadata": {
    "collapsed": false
   },
   "outputs": [
    {
     "data": {
      "text/html": [
       "<div>\n",
       "<table border=\"1\" class=\"dataframe\">\n",
       "  <thead>\n",
       "    <tr style=\"text-align: right;\">\n",
       "      <th></th>\n",
       "      <th>animal</th>\n",
       "      <th>name</th>\n",
       "      <th>length</th>\n",
       "    </tr>\n",
       "  </thead>\n",
       "  <tbody>\n",
       "    <tr>\n",
       "      <th>0</th>\n",
       "      <td>cat</td>\n",
       "      <td>Anne</td>\n",
       "      <td>35</td>\n",
       "    </tr>\n",
       "    <tr>\n",
       "      <th>1</th>\n",
       "      <td>cat</td>\n",
       "      <td>Bob</td>\n",
       "      <td>45</td>\n",
       "    </tr>\n",
       "    <tr>\n",
       "      <th>2</th>\n",
       "      <td>dog</td>\n",
       "      <td>Egglesburg</td>\n",
       "      <td>65</td>\n",
       "    </tr>\n",
       "  </tbody>\n",
       "</table>\n",
       "</div>"
      ],
      "text/plain": [
       "  animal        name  length\n",
       "0    cat        Anne      35\n",
       "1    cat         Bob      45\n",
       "2    dog  Egglesburg      65"
      ]
     },
     "execution_count": 357,
     "metadata": {},
     "output_type": "execute_result"
    }
   ],
   "source": [
    "df.head(3)"
   ]
  },
  {
   "cell_type": "markdown",
   "metadata": {},
   "source": [
    "### 6) Sort the animals to see the 3 longest animals."
   ]
  },
  {
   "cell_type": "code",
   "execution_count": 358,
   "metadata": {
    "collapsed": false
   },
   "outputs": [
    {
     "data": {
      "text/html": [
       "<div>\n",
       "<table border=\"1\" class=\"dataframe\">\n",
       "  <thead>\n",
       "    <tr style=\"text-align: right;\">\n",
       "      <th></th>\n",
       "      <th>animal</th>\n",
       "      <th>name</th>\n",
       "      <th>length</th>\n",
       "    </tr>\n",
       "  </thead>\n",
       "  <tbody>\n",
       "    <tr>\n",
       "      <th>2</th>\n",
       "      <td>dog</td>\n",
       "      <td>Egglesburg</td>\n",
       "      <td>65</td>\n",
       "    </tr>\n",
       "    <tr>\n",
       "      <th>3</th>\n",
       "      <td>dog</td>\n",
       "      <td>Devon</td>\n",
       "      <td>50</td>\n",
       "    </tr>\n",
       "    <tr>\n",
       "      <th>1</th>\n",
       "      <td>cat</td>\n",
       "      <td>Bob</td>\n",
       "      <td>45</td>\n",
       "    </tr>\n",
       "  </tbody>\n",
       "</table>\n",
       "</div>"
      ],
      "text/plain": [
       "  animal        name  length\n",
       "2    dog  Egglesburg      65\n",
       "3    dog       Devon      50\n",
       "1    cat         Bob      45"
      ]
     },
     "execution_count": 358,
     "metadata": {},
     "output_type": "execute_result"
    }
   ],
   "source": [
    "df.sort_values(by='length', ascending = False).head(3)"
   ]
  },
  {
   "cell_type": "markdown",
   "metadata": {},
   "source": [
    "### 7) What are the counts of the different values of the \"animal\" column? a.k.a. how many cats and how many dogs.\n"
   ]
  },
  {
   "cell_type": "code",
   "execution_count": 359,
   "metadata": {
    "collapsed": false
   },
   "outputs": [
    {
     "data": {
      "text/plain": [
       "cat    3\n",
       "dog    3\n",
       "Name: animal, dtype: int64"
      ]
     },
     "execution_count": 359,
     "metadata": {},
     "output_type": "execute_result"
    }
   ],
   "source": [
    "df['animal'].value_counts()"
   ]
  },
  {
   "cell_type": "markdown",
   "metadata": {},
   "source": [
    "### 8) Only select the dogs."
   ]
  },
  {
   "cell_type": "code",
   "execution_count": 360,
   "metadata": {
    "collapsed": false
   },
   "outputs": [
    {
     "data": {
      "text/html": [
       "<div>\n",
       "<table border=\"1\" class=\"dataframe\">\n",
       "  <thead>\n",
       "    <tr style=\"text-align: right;\">\n",
       "      <th></th>\n",
       "      <th>animal</th>\n",
       "      <th>name</th>\n",
       "      <th>length</th>\n",
       "    </tr>\n",
       "  </thead>\n",
       "  <tbody>\n",
       "    <tr>\n",
       "      <th>2</th>\n",
       "      <td>dog</td>\n",
       "      <td>Egglesburg</td>\n",
       "      <td>65</td>\n",
       "    </tr>\n",
       "    <tr>\n",
       "      <th>3</th>\n",
       "      <td>dog</td>\n",
       "      <td>Devon</td>\n",
       "      <td>50</td>\n",
       "    </tr>\n",
       "    <tr>\n",
       "      <th>5</th>\n",
       "      <td>dog</td>\n",
       "      <td>Fontaine</td>\n",
       "      <td>35</td>\n",
       "    </tr>\n",
       "  </tbody>\n",
       "</table>\n",
       "</div>"
      ],
      "text/plain": [
       "  animal        name  length\n",
       "2    dog  Egglesburg      65\n",
       "3    dog       Devon      50\n",
       "5    dog    Fontaine      35"
      ]
     },
     "execution_count": 360,
     "metadata": {},
     "output_type": "execute_result"
    }
   ],
   "source": [
    "df[df['animal'] == 'dog']"
   ]
  },
  {
   "cell_type": "markdown",
   "metadata": {},
   "source": [
    "### 9) Display all of the animals that are greater than 40 cm."
   ]
  },
  {
   "cell_type": "code",
   "execution_count": 361,
   "metadata": {
    "collapsed": false
   },
   "outputs": [
    {
     "data": {
      "text/html": [
       "<div>\n",
       "<table border=\"1\" class=\"dataframe\">\n",
       "  <thead>\n",
       "    <tr style=\"text-align: right;\">\n",
       "      <th></th>\n",
       "      <th>animal</th>\n",
       "      <th>name</th>\n",
       "      <th>length</th>\n",
       "    </tr>\n",
       "  </thead>\n",
       "  <tbody>\n",
       "    <tr>\n",
       "      <th>1</th>\n",
       "      <td>cat</td>\n",
       "      <td>Bob</td>\n",
       "      <td>45</td>\n",
       "    </tr>\n",
       "    <tr>\n",
       "      <th>2</th>\n",
       "      <td>dog</td>\n",
       "      <td>Egglesburg</td>\n",
       "      <td>65</td>\n",
       "    </tr>\n",
       "    <tr>\n",
       "      <th>3</th>\n",
       "      <td>dog</td>\n",
       "      <td>Devon</td>\n",
       "      <td>50</td>\n",
       "    </tr>\n",
       "  </tbody>\n",
       "</table>\n",
       "</div>"
      ],
      "text/plain": [
       "  animal        name  length\n",
       "1    cat         Bob      45\n",
       "2    dog  Egglesburg      65\n",
       "3    dog       Devon      50"
      ]
     },
     "execution_count": 361,
     "metadata": {},
     "output_type": "execute_result"
    }
   ],
   "source": [
    "df[df['length']>40]"
   ]
  },
  {
   "cell_type": "markdown",
   "metadata": {},
   "source": [
    "### 10) 'length' is the animal's length in cm. Create a new column called inches that is the length in inches."
   ]
  },
  {
   "cell_type": "code",
   "execution_count": 362,
   "metadata": {
    "collapsed": false
   },
   "outputs": [],
   "source": [
    "df['inches'] = df['length']*0.393701"
   ]
  },
  {
   "cell_type": "markdown",
   "metadata": {},
   "source": [
    "### 11) Save the cats to a separate variable called \"cats.\" Save the dogs to a separate variable called \"dogs.\"\n"
   ]
  },
  {
   "cell_type": "code",
   "execution_count": 363,
   "metadata": {
    "collapsed": false
   },
   "outputs": [],
   "source": [
    "cats = df[df['animal'] =='cat']\n",
    "dogs = df[df['animal'] == 'dog']"
   ]
  },
  {
   "cell_type": "markdown",
   "metadata": {},
   "source": [
    "### 12) Display all of the animals that are cats and above 12 inches long. First do it using the \"cats\" variable, then do it using your normal dataframe.\n"
   ]
  },
  {
   "cell_type": "code",
   "execution_count": 364,
   "metadata": {
    "collapsed": false
   },
   "outputs": [
    {
     "data": {
      "text/html": [
       "<div>\n",
       "<table border=\"1\" class=\"dataframe\">\n",
       "  <thead>\n",
       "    <tr style=\"text-align: right;\">\n",
       "      <th></th>\n",
       "      <th>animal</th>\n",
       "      <th>name</th>\n",
       "      <th>length</th>\n",
       "      <th>inches</th>\n",
       "    </tr>\n",
       "  </thead>\n",
       "  <tbody>\n",
       "    <tr>\n",
       "      <th>0</th>\n",
       "      <td>cat</td>\n",
       "      <td>Anne</td>\n",
       "      <td>35</td>\n",
       "      <td>13.779535</td>\n",
       "    </tr>\n",
       "    <tr>\n",
       "      <th>1</th>\n",
       "      <td>cat</td>\n",
       "      <td>Bob</td>\n",
       "      <td>45</td>\n",
       "      <td>17.716545</td>\n",
       "    </tr>\n",
       "    <tr>\n",
       "      <th>4</th>\n",
       "      <td>cat</td>\n",
       "      <td>Charlie</td>\n",
       "      <td>32</td>\n",
       "      <td>12.598432</td>\n",
       "    </tr>\n",
       "  </tbody>\n",
       "</table>\n",
       "</div>"
      ],
      "text/plain": [
       "  animal     name  length     inches\n",
       "0    cat     Anne      35  13.779535\n",
       "1    cat      Bob      45  17.716545\n",
       "4    cat  Charlie      32  12.598432"
      ]
     },
     "execution_count": 364,
     "metadata": {},
     "output_type": "execute_result"
    }
   ],
   "source": [
    "cats[cats['inches']>12]"
   ]
  },
  {
   "cell_type": "code",
   "execution_count": 365,
   "metadata": {
    "collapsed": false
   },
   "outputs": [
    {
     "data": {
      "text/html": [
       "<div>\n",
       "<table border=\"1\" class=\"dataframe\">\n",
       "  <thead>\n",
       "    <tr style=\"text-align: right;\">\n",
       "      <th></th>\n",
       "      <th>animal</th>\n",
       "      <th>name</th>\n",
       "      <th>length</th>\n",
       "      <th>inches</th>\n",
       "    </tr>\n",
       "  </thead>\n",
       "  <tbody>\n",
       "    <tr>\n",
       "      <th>0</th>\n",
       "      <td>cat</td>\n",
       "      <td>Anne</td>\n",
       "      <td>35</td>\n",
       "      <td>13.779535</td>\n",
       "    </tr>\n",
       "    <tr>\n",
       "      <th>1</th>\n",
       "      <td>cat</td>\n",
       "      <td>Bob</td>\n",
       "      <td>45</td>\n",
       "      <td>17.716545</td>\n",
       "    </tr>\n",
       "    <tr>\n",
       "      <th>4</th>\n",
       "      <td>cat</td>\n",
       "      <td>Charlie</td>\n",
       "      <td>32</td>\n",
       "      <td>12.598432</td>\n",
       "    </tr>\n",
       "  </tbody>\n",
       "</table>\n",
       "</div>"
      ],
      "text/plain": [
       "  animal     name  length     inches\n",
       "0    cat     Anne      35  13.779535\n",
       "1    cat      Bob      45  17.716545\n",
       "4    cat  Charlie      32  12.598432"
      ]
     },
     "execution_count": 365,
     "metadata": {},
     "output_type": "execute_result"
    }
   ],
   "source": [
    "df[(df['animal']=='cat') & (df['inches']>12)]"
   ]
  },
  {
   "cell_type": "markdown",
   "metadata": {},
   "source": [
    "### 13) What's the mean length of a cat?"
   ]
  },
  {
   "cell_type": "code",
   "execution_count": 366,
   "metadata": {
    "collapsed": false
   },
   "outputs": [
    {
     "data": {
      "text/html": [
       "<div>\n",
       "<table border=\"1\" class=\"dataframe\">\n",
       "  <thead>\n",
       "    <tr style=\"text-align: right;\">\n",
       "      <th></th>\n",
       "      <th>length</th>\n",
       "      <th>inches</th>\n",
       "    </tr>\n",
       "  </thead>\n",
       "  <tbody>\n",
       "    <tr>\n",
       "      <th>count</th>\n",
       "      <td>3.000000</td>\n",
       "      <td>3.000000</td>\n",
       "    </tr>\n",
       "    <tr>\n",
       "      <th>mean</th>\n",
       "      <td>37.333333</td>\n",
       "      <td>14.698171</td>\n",
       "    </tr>\n",
       "    <tr>\n",
       "      <th>std</th>\n",
       "      <td>6.806859</td>\n",
       "      <td>2.679867</td>\n",
       "    </tr>\n",
       "    <tr>\n",
       "      <th>min</th>\n",
       "      <td>32.000000</td>\n",
       "      <td>12.598432</td>\n",
       "    </tr>\n",
       "    <tr>\n",
       "      <th>25%</th>\n",
       "      <td>33.500000</td>\n",
       "      <td>13.188984</td>\n",
       "    </tr>\n",
       "    <tr>\n",
       "      <th>50%</th>\n",
       "      <td>35.000000</td>\n",
       "      <td>13.779535</td>\n",
       "    </tr>\n",
       "    <tr>\n",
       "      <th>75%</th>\n",
       "      <td>40.000000</td>\n",
       "      <td>15.748040</td>\n",
       "    </tr>\n",
       "    <tr>\n",
       "      <th>max</th>\n",
       "      <td>45.000000</td>\n",
       "      <td>17.716545</td>\n",
       "    </tr>\n",
       "  </tbody>\n",
       "</table>\n",
       "</div>"
      ],
      "text/plain": [
       "          length     inches\n",
       "count   3.000000   3.000000\n",
       "mean   37.333333  14.698171\n",
       "std     6.806859   2.679867\n",
       "min    32.000000  12.598432\n",
       "25%    33.500000  13.188984\n",
       "50%    35.000000  13.779535\n",
       "75%    40.000000  15.748040\n",
       "max    45.000000  17.716545"
      ]
     },
     "execution_count": 366,
     "metadata": {},
     "output_type": "execute_result"
    }
   ],
   "source": [
    "cats.describe()"
   ]
  },
  {
   "cell_type": "markdown",
   "metadata": {},
   "source": [
    "the mean length of a cat is 14.698 inches "
   ]
  },
  {
   "cell_type": "markdown",
   "metadata": {},
   "source": [
    "### 14) What's the mean length of a dog?"
   ]
  },
  {
   "cell_type": "code",
   "execution_count": 367,
   "metadata": {
    "collapsed": false
   },
   "outputs": [
    {
     "data": {
      "text/html": [
       "<div>\n",
       "<table border=\"1\" class=\"dataframe\">\n",
       "  <thead>\n",
       "    <tr style=\"text-align: right;\">\n",
       "      <th></th>\n",
       "      <th>length</th>\n",
       "      <th>inches</th>\n",
       "    </tr>\n",
       "  </thead>\n",
       "  <tbody>\n",
       "    <tr>\n",
       "      <th>count</th>\n",
       "      <td>3.0</td>\n",
       "      <td>3.000000</td>\n",
       "    </tr>\n",
       "    <tr>\n",
       "      <th>mean</th>\n",
       "      <td>50.0</td>\n",
       "      <td>19.685050</td>\n",
       "    </tr>\n",
       "    <tr>\n",
       "      <th>std</th>\n",
       "      <td>15.0</td>\n",
       "      <td>5.905515</td>\n",
       "    </tr>\n",
       "    <tr>\n",
       "      <th>min</th>\n",
       "      <td>35.0</td>\n",
       "      <td>13.779535</td>\n",
       "    </tr>\n",
       "    <tr>\n",
       "      <th>25%</th>\n",
       "      <td>42.5</td>\n",
       "      <td>16.732292</td>\n",
       "    </tr>\n",
       "    <tr>\n",
       "      <th>50%</th>\n",
       "      <td>50.0</td>\n",
       "      <td>19.685050</td>\n",
       "    </tr>\n",
       "    <tr>\n",
       "      <th>75%</th>\n",
       "      <td>57.5</td>\n",
       "      <td>22.637808</td>\n",
       "    </tr>\n",
       "    <tr>\n",
       "      <th>max</th>\n",
       "      <td>65.0</td>\n",
       "      <td>25.590565</td>\n",
       "    </tr>\n",
       "  </tbody>\n",
       "</table>\n",
       "</div>"
      ],
      "text/plain": [
       "       length     inches\n",
       "count     3.0   3.000000\n",
       "mean     50.0  19.685050\n",
       "std      15.0   5.905515\n",
       "min      35.0  13.779535\n",
       "25%      42.5  16.732292\n",
       "50%      50.0  19.685050\n",
       "75%      57.5  22.637808\n",
       "max      65.0  25.590565"
      ]
     },
     "execution_count": 367,
     "metadata": {},
     "output_type": "execute_result"
    }
   ],
   "source": [
    "dogs.describe()"
   ]
  },
  {
   "cell_type": "markdown",
   "metadata": {},
   "source": [
    "the mean length of a dog is 19.685"
   ]
  },
  {
   "cell_type": "markdown",
   "metadata": {},
   "source": [
    "### 15) Use groupby to accomplish both of the above tasks at once."
   ]
  },
  {
   "cell_type": "code",
   "execution_count": 368,
   "metadata": {
    "collapsed": false
   },
   "outputs": [
    {
     "data": {
      "text/html": [
       "<div>\n",
       "<table border=\"1\" class=\"dataframe\">\n",
       "  <thead>\n",
       "    <tr style=\"text-align: right;\">\n",
       "      <th></th>\n",
       "      <th>length</th>\n",
       "      <th>inches</th>\n",
       "    </tr>\n",
       "    <tr>\n",
       "      <th>animal</th>\n",
       "      <th></th>\n",
       "      <th></th>\n",
       "    </tr>\n",
       "  </thead>\n",
       "  <tbody>\n",
       "    <tr>\n",
       "      <th>cat</th>\n",
       "      <td>37.333333</td>\n",
       "      <td>14.698171</td>\n",
       "    </tr>\n",
       "    <tr>\n",
       "      <th>dog</th>\n",
       "      <td>50.000000</td>\n",
       "      <td>19.685050</td>\n",
       "    </tr>\n",
       "  </tbody>\n",
       "</table>\n",
       "</div>"
      ],
      "text/plain": [
       "           length     inches\n",
       "animal                      \n",
       "cat     37.333333  14.698171\n",
       "dog     50.000000  19.685050"
      ]
     },
     "execution_count": 368,
     "metadata": {},
     "output_type": "execute_result"
    }
   ],
   "source": [
    "df.groupby('animal').mean()"
   ]
  },
  {
   "cell_type": "markdown",
   "metadata": {},
   "source": [
    "### 16) Make a histogram of the length of dogs. I apologize that it is so boring."
   ]
  },
  {
   "cell_type": "code",
   "execution_count": 369,
   "metadata": {
    "collapsed": false
   },
   "outputs": [
    {
     "data": {
      "text/plain": [
       "array([[<matplotlib.axes._subplots.AxesSubplot object at 0x1126a2390>]], dtype=object)"
      ]
     },
     "execution_count": 369,
     "metadata": {},
     "output_type": "execute_result"
    },
    {
     "data": {
      "image/png": "[encoded data removed]",
      "text/plain": [
       "<matplotlib.figure.Figure at 0x112b83518>"
      ]
     },
     "metadata": {},
     "output_type": "display_data"
    }
   ],
   "source": [
    "dogs.hist('length')"
   ]
  },
  {
   "cell_type": "markdown",
   "metadata": {},
   "source": [
    "### 17) Change your graphing style to be something else (anything else!)"
   ]
  },
  {
   "cell_type": "code",
   "execution_count": 370,
   "metadata": {
    "collapsed": false
   },
   "outputs": [
    {
     "name": "stdout",
     "output_type": "stream",
     "text": [
      "['fivethirtyeight', 'bmh', 'seaborn-dark-palette', 'classic', 'seaborn-whitegrid', 'seaborn-paper', 'seaborn-deep', 'seaborn-white', 'seaborn-muted', 'seaborn-notebook', 'seaborn-dark', 'seaborn-darkgrid', 'dark_background', 'ggplot', 'seaborn-bright', 'seaborn-ticks', 'seaborn-talk', 'seaborn-pastel', 'seaborn-colorblind', 'grayscale', 'seaborn-poster']\n"
     ]
    },
    {
     "data": {
      "text/plain": [
       "array([[<matplotlib.axes._subplots.AxesSubplot object at 0x112bb2978>]], dtype=object)"
      ]
     },
     "execution_count": 370,
     "metadata": {},
     "output_type": "execute_result"
    },
    {
     "data": {
      "image/png": "[encoded data removed]",
      "text/plain": [
       "<matplotlib.figure.Figure at 0x1129c3048>"
      ]
     },
     "metadata": {},
     "output_type": "display_data"
    }
   ],
   "source": [
    "print(style.available)\n",
    "plt.style.use('fivethirtyeight')\n",
    "dogs.hist('length')"
   ]
  },
  {
   "cell_type": "markdown",
   "metadata": {},
   "source": [
    "### 18) Make a horizontal bar graph of the length of the animals, with their name as the label (look at the billionaires notebook I put on Slack!)"
   ]
  },
  {
   "cell_type": "code",
   "execution_count": 371,
   "metadata": {
    "collapsed": false
   },
   "outputs": [
    {
     "data": {
      "text/plain": [
       "<matplotlib.axes._subplots.AxesSubplot at 0x112c4deb8>"
      ]
     },
     "execution_count": 371,
     "metadata": {},
     "output_type": "execute_result"
    },
    {
     "data": {
      "image/png": "[encoded data removed]",
      "text/plain": [
       "<matplotlib.figure.Figure at 0x112b5e588>"
      ]
     },
     "metadata": {},
     "output_type": "display_data"
    }
   ],
   "source": [
    "df.plot(kind='barh', x='animal', y='length', legend=False)"
   ]
  },
  {
   "cell_type": "markdown",
   "metadata": {},
   "source": [
    "### 19) Make a sorted horizontal bar graph of the cats, with the larger cats on top.\n"
   ]
  },
  {
   "cell_type": "code",
   "execution_count": 372,
   "metadata": {
    "collapsed": false
   },
   "outputs": [
    {
     "data": {
      "text/plain": [
       "<matplotlib.axes._subplots.AxesSubplot at 0x11103cf98>"
      ]
     },
     "execution_count": 372,
     "metadata": {},
     "output_type": "execute_result"
    },
    {
     "data": {
      "image/png": "[encoded data removed]",
      "text/plain": [
       "<matplotlib.figure.Figure at 0x11105d7b8>"
      ]
     },
     "metadata": {},
     "output_type": "display_data"
    }
   ],
   "source": [
    "sortedcats = cats.sort_values(by='length', ascending = True)\n",
    "\n",
    "sortedcats.plot(kind='barh', x='animal', y='length', legend=False)"
   ]
  },
  {
   "cell_type": "markdown",
   "metadata": {},
   "source": [
    "# Part Two"
   ]
  },
  {
   "cell_type": "markdown",
   "metadata": {},
   "source": [
    "### Read in data on billionaires "
   ]
  },
  {
   "cell_type": "code",
   "execution_count": 373,
   "metadata": {
    "collapsed": false
   },
   "outputs": [
    {
     "data": {
      "text/plain": [
       "array(['year', 'name', 'rank', 'citizenship', 'countrycode',\n",
       "       'networthusbillion', 'selfmade', 'typeofwealth', 'gender', 'age',\n",
       "       'industry', 'IndustryAggregates', 'region', 'north',\n",
       "       'politicalconnection', 'founder', 'generationofinheritance',\n",
       "       'sector', 'company', 'companytype', 'relationshiptocompany',\n",
       "       'foundingdate', 'gdpcurrentus', 'sourceofwealth', 'notes', 'notes2',\n",
       "       'source', 'source_2', 'source_3', 'source_4'], dtype=object)"
      ]
     },
     "execution_count": 373,
     "metadata": {},
     "output_type": "execute_result"
    }
   ],
   "source": [
    "df = pd.read_excel('billionaires copy.xlsx')\n",
    "df.columns.values"
   ]
  },
  {
   "cell_type": "code",
   "execution_count": 374,
   "metadata": {
    "collapsed": false
   },
   "outputs": [
    {
     "data": {
      "text/html": [
       "<div>\n",
       "<table border=\"1\" class=\"dataframe\">\n",
       "  <thead>\n",
       "    <tr style=\"text-align: right;\">\n",
       "      <th></th>\n",
       "      <th>year</th>\n",
       "      <th>name</th>\n",
       "      <th>rank</th>\n",
       "      <th>citizenship</th>\n",
       "      <th>countrycode</th>\n",
       "      <th>networthusbillion</th>\n",
       "      <th>selfmade</th>\n",
       "      <th>typeofwealth</th>\n",
       "      <th>gender</th>\n",
       "      <th>age</th>\n",
       "      <th>...</th>\n",
       "      <th>relationshiptocompany</th>\n",
       "      <th>foundingdate</th>\n",
       "      <th>gdpcurrentus</th>\n",
       "      <th>sourceofwealth</th>\n",
       "      <th>notes</th>\n",
       "      <th>notes2</th>\n",
       "      <th>source</th>\n",
       "      <th>source_2</th>\n",
       "      <th>source_3</th>\n",
       "      <th>source_4</th>\n",
       "    </tr>\n",
       "  </thead>\n",
       "  <tbody>\n",
       "    <tr>\n",
       "      <th>1</th>\n",
       "      <td>2014</td>\n",
       "      <td>A. Jerrold Perenchio</td>\n",
       "      <td>663</td>\n",
       "      <td>United States</td>\n",
       "      <td>USA</td>\n",
       "      <td>2.6</td>\n",
       "      <td>self-made</td>\n",
       "      <td>executive</td>\n",
       "      <td>male</td>\n",
       "      <td>83.0</td>\n",
       "      <td>...</td>\n",
       "      <td>former chairman and CEO</td>\n",
       "      <td>1955.0</td>\n",
       "      <td>NaN</td>\n",
       "      <td>television, Univision</td>\n",
       "      <td>represented Marlon Brando and Elizabeth Taylor</td>\n",
       "      <td>NaN</td>\n",
       "      <td>http://en.wikipedia.org/wiki/Jerry_Perenchio</td>\n",
       "      <td>http://www.forbes.com/profile/a-jerrold-perenc...</td>\n",
       "      <td>COLUMN ONE; A Hollywood Player Who Owns the Ga...</td>\n",
       "      <td>NaN</td>\n",
       "    </tr>\n",
       "    <tr>\n",
       "      <th>5</th>\n",
       "      <td>2014</td>\n",
       "      <td>Abdulla Al Futtaim</td>\n",
       "      <td>687</td>\n",
       "      <td>United Arab Emirates</td>\n",
       "      <td>ARE</td>\n",
       "      <td>2.5</td>\n",
       "      <td>inherited</td>\n",
       "      <td>inherited</td>\n",
       "      <td>male</td>\n",
       "      <td>NaN</td>\n",
       "      <td>...</td>\n",
       "      <td>relation</td>\n",
       "      <td>1930.0</td>\n",
       "      <td>NaN</td>\n",
       "      <td>auto dealers, investments</td>\n",
       "      <td>company split between him and cousin in 2000</td>\n",
       "      <td>NaN</td>\n",
       "      <td>http://en.wikipedia.org/wiki/Al-Futtaim_Group</td>\n",
       "      <td>http://www.al-futtaim.ae/content/groupProfile.asp</td>\n",
       "      <td>NaN</td>\n",
       "      <td>NaN</td>\n",
       "    </tr>\n",
       "    <tr>\n",
       "      <th>6</th>\n",
       "      <td>2014</td>\n",
       "      <td>Abdulla bin Ahmad Al Ghurair</td>\n",
       "      <td>305</td>\n",
       "      <td>United Arab Emirates</td>\n",
       "      <td>ARE</td>\n",
       "      <td>4.8</td>\n",
       "      <td>inherited</td>\n",
       "      <td>inherited</td>\n",
       "      <td>male</td>\n",
       "      <td>NaN</td>\n",
       "      <td>...</td>\n",
       "      <td>relation</td>\n",
       "      <td>1960.0</td>\n",
       "      <td>NaN</td>\n",
       "      <td>diversified</td>\n",
       "      <td>inherited from father</td>\n",
       "      <td>NaN</td>\n",
       "      <td>http://en.wikipedia.org/wiki/Al-Ghurair_Group</td>\n",
       "      <td>http://www.alghurair.com/about-us/our-history</td>\n",
       "      <td>NaN</td>\n",
       "      <td>NaN</td>\n",
       "    </tr>\n",
       "    <tr>\n",
       "      <th>8</th>\n",
       "      <td>2014</td>\n",
       "      <td>Abdullah Al Rajhi</td>\n",
       "      <td>731</td>\n",
       "      <td>Saudi Arabia</td>\n",
       "      <td>SAU</td>\n",
       "      <td>2.4</td>\n",
       "      <td>self-made</td>\n",
       "      <td>self-made finance</td>\n",
       "      <td>male</td>\n",
       "      <td>NaN</td>\n",
       "      <td>...</td>\n",
       "      <td>founder</td>\n",
       "      <td>1957.0</td>\n",
       "      <td>NaN</td>\n",
       "      <td>banking</td>\n",
       "      <td>NaN</td>\n",
       "      <td>NaN</td>\n",
       "      <td>http://en.wikipedia.org/wiki/Al-Rajhi_Bank</td>\n",
       "      <td>http://www.alrajhibank.com.sa/ar/investor-rela...</td>\n",
       "      <td>http://www.alrajhibank.com.sa/ar/about-us/page...</td>\n",
       "      <td>NaN</td>\n",
       "    </tr>\n",
       "    <tr>\n",
       "      <th>9</th>\n",
       "      <td>2014</td>\n",
       "      <td>Abdulsamad Rabiu</td>\n",
       "      <td>1372</td>\n",
       "      <td>Nigeria</td>\n",
       "      <td>NGA</td>\n",
       "      <td>1.2</td>\n",
       "      <td>self-made</td>\n",
       "      <td>founder non-finance</td>\n",
       "      <td>male</td>\n",
       "      <td>54.0</td>\n",
       "      <td>...</td>\n",
       "      <td>founder</td>\n",
       "      <td>1988.0</td>\n",
       "      <td>NaN</td>\n",
       "      <td>sugar, flour, cement</td>\n",
       "      <td>NaN</td>\n",
       "      <td>NaN</td>\n",
       "      <td>http://www.forbes.com/profile/abdulsamad-rabiu/</td>\n",
       "      <td>http://www.bloomberg.com/research/stocks/priva...</td>\n",
       "      <td>NaN</td>\n",
       "      <td>NaN</td>\n",
       "    </tr>\n",
       "  </tbody>\n",
       "</table>\n",
       "<p>5 rows × 30 columns</p>\n",
       "</div>"
      ],
      "text/plain": [
       "   year                          name  rank           citizenship countrycode  \\\n",
       "1  2014          A. Jerrold Perenchio   663         United States         USA   \n",
       "5  2014            Abdulla Al Futtaim   687  United Arab Emirates         ARE   \n",
       "6  2014  Abdulla bin Ahmad Al Ghurair   305  United Arab Emirates         ARE   \n",
       "8  2014             Abdullah Al Rajhi   731          Saudi Arabia         SAU   \n",
       "9  2014              Abdulsamad Rabiu  1372               Nigeria         NGA   \n",
       "\n",
       "   networthusbillion   selfmade         typeofwealth gender   age   ...     \\\n",
       "1                2.6  self-made            executive   male  83.0   ...      \n",
       "5                2.5  inherited            inherited   male   NaN   ...      \n",
       "6                4.8  inherited            inherited   male   NaN   ...      \n",
       "8                2.4  self-made    self-made finance   male   NaN   ...      \n",
       "9                1.2  self-made  founder non-finance   male  54.0   ...      \n",
       "\n",
       "     relationshiptocompany foundingdate gdpcurrentus  \\\n",
       "1  former chairman and CEO       1955.0          NaN   \n",
       "5                 relation       1930.0          NaN   \n",
       "6                 relation       1960.0          NaN   \n",
       "8                  founder       1957.0          NaN   \n",
       "9                  founder       1988.0          NaN   \n",
       "\n",
       "              sourceofwealth                                           notes  \\\n",
       "1      television, Univision  represented Marlon Brando and Elizabeth Taylor   \n",
       "5  auto dealers, investments    company split between him and cousin in 2000   \n",
       "6                diversified                           inherited from father   \n",
       "8                    banking                                             NaN   \n",
       "9       sugar, flour, cement                                             NaN   \n",
       "\n",
       "   notes2                                           source  \\\n",
       "1     NaN     http://en.wikipedia.org/wiki/Jerry_Perenchio   \n",
       "5     NaN    http://en.wikipedia.org/wiki/Al-Futtaim_Group   \n",
       "6     NaN    http://en.wikipedia.org/wiki/Al-Ghurair_Group   \n",
       "8     NaN       http://en.wikipedia.org/wiki/Al-Rajhi_Bank   \n",
       "9     NaN  http://www.forbes.com/profile/abdulsamad-rabiu/   \n",
       "\n",
       "                                            source_2  \\\n",
       "1  http://www.forbes.com/profile/a-jerrold-perenc...   \n",
       "5  http://www.al-futtaim.ae/content/groupProfile.asp   \n",
       "6      http://www.alghurair.com/about-us/our-history   \n",
       "8  http://www.alrajhibank.com.sa/ar/investor-rela...   \n",
       "9  http://www.bloomberg.com/research/stocks/priva...   \n",
       "\n",
       "                                            source_3 source_4  \n",
       "1  COLUMN ONE; A Hollywood Player Who Owns the Ga...      NaN  \n",
       "5                                                NaN      NaN  \n",
       "6                                                NaN      NaN  \n",
       "8  http://www.alrajhibank.com.sa/ar/about-us/page...      NaN  \n",
       "9                                                NaN      NaN  \n",
       "\n",
       "[5 rows x 30 columns]"
      ]
     },
     "execution_count": 374,
     "metadata": {},
     "output_type": "execute_result"
    }
   ],
   "source": [
    "recent = df[df['year']==2014]\n",
    "recent.head(5)"
   ]
  },
  {
   "cell_type": "markdown",
   "metadata": {},
   "source": [
    "### 1) What country are most billionaires from? For the top ones, how many billionaires per billion people?"
   ]
  },
  {
   "cell_type": "code",
   "execution_count": 375,
   "metadata": {
    "collapsed": false
   },
   "outputs": [
    {
     "name": "stdout",
     "output_type": "stream",
     "text": [
      "             population  pop_in_billions  num_billionaires  \\\n",
      "countrycode                                                  \n",
      "USA           318900000          0.31890               499   \n",
      "CHN          1357000000          1.35700               152   \n",
      "RUS           143500000          0.14350               111   \n",
      "DEU            80620000          0.08062                85   \n",
      "BRA           200400000          0.20040                65   \n",
      "\n",
      "             billionaires_per_billionppl  \n",
      "countrycode                               \n",
      "USA                          1564.753841  \n",
      "CHN                           112.011791  \n",
      "RUS                           773.519164  \n",
      "DEU                          1054.328951  \n",
      "BRA                           324.351297  \n"
     ]
    }
   ],
   "source": [
    "top_df = pd.DataFrame(recent['countrycode'].value_counts().head())\n",
    "top_df.index.names = ['countrycode']\n",
    "top_df['num_billionaires'] = top_df.countrycode \n",
    "top_df.pop('countrycode')\n",
    "\n",
    "# print(top_df)\n",
    "\n",
    "pop_df = pd.DataFrame([\n",
    "    {'population':318900000},\n",
    "    {'population':1357000000},\n",
    "    {'population':143500000},\n",
    "    {'population':80620000},\n",
    "    {'population':200400000}\n",
    "    ], index = ['USA', 'CHN', 'RUS', 'DEU', 'BRA'])\n",
    "\n",
    "pop_df.index.names = ['countrycode']\n",
    "\n",
    "pop_df['pop_in_billions'] = pop_df['population']/1000000000\n",
    "\n",
    "\n",
    "# print(pop_df)\n",
    "\n",
    "\n",
    "result = pd.merge(pop_df, top_df, left_index=True, right_index=True)\n",
    "result['billionaires_per_billionppl'] = result['num_billionaires']/result['pop_in_billions']\n",
    "print(result)\n",
    "\n",
    "\n",
    "\n"
   ]
  },
  {
   "cell_type": "markdown",
   "metadata": {},
   "source": [
    "### 2) Who are the top 10 richest billionaires?"
   ]
  },
  {
   "cell_type": "code",
   "execution_count": 376,
   "metadata": {
    "collapsed": false
   },
   "outputs": [
    {
     "data": {
      "text/html": [
       "<div>\n",
       "<table border=\"1\" class=\"dataframe\">\n",
       "  <thead>\n",
       "    <tr style=\"text-align: right;\">\n",
       "      <th></th>\n",
       "      <th>year</th>\n",
       "      <th>name</th>\n",
       "      <th>rank</th>\n",
       "      <th>citizenship</th>\n",
       "      <th>countrycode</th>\n",
       "      <th>networthusbillion</th>\n",
       "      <th>selfmade</th>\n",
       "      <th>typeofwealth</th>\n",
       "      <th>gender</th>\n",
       "      <th>age</th>\n",
       "      <th>...</th>\n",
       "      <th>relationshiptocompany</th>\n",
       "      <th>foundingdate</th>\n",
       "      <th>gdpcurrentus</th>\n",
       "      <th>sourceofwealth</th>\n",
       "      <th>notes</th>\n",
       "      <th>notes2</th>\n",
       "      <th>source</th>\n",
       "      <th>source_2</th>\n",
       "      <th>source_3</th>\n",
       "      <th>source_4</th>\n",
       "    </tr>\n",
       "  </thead>\n",
       "  <tbody>\n",
       "    <tr>\n",
       "      <th>284</th>\n",
       "      <td>2014</td>\n",
       "      <td>Bill Gates</td>\n",
       "      <td>1</td>\n",
       "      <td>United States</td>\n",
       "      <td>USA</td>\n",
       "      <td>76.0</td>\n",
       "      <td>self-made</td>\n",
       "      <td>founder non-finance</td>\n",
       "      <td>male</td>\n",
       "      <td>58.0</td>\n",
       "      <td>...</td>\n",
       "      <td>founder</td>\n",
       "      <td>1975.0</td>\n",
       "      <td>NaN</td>\n",
       "      <td>Microsoft</td>\n",
       "      <td>NaN</td>\n",
       "      <td>NaN</td>\n",
       "      <td>http://www.forbes.com/profile/bill-gates/</td>\n",
       "      <td>NaN</td>\n",
       "      <td>NaN</td>\n",
       "      <td>NaN</td>\n",
       "    </tr>\n",
       "    <tr>\n",
       "      <th>348</th>\n",
       "      <td>2014</td>\n",
       "      <td>Carlos Slim Helu</td>\n",
       "      <td>2</td>\n",
       "      <td>Mexico</td>\n",
       "      <td>MEX</td>\n",
       "      <td>72.0</td>\n",
       "      <td>self-made</td>\n",
       "      <td>privatized and resources</td>\n",
       "      <td>male</td>\n",
       "      <td>74.0</td>\n",
       "      <td>...</td>\n",
       "      <td>founder</td>\n",
       "      <td>1990.0</td>\n",
       "      <td>NaN</td>\n",
       "      <td>telecom</td>\n",
       "      <td>NaN</td>\n",
       "      <td>NaN</td>\n",
       "      <td>http://www.ozy.com/provocateurs/carlos-slims-w...</td>\n",
       "      <td>NaN</td>\n",
       "      <td>NaN</td>\n",
       "      <td>NaN</td>\n",
       "    </tr>\n",
       "    <tr>\n",
       "      <th>124</th>\n",
       "      <td>2014</td>\n",
       "      <td>Amancio Ortega</td>\n",
       "      <td>3</td>\n",
       "      <td>Spain</td>\n",
       "      <td>ESP</td>\n",
       "      <td>64.0</td>\n",
       "      <td>self-made</td>\n",
       "      <td>founder non-finance</td>\n",
       "      <td>male</td>\n",
       "      <td>77.0</td>\n",
       "      <td>...</td>\n",
       "      <td>founder</td>\n",
       "      <td>1975.0</td>\n",
       "      <td>NaN</td>\n",
       "      <td>retail</td>\n",
       "      <td>NaN</td>\n",
       "      <td>NaN</td>\n",
       "      <td>http://www.forbes.com/profile/amancio-ortega/</td>\n",
       "      <td>NaN</td>\n",
       "      <td>NaN</td>\n",
       "      <td>NaN</td>\n",
       "    </tr>\n",
       "    <tr>\n",
       "      <th>2491</th>\n",
       "      <td>2014</td>\n",
       "      <td>Warren Buffett</td>\n",
       "      <td>4</td>\n",
       "      <td>United States</td>\n",
       "      <td>USA</td>\n",
       "      <td>58.2</td>\n",
       "      <td>self-made</td>\n",
       "      <td>founder non-finance</td>\n",
       "      <td>male</td>\n",
       "      <td>83.0</td>\n",
       "      <td>...</td>\n",
       "      <td>founder</td>\n",
       "      <td>1839.0</td>\n",
       "      <td>NaN</td>\n",
       "      <td>Berkshire Hathaway</td>\n",
       "      <td>NaN</td>\n",
       "      <td>NaN</td>\n",
       "      <td>http://www.forbes.com/lists/2009/10/billionair...</td>\n",
       "      <td>http://www.forbes.com/companies/berkshire-hath...</td>\n",
       "      <td>NaN</td>\n",
       "      <td>NaN</td>\n",
       "    </tr>\n",
       "    <tr>\n",
       "      <th>1377</th>\n",
       "      <td>2014</td>\n",
       "      <td>Larry Ellison</td>\n",
       "      <td>5</td>\n",
       "      <td>United States</td>\n",
       "      <td>USA</td>\n",
       "      <td>48.0</td>\n",
       "      <td>self-made</td>\n",
       "      <td>founder non-finance</td>\n",
       "      <td>male</td>\n",
       "      <td>69.0</td>\n",
       "      <td>...</td>\n",
       "      <td>founder</td>\n",
       "      <td>1977.0</td>\n",
       "      <td>NaN</td>\n",
       "      <td>Oracle</td>\n",
       "      <td>NaN</td>\n",
       "      <td>NaN</td>\n",
       "      <td>http://www.forbes.com/profile/larry-ellison/</td>\n",
       "      <td>http://www.businessinsider.com/how-larry-ellis...</td>\n",
       "      <td>NaN</td>\n",
       "      <td>NaN</td>\n",
       "    </tr>\n",
       "    <tr>\n",
       "      <th>509</th>\n",
       "      <td>2014</td>\n",
       "      <td>David Koch</td>\n",
       "      <td>6</td>\n",
       "      <td>United States</td>\n",
       "      <td>USA</td>\n",
       "      <td>40.0</td>\n",
       "      <td>inherited</td>\n",
       "      <td>inherited</td>\n",
       "      <td>male</td>\n",
       "      <td>73.0</td>\n",
       "      <td>...</td>\n",
       "      <td>relation</td>\n",
       "      <td>1940.0</td>\n",
       "      <td>NaN</td>\n",
       "      <td>diversified</td>\n",
       "      <td>inherited from father</td>\n",
       "      <td>NaN</td>\n",
       "      <td>http://www.kochind.com/About_Koch/History_Time...</td>\n",
       "      <td>NaN</td>\n",
       "      <td>NaN</td>\n",
       "      <td>NaN</td>\n",
       "    </tr>\n",
       "    <tr>\n",
       "      <th>381</th>\n",
       "      <td>2014</td>\n",
       "      <td>Charles Koch</td>\n",
       "      <td>6</td>\n",
       "      <td>United States</td>\n",
       "      <td>USA</td>\n",
       "      <td>40.0</td>\n",
       "      <td>inherited</td>\n",
       "      <td>inherited</td>\n",
       "      <td>male</td>\n",
       "      <td>78.0</td>\n",
       "      <td>...</td>\n",
       "      <td>relation</td>\n",
       "      <td>1940.0</td>\n",
       "      <td>NaN</td>\n",
       "      <td>diversified</td>\n",
       "      <td>inherited from father</td>\n",
       "      <td>NaN</td>\n",
       "      <td>http://www.kochind.com/About_Koch/History_Time...</td>\n",
       "      <td>NaN</td>\n",
       "      <td>NaN</td>\n",
       "      <td>NaN</td>\n",
       "    </tr>\n",
       "    <tr>\n",
       "      <th>2185</th>\n",
       "      <td>2014</td>\n",
       "      <td>Sheldon Adelson</td>\n",
       "      <td>8</td>\n",
       "      <td>United States</td>\n",
       "      <td>USA</td>\n",
       "      <td>38.0</td>\n",
       "      <td>self-made</td>\n",
       "      <td>self-made finance</td>\n",
       "      <td>male</td>\n",
       "      <td>80.0</td>\n",
       "      <td>...</td>\n",
       "      <td>founder</td>\n",
       "      <td>1952.0</td>\n",
       "      <td>NaN</td>\n",
       "      <td>casinos</td>\n",
       "      <td>NaN</td>\n",
       "      <td>NaN</td>\n",
       "      <td>http://www.forbes.com/profile/sheldon-adelson/</td>\n",
       "      <td>http://lasvegassun.com/news/1996/nov/26/rat-pa...</td>\n",
       "      <td>NaN</td>\n",
       "      <td>NaN</td>\n",
       "    </tr>\n",
       "    <tr>\n",
       "      <th>429</th>\n",
       "      <td>2014</td>\n",
       "      <td>Christy Walton</td>\n",
       "      <td>9</td>\n",
       "      <td>United States</td>\n",
       "      <td>USA</td>\n",
       "      <td>36.7</td>\n",
       "      <td>inherited</td>\n",
       "      <td>inherited</td>\n",
       "      <td>female</td>\n",
       "      <td>59.0</td>\n",
       "      <td>...</td>\n",
       "      <td>relation</td>\n",
       "      <td>1962.0</td>\n",
       "      <td>NaN</td>\n",
       "      <td>Wal-Mart</td>\n",
       "      <td>widow</td>\n",
       "      <td>NaN</td>\n",
       "      <td>http://www.forbes.com/profile/christy-walton/</td>\n",
       "      <td>NaN</td>\n",
       "      <td>NaN</td>\n",
       "      <td>NaN</td>\n",
       "    </tr>\n",
       "    <tr>\n",
       "      <th>1128</th>\n",
       "      <td>2014</td>\n",
       "      <td>Jim Walton</td>\n",
       "      <td>10</td>\n",
       "      <td>United States</td>\n",
       "      <td>USA</td>\n",
       "      <td>34.7</td>\n",
       "      <td>inherited</td>\n",
       "      <td>inherited</td>\n",
       "      <td>male</td>\n",
       "      <td>66.0</td>\n",
       "      <td>...</td>\n",
       "      <td>relation</td>\n",
       "      <td>1962.0</td>\n",
       "      <td>NaN</td>\n",
       "      <td>Wal-Mart</td>\n",
       "      <td>inherited from father</td>\n",
       "      <td>NaN</td>\n",
       "      <td>http://www.forbes.com/profile/jim-walton/</td>\n",
       "      <td>NaN</td>\n",
       "      <td>NaN</td>\n",
       "      <td>NaN</td>\n",
       "    </tr>\n",
       "  </tbody>\n",
       "</table>\n",
       "<p>10 rows × 30 columns</p>\n",
       "</div>"
      ],
      "text/plain": [
       "      year              name  rank    citizenship countrycode  \\\n",
       "284   2014        Bill Gates     1  United States         USA   \n",
       "348   2014  Carlos Slim Helu     2         Mexico         MEX   \n",
       "124   2014    Amancio Ortega     3          Spain         ESP   \n",
       "2491  2014    Warren Buffett     4  United States         USA   \n",
       "1377  2014     Larry Ellison     5  United States         USA   \n",
       "509   2014        David Koch     6  United States         USA   \n",
       "381   2014      Charles Koch     6  United States         USA   \n",
       "2185  2014   Sheldon Adelson     8  United States         USA   \n",
       "429   2014    Christy Walton     9  United States         USA   \n",
       "1128  2014        Jim Walton    10  United States         USA   \n",
       "\n",
       "      networthusbillion   selfmade              typeofwealth  gender   age  \\\n",
       "284                76.0  self-made       founder non-finance    male  58.0   \n",
       "348                72.0  self-made  privatized and resources    male  74.0   \n",
       "124                64.0  self-made       founder non-finance    male  77.0   \n",
       "2491               58.2  self-made       founder non-finance    male  83.0   \n",
       "1377               48.0  self-made       founder non-finance    male  69.0   \n",
       "509                40.0  inherited                 inherited    male  73.0   \n",
       "381                40.0  inherited                 inherited    male  78.0   \n",
       "2185               38.0  self-made         self-made finance    male  80.0   \n",
       "429                36.7  inherited                 inherited  female  59.0   \n",
       "1128               34.7  inherited                 inherited    male  66.0   \n",
       "\n",
       "       ...    relationshiptocompany foundingdate gdpcurrentus  \\\n",
       "284    ...                  founder       1975.0          NaN   \n",
       "348    ...                  founder       1990.0          NaN   \n",
       "124    ...                  founder       1975.0          NaN   \n",
       "2491   ...                  founder       1839.0          NaN   \n",
       "1377   ...                  founder       1977.0          NaN   \n",
       "509    ...                 relation       1940.0          NaN   \n",
       "381    ...                 relation       1940.0          NaN   \n",
       "2185   ...                  founder       1952.0          NaN   \n",
       "429    ...                 relation       1962.0          NaN   \n",
       "1128   ...                 relation       1962.0          NaN   \n",
       "\n",
       "          sourceofwealth                  notes  notes2  \\\n",
       "284            Microsoft                    NaN     NaN   \n",
       "348              telecom                    NaN     NaN   \n",
       "124               retail                    NaN     NaN   \n",
       "2491  Berkshire Hathaway                    NaN     NaN   \n",
       "1377              Oracle                    NaN     NaN   \n",
       "509          diversified  inherited from father     NaN   \n",
       "381          diversified  inherited from father     NaN   \n",
       "2185             casinos                    NaN     NaN   \n",
       "429             Wal-Mart                  widow     NaN   \n",
       "1128            Wal-Mart  inherited from father     NaN   \n",
       "\n",
       "                                                 source  \\\n",
       "284           http://www.forbes.com/profile/bill-gates/   \n",
       "348   http://www.ozy.com/provocateurs/carlos-slims-w...   \n",
       "124       http://www.forbes.com/profile/amancio-ortega/   \n",
       "2491  http://www.forbes.com/lists/2009/10/billionair...   \n",
       "1377       http://www.forbes.com/profile/larry-ellison/   \n",
       "509   http://www.kochind.com/About_Koch/History_Time...   \n",
       "381   http://www.kochind.com/About_Koch/History_Time...   \n",
       "2185     http://www.forbes.com/profile/sheldon-adelson/   \n",
       "429       http://www.forbes.com/profile/christy-walton/   \n",
       "1128          http://www.forbes.com/profile/jim-walton/   \n",
       "\n",
       "                                               source_2 source_3 source_4  \n",
       "284                                                 NaN      NaN      NaN  \n",
       "348                                                 NaN      NaN      NaN  \n",
       "124                                                 NaN      NaN      NaN  \n",
       "2491  http://www.forbes.com/companies/berkshire-hath...      NaN      NaN  \n",
       "1377  http://www.businessinsider.com/how-larry-ellis...      NaN      NaN  \n",
       "509                                                 NaN      NaN      NaN  \n",
       "381                                                 NaN      NaN      NaN  \n",
       "2185  http://lasvegassun.com/news/1996/nov/26/rat-pa...      NaN      NaN  \n",
       "429                                                 NaN      NaN      NaN  \n",
       "1128                                                NaN      NaN      NaN  \n",
       "\n",
       "[10 rows x 30 columns]"
      ]
     },
     "execution_count": 376,
     "metadata": {},
     "output_type": "execute_result"
    }
   ],
   "source": [
    "recent.sort_values(by='networthusbillion', ascending=False).head(10)"
   ]
  },
  {
   "cell_type": "markdown",
   "metadata": {},
   "source": [
    "### 3) What's the average wealth of a billionaire? Male? Female?"
   ]
  },
  {
   "cell_type": "code",
   "execution_count": 377,
   "metadata": {
    "collapsed": false
   },
   "outputs": [
    {
     "data": {
      "text/plain": [
       "gender\n",
       "female    3.920556\n",
       "male      3.902716\n",
       "Name: networthusbillion, dtype: float64"
      ]
     },
     "execution_count": 377,
     "metadata": {},
     "output_type": "execute_result"
    }
   ],
   "source": [
    "recent.groupby('gender')['networthusbillion'].mean()"
   ]
  },
  {
   "cell_type": "markdown",
   "metadata": {},
   "source": [
    "### 4) Who is the poorest billionaire? Who are the top 10 poorest billionaires?\n"
   ]
  },
  {
   "cell_type": "code",
   "execution_count": 378,
   "metadata": {
    "collapsed": false
   },
   "outputs": [
    {
     "data": {
      "text/html": [
       "<div>\n",
       "<table border=\"1\" class=\"dataframe\">\n",
       "  <thead>\n",
       "    <tr style=\"text-align: right;\">\n",
       "      <th></th>\n",
       "      <th>year</th>\n",
       "      <th>name</th>\n",
       "      <th>rank</th>\n",
       "      <th>citizenship</th>\n",
       "      <th>countrycode</th>\n",
       "      <th>networthusbillion</th>\n",
       "      <th>selfmade</th>\n",
       "      <th>typeofwealth</th>\n",
       "      <th>gender</th>\n",
       "      <th>age</th>\n",
       "      <th>...</th>\n",
       "      <th>relationshiptocompany</th>\n",
       "      <th>foundingdate</th>\n",
       "      <th>gdpcurrentus</th>\n",
       "      <th>sourceofwealth</th>\n",
       "      <th>notes</th>\n",
       "      <th>notes2</th>\n",
       "      <th>source</th>\n",
       "      <th>source_2</th>\n",
       "      <th>source_3</th>\n",
       "      <th>source_4</th>\n",
       "    </tr>\n",
       "  </thead>\n",
       "  <tbody>\n",
       "    <tr>\n",
       "      <th>234</th>\n",
       "      <td>2014</td>\n",
       "      <td>B.R. Shetty</td>\n",
       "      <td>1565</td>\n",
       "      <td>India</td>\n",
       "      <td>IND</td>\n",
       "      <td>1.0</td>\n",
       "      <td>self-made</td>\n",
       "      <td>founder non-finance</td>\n",
       "      <td>male</td>\n",
       "      <td>72.0</td>\n",
       "      <td>...</td>\n",
       "      <td>founder</td>\n",
       "      <td>1975.0</td>\n",
       "      <td>NaN</td>\n",
       "      <td>healthcare</td>\n",
       "      <td>NaN</td>\n",
       "      <td>NaN</td>\n",
       "      <td>http://en.wikipedia.org/wiki/B._R._Shetty</td>\n",
       "      <td>http://www.nmchealth.com/dr-br-shetty/</td>\n",
       "      <td>NaN</td>\n",
       "      <td>NaN</td>\n",
       "    </tr>\n",
       "    <tr>\n",
       "      <th>2092</th>\n",
       "      <td>2014</td>\n",
       "      <td>Rostam Azizi</td>\n",
       "      <td>1565</td>\n",
       "      <td>Tanzania</td>\n",
       "      <td>TZA</td>\n",
       "      <td>1.0</td>\n",
       "      <td>self-made</td>\n",
       "      <td>executive</td>\n",
       "      <td>male</td>\n",
       "      <td>49.0</td>\n",
       "      <td>...</td>\n",
       "      <td>investor</td>\n",
       "      <td>1999.0</td>\n",
       "      <td>NaN</td>\n",
       "      <td>telecom, investments</td>\n",
       "      <td>NaN</td>\n",
       "      <td>NaN</td>\n",
       "      <td>http://www.forbes.com/profile/rostam-azizi/</td>\n",
       "      <td>http://en.wikipedia.org/wiki/Vodacom_Tanzania</td>\n",
       "      <td>http://www.thecitizen.co.tz/News/Rostam--Dewji...</td>\n",
       "      <td>NaN</td>\n",
       "    </tr>\n",
       "    <tr>\n",
       "      <th>2401</th>\n",
       "      <td>2014</td>\n",
       "      <td>Tory Burch</td>\n",
       "      <td>1565</td>\n",
       "      <td>United States</td>\n",
       "      <td>USA</td>\n",
       "      <td>1.0</td>\n",
       "      <td>self-made</td>\n",
       "      <td>founder non-finance</td>\n",
       "      <td>female</td>\n",
       "      <td>47.0</td>\n",
       "      <td>...</td>\n",
       "      <td>founder</td>\n",
       "      <td>2004.0</td>\n",
       "      <td>NaN</td>\n",
       "      <td>fashion</td>\n",
       "      <td>NaN</td>\n",
       "      <td>NaN</td>\n",
       "      <td>http://en.wikipedia.org/wiki/J._Christopher_Burch</td>\n",
       "      <td>http://www.vanityfair.com/news/2007/02/tory-bu...</td>\n",
       "      <td>NaN</td>\n",
       "      <td>NaN</td>\n",
       "    </tr>\n",
       "    <tr>\n",
       "      <th>734</th>\n",
       "      <td>2014</td>\n",
       "      <td>Fred Chang</td>\n",
       "      <td>1565</td>\n",
       "      <td>United States</td>\n",
       "      <td>USA</td>\n",
       "      <td>1.0</td>\n",
       "      <td>self-made</td>\n",
       "      <td>founder non-finance</td>\n",
       "      <td>male</td>\n",
       "      <td>57.0</td>\n",
       "      <td>...</td>\n",
       "      <td>founder</td>\n",
       "      <td>2001.0</td>\n",
       "      <td>NaN</td>\n",
       "      <td>online retailing</td>\n",
       "      <td>NaN</td>\n",
       "      <td>NaN</td>\n",
       "      <td>http://en.wikipedia.org/wiki/Newegg</td>\n",
       "      <td>http://www.newegg.com/Info/FactSheet.aspx</td>\n",
       "      <td>http://www.forbes.com/sites/andreanavarro/2014...</td>\n",
       "      <td>NaN</td>\n",
       "    </tr>\n",
       "    <tr>\n",
       "      <th>171</th>\n",
       "      <td>2014</td>\n",
       "      <td>Angela Bennett</td>\n",
       "      <td>1565</td>\n",
       "      <td>Australia</td>\n",
       "      <td>AUS</td>\n",
       "      <td>1.0</td>\n",
       "      <td>inherited</td>\n",
       "      <td>inherited</td>\n",
       "      <td>female</td>\n",
       "      <td>69.0</td>\n",
       "      <td>...</td>\n",
       "      <td>relation</td>\n",
       "      <td>1955.0</td>\n",
       "      <td>NaN</td>\n",
       "      <td>mining</td>\n",
       "      <td>inherited from father</td>\n",
       "      <td>shared fortune with brother</td>\n",
       "      <td>http://www.forbes.com/profile/angela-bennett/</td>\n",
       "      <td>NaN</td>\n",
       "      <td>NaN</td>\n",
       "      <td>NaN</td>\n",
       "    </tr>\n",
       "    <tr>\n",
       "      <th>748</th>\n",
       "      <td>2014</td>\n",
       "      <td>Fu Kwan</td>\n",
       "      <td>1565</td>\n",
       "      <td>China</td>\n",
       "      <td>CHN</td>\n",
       "      <td>1.0</td>\n",
       "      <td>self-made</td>\n",
       "      <td>self-made finance</td>\n",
       "      <td>male</td>\n",
       "      <td>56.0</td>\n",
       "      <td>...</td>\n",
       "      <td>chairman</td>\n",
       "      <td>1990.0</td>\n",
       "      <td>NaN</td>\n",
       "      <td>diversified</td>\n",
       "      <td>NaN</td>\n",
       "      <td>NaN</td>\n",
       "      <td>http://www.forbes.com/profile/fu-kwan/</td>\n",
       "      <td>http://www.macrolink.com.cn/en/AboutBig.aspx</td>\n",
       "      <td>NaN</td>\n",
       "      <td>NaN</td>\n",
       "    </tr>\n",
       "    <tr>\n",
       "      <th>2107</th>\n",
       "      <td>2014</td>\n",
       "      <td>Ryan Kavanaugh</td>\n",
       "      <td>1565</td>\n",
       "      <td>United States</td>\n",
       "      <td>USA</td>\n",
       "      <td>1.0</td>\n",
       "      <td>self-made</td>\n",
       "      <td>founder non-finance</td>\n",
       "      <td>male</td>\n",
       "      <td>39.0</td>\n",
       "      <td>...</td>\n",
       "      <td>founder</td>\n",
       "      <td>2004.0</td>\n",
       "      <td>NaN</td>\n",
       "      <td>Movies</td>\n",
       "      <td>NaN</td>\n",
       "      <td>NaN</td>\n",
       "      <td>http://en.wikipedia.org/wiki/Ryan_Kavanaugh</td>\n",
       "      <td>http://en.wikipedia.org/wiki/Relativity_Media</td>\n",
       "      <td>http://www.vanityfair.com/news/2010/03/kavanau...</td>\n",
       "      <td>NaN</td>\n",
       "    </tr>\n",
       "    <tr>\n",
       "      <th>1783</th>\n",
       "      <td>2014</td>\n",
       "      <td>O. Francis Biondi</td>\n",
       "      <td>1565</td>\n",
       "      <td>United States</td>\n",
       "      <td>USA</td>\n",
       "      <td>1.0</td>\n",
       "      <td>self-made</td>\n",
       "      <td>self-made finance</td>\n",
       "      <td>male</td>\n",
       "      <td>49.0</td>\n",
       "      <td>...</td>\n",
       "      <td>founder</td>\n",
       "      <td>1995.0</td>\n",
       "      <td>NaN</td>\n",
       "      <td>hedge fund</td>\n",
       "      <td>NaN</td>\n",
       "      <td>NaN</td>\n",
       "      <td>http://www.forbes.com/profile/o-francis-biondi/</td>\n",
       "      <td>http://www.forbes.com/sites/nathanvardi/2014/0...</td>\n",
       "      <td>NaN</td>\n",
       "      <td>NaN</td>\n",
       "    </tr>\n",
       "    <tr>\n",
       "      <th>1371</th>\n",
       "      <td>2014</td>\n",
       "      <td>Lam Fong Ngo</td>\n",
       "      <td>1565</td>\n",
       "      <td>Macau</td>\n",
       "      <td>MAC</td>\n",
       "      <td>1.0</td>\n",
       "      <td>self-made</td>\n",
       "      <td>self-made finance</td>\n",
       "      <td>female</td>\n",
       "      <td>NaN</td>\n",
       "      <td>...</td>\n",
       "      <td>Vice Chairman</td>\n",
       "      <td>1997.0</td>\n",
       "      <td>NaN</td>\n",
       "      <td>casinos</td>\n",
       "      <td>NaN</td>\n",
       "      <td>NaN</td>\n",
       "      <td>http://www.forbes.com/profile/david-chow-1/</td>\n",
       "      <td>http://www.macaulegend.com/html/about_mileston...</td>\n",
       "      <td>Macau Legend to roll the dice on HK IPO; But l...</td>\n",
       "      <td>NaN</td>\n",
       "    </tr>\n",
       "    <tr>\n",
       "      <th>702</th>\n",
       "      <td>2014</td>\n",
       "      <td>Feng Hailiang</td>\n",
       "      <td>1565</td>\n",
       "      <td>China</td>\n",
       "      <td>CHN</td>\n",
       "      <td>1.0</td>\n",
       "      <td>self-made</td>\n",
       "      <td>founder non-finance</td>\n",
       "      <td>male</td>\n",
       "      <td>53.0</td>\n",
       "      <td>...</td>\n",
       "      <td>founder</td>\n",
       "      <td>1989.0</td>\n",
       "      <td>NaN</td>\n",
       "      <td>copper processing &amp; real estate</td>\n",
       "      <td>NaN</td>\n",
       "      <td>NaN</td>\n",
       "      <td>http://www.forbes.com/profile/feng-hailiang/</td>\n",
       "      <td>http://www.hailiang.com/en/about_int.php</td>\n",
       "      <td>NaN</td>\n",
       "      <td>NaN</td>\n",
       "    </tr>\n",
       "  </tbody>\n",
       "</table>\n",
       "<p>10 rows × 30 columns</p>\n",
       "</div>"
      ],
      "text/plain": [
       "      year               name  rank    citizenship countrycode  \\\n",
       "234   2014        B.R. Shetty  1565          India         IND   \n",
       "2092  2014       Rostam Azizi  1565       Tanzania         TZA   \n",
       "2401  2014         Tory Burch  1565  United States         USA   \n",
       "734   2014         Fred Chang  1565  United States         USA   \n",
       "171   2014     Angela Bennett  1565      Australia         AUS   \n",
       "748   2014            Fu Kwan  1565          China         CHN   \n",
       "2107  2014     Ryan Kavanaugh  1565  United States         USA   \n",
       "1783  2014  O. Francis Biondi  1565  United States         USA   \n",
       "1371  2014       Lam Fong Ngo  1565          Macau         MAC   \n",
       "702   2014      Feng Hailiang  1565          China         CHN   \n",
       "\n",
       "      networthusbillion   selfmade         typeofwealth  gender   age  \\\n",
       "234                 1.0  self-made  founder non-finance    male  72.0   \n",
       "2092                1.0  self-made            executive    male  49.0   \n",
       "2401                1.0  self-made  founder non-finance  female  47.0   \n",
       "734                 1.0  self-made  founder non-finance    male  57.0   \n",
       "171                 1.0  inherited            inherited  female  69.0   \n",
       "748                 1.0  self-made    self-made finance    male  56.0   \n",
       "2107                1.0  self-made  founder non-finance    male  39.0   \n",
       "1783                1.0  self-made    self-made finance    male  49.0   \n",
       "1371                1.0  self-made    self-made finance  female   NaN   \n",
       "702                 1.0  self-made  founder non-finance    male  53.0   \n",
       "\n",
       "       ...    relationshiptocompany foundingdate gdpcurrentus  \\\n",
       "234    ...                  founder       1975.0          NaN   \n",
       "2092   ...                 investor       1999.0          NaN   \n",
       "2401   ...                  founder       2004.0          NaN   \n",
       "734    ...                  founder       2001.0          NaN   \n",
       "171    ...                 relation       1955.0          NaN   \n",
       "748    ...                 chairman       1990.0          NaN   \n",
       "2107   ...                  founder       2004.0          NaN   \n",
       "1783   ...                  founder       1995.0          NaN   \n",
       "1371   ...            Vice Chairman       1997.0          NaN   \n",
       "702    ...                  founder       1989.0          NaN   \n",
       "\n",
       "                       sourceofwealth                  notes  \\\n",
       "234                        healthcare                    NaN   \n",
       "2092             telecom, investments                    NaN   \n",
       "2401                          fashion                    NaN   \n",
       "734                  online retailing                    NaN   \n",
       "171                            mining  inherited from father   \n",
       "748                       diversified                    NaN   \n",
       "2107                           Movies                    NaN   \n",
       "1783                       hedge fund                    NaN   \n",
       "1371                          casinos                    NaN   \n",
       "702   copper processing & real estate                    NaN   \n",
       "\n",
       "                           notes2  \\\n",
       "234                           NaN   \n",
       "2092                          NaN   \n",
       "2401                          NaN   \n",
       "734                           NaN   \n",
       "171   shared fortune with brother   \n",
       "748                           NaN   \n",
       "2107                          NaN   \n",
       "1783                          NaN   \n",
       "1371                          NaN   \n",
       "702                           NaN   \n",
       "\n",
       "                                                 source  \\\n",
       "234           http://en.wikipedia.org/wiki/B._R._Shetty   \n",
       "2092        http://www.forbes.com/profile/rostam-azizi/   \n",
       "2401  http://en.wikipedia.org/wiki/J._Christopher_Burch   \n",
       "734                 http://en.wikipedia.org/wiki/Newegg   \n",
       "171       http://www.forbes.com/profile/angela-bennett/   \n",
       "748              http://www.forbes.com/profile/fu-kwan/   \n",
       "2107        http://en.wikipedia.org/wiki/Ryan_Kavanaugh   \n",
       "1783    http://www.forbes.com/profile/o-francis-biondi/   \n",
       "1371        http://www.forbes.com/profile/david-chow-1/   \n",
       "702        http://www.forbes.com/profile/feng-hailiang/   \n",
       "\n",
       "                                               source_2  \\\n",
       "234              http://www.nmchealth.com/dr-br-shetty/   \n",
       "2092      http://en.wikipedia.org/wiki/Vodacom_Tanzania   \n",
       "2401  http://www.vanityfair.com/news/2007/02/tory-bu...   \n",
       "734           http://www.newegg.com/Info/FactSheet.aspx   \n",
       "171                                                 NaN   \n",
       "748        http://www.macrolink.com.cn/en/AboutBig.aspx   \n",
       "2107      http://en.wikipedia.org/wiki/Relativity_Media   \n",
       "1783  http://www.forbes.com/sites/nathanvardi/2014/0...   \n",
       "1371  http://www.macaulegend.com/html/about_mileston...   \n",
       "702            http://www.hailiang.com/en/about_int.php   \n",
       "\n",
       "                                               source_3 source_4  \n",
       "234                                                 NaN      NaN  \n",
       "2092  http://www.thecitizen.co.tz/News/Rostam--Dewji...      NaN  \n",
       "2401                                                NaN      NaN  \n",
       "734   http://www.forbes.com/sites/andreanavarro/2014...      NaN  \n",
       "171                                                 NaN      NaN  \n",
       "748                                                 NaN      NaN  \n",
       "2107  http://www.vanityfair.com/news/2010/03/kavanau...      NaN  \n",
       "1783                                                NaN      NaN  \n",
       "1371  Macau Legend to roll the dice on HK IPO; But l...      NaN  \n",
       "702                                                 NaN      NaN  \n",
       "\n",
       "[10 rows x 30 columns]"
      ]
     },
     "execution_count": 378,
     "metadata": {},
     "output_type": "execute_result"
    }
   ],
   "source": [
    "recent.sort_values('networthusbillion').head(10)"
   ]
  },
  {
   "cell_type": "markdown",
   "metadata": {},
   "source": [
    "### 5) 'What is relationship to company'? And what are the most common relationships?\n"
   ]
  },
  {
   "cell_type": "code",
   "execution_count": 379,
   "metadata": {
    "collapsed": false
   },
   "outputs": [
    {
     "data": {
      "text/plain": [
       "relationshiptocompany\n",
       "CEO                                                 8\n",
       "COO                                                 1\n",
       "Chairman                                            8\n",
       "Chairman and Chief Executive Officer               15\n",
       "Chairman, CEO                                       1\n",
       "Chairman/founder                                    1\n",
       "Chairman/shareholder                                1\n",
       "Chief Executive                                     2\n",
       "Exectuitve Director                                 1\n",
       "Global Head of Real Estate                          1\n",
       "Head of Board of Directors                          1\n",
       "Honorary President for Life                         1\n",
       "Relation                                            3\n",
       "Vice Chairman                                       3\n",
       "Vice President                                      1\n",
       "Vice President of Infrastructure Software           1\n",
       "ceo                                                 8\n",
       "chairman                                           64\n",
       "chairman and ceo                                    1\n",
       "chairman of management committee                    1\n",
       "chairman of the board                               1\n",
       "chairwomen                                          1\n",
       "chariman                                            1\n",
       "co-chairman                                         1\n",
       "co-director of zinc, copper and lead                1\n",
       "deputy chairman                                     1\n",
       "director                                            1\n",
       "employee                                            2\n",
       "executive chairman                                  3\n",
       "former CEO                                          5\n",
       "                                                 ... \n",
       "founder/CEO                                         2\n",
       "founder/chairman                                    3\n",
       "founder/president                                   1\n",
       "founder/relation                                    1\n",
       "founder/vice chairman                               2\n",
       "general director                                    2\n",
       "head of Microsoft's application software group      1\n",
       "head of high-yield bond trading dept                1\n",
       "inherited                                           1\n",
       "inventor                                            1\n",
       "investor                                           30\n",
       "investor and  CEO                                   1\n",
       "investor/founder                                    1\n",
       "lawyer                                              1\n",
       "leadership                                          2\n",
       "owner                                              79\n",
       "owner and former CEO                                1\n",
       "owner and vice chair                                1\n",
       "partner                                             4\n",
       "president                                           8\n",
       "president and ceo                                   2\n",
       "relation                                          515\n",
       "relation and ceo                                    1\n",
       "relation and chairman                               3\n",
       "relation/vice chairman                              1\n",
       "relative                                            2\n",
       "shareholder                                         1\n",
       "supervisory board or directors                      1\n",
       "vice chairman                                       1\n",
       "vice-chairman                                       1\n",
       "Name: relationshiptocompany, dtype: int64"
      ]
     },
     "execution_count": 379,
     "metadata": {},
     "output_type": "execute_result"
    }
   ],
   "source": [
    "recent.groupby('relationshiptocompany')['relationshiptocompany'].count()"
   ]
  },
  {
   "cell_type": "markdown",
   "metadata": {},
   "source": [
    "### 6) Most common source of wealth? Male vs. female?\n"
   ]
  },
  {
   "cell_type": "code",
   "execution_count": 380,
   "metadata": {
    "collapsed": false
   },
   "outputs": [
    {
     "data": {
      "text/plain": [
       "gender        \n",
       "female  count             172\n",
       "        unique            100\n",
       "        top       diversified\n",
       "        freq                9\n",
       "male    count            1464\n",
       "        unique            578\n",
       "        top       real estate\n",
       "        freq              100\n",
       "Name: sourceofwealth, dtype: object"
      ]
     },
     "execution_count": 380,
     "metadata": {},
     "output_type": "execute_result"
    }
   ],
   "source": [
    "recent['sourceofwealth'].groupby(recent['gender']).describe()\n",
    "# diversified for female\n",
    "# real estate for male "
   ]
  },
  {
   "cell_type": "markdown",
   "metadata": {},
   "source": [
    "### 7) Given the richest person in a country, what % of the GDP is their wealth?\n"
   ]
  },
  {
   "cell_type": "code",
   "execution_count": 381,
   "metadata": {
    "collapsed": false
   },
   "outputs": [
    {
     "name": "stdout",
     "output_type": "stream",
     "text": [
      "For USA the richest person has 76.0 billion dollars, which is 0.4235 percent of the GDP.\n",
      "For ARE the richest person has 4.8 billion dollars, which is 1.389 percent of the GDP.\n",
      "For SAU the richest person has 20.4 billion dollars, which is 3.123 percent of the GDP.\n",
      "For NGA the richest person has 25.0 billion dollars, which is 5.1 percent of the GDP.\n",
      "For BRA the richest person has 19.7 billion dollars, which is 1.111 percent of the GDP.\n",
      "For IDN the richest person has 7.6 billion dollars, which is 0.8848 percent of the GDP.\n",
      "For IND the richest person has 18.6 billion dollars, which is 0.8897 percent of the GDP.\n",
      "For TUR the richest person has 3.7 billion dollars, which is 0.5043 percent of the GDP.\n",
      "For RUS the richest person has 18.6 billion dollars, which is 1.404 percent of the GDP.\n",
      "For JPN the richest person has 18.4 billion dollars, which is 0.4462 percent of the GDP.\n",
      "For CAN the richest person has 22.6 billion dollars, which is 1.456 percent of the GDP.\n",
      "For FRA the richest person has 34.5 billion dollars, which is 1.425 percent of the GDP.\n",
      "For GBR the richest person has 13.0 billion dollars, which is 0.4562 percent of the GDP.\n",
      "For AUS the richest person has 17.7 billion dollars, which is 1.446 percent of the GDP.\n",
      "For BEL the richest person has 4.9 billion dollars, which is 1.078 percent of the GDP.\n",
      "For DEU the richest person has 25.0 billion dollars, which is 0.7446 percent of the GDP.\n",
      "For HKG the richest person has 31.0 billion dollars, which is 10.0 percent of the GDP.\n",
      "For ESP the richest person has 64.0 billion dollars, which is 5.335 percent of the GDP.\n",
      "For MEX the richest person has 72.0 billion dollars, which is 6.292 percent of the GDP.\n",
      "For ITA the richest person has 26.5 billion dollars, which is 1.459 percent of the GDP.\n",
      "For ARG the richest person has 5.5 billion dollars, which is 0.9392 percent of the GDP.\n",
      "For COL the richest person has 14.2 billion dollars, which is 4.842 percent of the GDP.\n",
      "For ISR the richest person has 7.0 billion dollars, which is 2.364 percent of the GDP.\n",
      "For NOR the richest person has 5.0 billion dollars, which is 1.284 percent of the GDP.\n",
      "For PRT the richest person has 5.3 billion dollars, which is 2.662 percent of the GDP.\n",
      "For KAZ the richest person has 2.2 billion dollars, which is 1.27 percent of the GDP.\n",
      "For ZAF the richest person has 7.6 billion dollars, which is 2.428 percent of the GDP.\n",
      "For THA the richest person has 11.4 billion dollars, which is 2.884 percent of the GDP.\n",
      "For CHL the richest person has 15.5 billion dollars, which is 6.452 percent of the GDP.\n",
      "For CHN the richest person has 15.1 billion dollars, which is 0.1375 percent of the GDP.\n",
      "For PER the richest person has 2.5 billion dollars, which is 1.301 percent of the GDP.\n",
      "For MYS the richest person has 11.5 billion dollars, which is 3.882 percent of the GDP.\n",
      "For MAR the richest person has 2.8 billion dollars, which is 2.715 percent of the GDP.\n",
      "For CZE the richest person has 11.0 billion dollars, which is 6.049 percent of the GDP.\n",
      "For PHL the richest person has 11.4 billion dollars, which is 3.905 percent of the GDP.\n",
      "For SWE the richest person has 34.4 billion dollars, which is 6.983 percent of the GDP.\n",
      "For FIN the richest person has 6.7 billion dollars, which is 2.917 percent of the GDP.\n",
      "For GRC the richest person has 3.2 billion dollars, which is 1.638 percent of the GDP.\n",
      "For SGP the richest person has 11.0 billion dollars, which is 3.758 percent of the GDP.\n",
      "For LBN the richest person has 3.1 billion dollars, which is 6.058 percent of the GDP.\n",
      "For LBN the richest person has 3.1 billion dollars, which is 6.058 percent of the GDP.\n",
      "For KWT the richest person has 1.3 billion dollars, which is 1.077 percent of the GDP.\n",
      "For KWT the richest person has 1.3 billion dollars, which is 1.077 percent of the GDP.\n",
      "For KWT the richest person has 1.3 billion dollars, which is 1.077 percent of the GDP.\n",
      "For KWT the richest person has 1.3 billion dollars, which is 1.077 percent of the GDP.\n",
      "For KWT the richest person has 1.3 billion dollars, which is 1.077 percent of the GDP.\n",
      "For CHE the richest person has 12.0 billion dollars, which is 1.806 percent of the GDP.\n",
      "For GEO the richest person has 5.2 billion dollars, which is 37.12 percent of the GDP.\n",
      "For NPL the richest person has 1.1 billion dollars, which is 5.151 percent of the GDP.\n",
      "For KOR the richest person has 11.1 billion dollars, which is 0.8062 percent of the GDP.\n",
      "For NLD the richest person has 10.4 billion dollars, which is 1.408 percent of the GDP.\n",
      "For POL the richest person has 3.6 billion dollars, which is 0.7581 percent of the GDP.\n",
      "For MAC the richest person has 1.8 billion dollars, which is 3.898 percent of the GDP.\n",
      "For IRL the richest person has 12.8 billion dollars, which is 5.377 percent of the GDP.\n",
      "For AUT the richest person has 9.2 billion dollars, which is 2.459 percent of the GDP.\n",
      "For NZL the richest person has 7.0 billion dollars, which is 4.064 percent of the GDP.\n",
      "For VEN the richest person has 4.0 billion dollars, which is 1.67 percent of the GDP.\n",
      "For UKR the richest person has 12.5 billion dollars, which is 13.81 percent of the GDP.\n",
      "For ROU the richest person has 1.2 billion dollars, which is 0.6768 percent of the GDP.\n",
      "For AGO the richest person has 3.7 billion dollars, which is 3.593 percent of the GDP.\n",
      "For DZA the richest person has 3.2 billion dollars, which is 1.857 percent of the GDP.\n",
      "For KNA the richest person has 1.2 billion dollars, which is 133.9 percent of the GDP.\n",
      "For CYP the richest person has 13.6 billion dollars, which is 70.36 percent of the GDP.\n",
      "For EGY the richest person has 3.1 billion dollars, which is 0.9372 percent of the GDP.\n",
      "For OMN the richest person has 1.2 billion dollars, which is 2.052 percent of the GDP.\n",
      "For SWZ the richest person has 3.7 billion dollars, which is 91.86 percent of the GDP.\n",
      "For LTU the richest person has 1.0 billion dollars, which is 2.423 percent of the GDP.\n",
      "For VNM the richest person has 1.6 billion dollars, which is 0.8357 percent of the GDP.\n",
      "For TZA the richest person has 1.0 billion dollars, which is 2.227 percent of the GDP.\n",
      "For UGA the richest person has 1.1 billion dollars, which is 4.446 percent of the GDP.\n"
     ]
    },
    {
     "name": "stderr",
     "output_type": "stream",
     "text": [
      "/Users/mercyemelike/.virtualenvs/data_analysis/lib/python3.5/site-packages/ipykernel/__main__.py:14: SettingWithCopyWarning: \n",
      "A value is trying to be set on a copy of a slice from a DataFrame.\n",
      "Try using .loc[row_indexer,col_indexer] = value instead\n",
      "\n",
      "See the caveats in the documentation: http://pandas.pydata.org/pandas-docs/stable/indexing.html#indexing-view-versus-copy\n",
      "/Users/mercyemelike/.virtualenvs/data_analysis/lib/python3.5/site-packages/ipykernel/__main__.py:17: SettingWithCopyWarning: \n",
      "A value is trying to be set on a copy of a slice from a DataFrame.\n",
      "Try using .loc[row_indexer,col_indexer] = value instead\n",
      "\n",
      "See the caveats in the documentation: http://pandas.pydata.org/pandas-docs/stable/indexing.html#indexing-view-versus-copy\n"
     ]
    }
   ],
   "source": [
    "# read in sheet where i compiled countries GDPs by countrycodes \n",
    "GDP = pd.read_excel('billionaires copy.xlsx', sheetname = 'Sheet3')\n",
    "\n",
    "# merge data with recent billionaires data\n",
    "merge = pd.merge(recent, GDP, on='countrycode')\n",
    "\n",
    "# select necessary columns\n",
    "col_list = ['name', 'countrycode', 'networthusbillion', 'GDPinmillions']\n",
    "\n",
    "# save columns to new dataframe\n",
    "result = merge[col_list]\n",
    "\n",
    "# calculate wealth as a percent of country GDP \n",
    "result['pct_GDP_byperson'] = ((result['networthusbillion']*1000)/result['GDPinmillions'])*100\n",
    "\n",
    "# max_bycountry stores TRUE/FALSE: has max billions in a country\n",
    "result['max_bycountry'] = result.groupby(['countrycode'])['networthusbillion'].transform(max) == result['networthusbillion']\n",
    "\n",
    "# interate over dataframe to print max billions and the percentage max billions is of GDP \n",
    "# for each country\n",
    "for index, row in result.iterrows(): \n",
    "    if row['max_bycountry']: \n",
    "        print('For', row['countrycode'], 'the richest person has', row['networthusbillion'], 'billion dollars,', 'which is', '{:,.4}'.format(row['pct_GDP_byperson']), 'percent of the GDP.')\n"
   ]
  },
  {
   "cell_type": "markdown",
   "metadata": {},
   "source": [
    "### 8) Add up the wealth of all of the billionaires in a given country (or a few countries) and then compare it to the GDP of the country, or other billionaires, so like pit the US vs India\n"
   ]
  },
  {
   "cell_type": "code",
   "execution_count": 488,
   "metadata": {
    "collapsed": false
   },
   "outputs": [
    {
     "name": "stderr",
     "output_type": "stream",
     "text": [
      "/Users/mercyemelike/.virtualenvs/data_analysis/lib/python3.5/site-packages/ipykernel/__main__.py:2: SettingWithCopyWarning: \n",
      "A value is trying to be set on a copy of a slice from a DataFrame.\n",
      "Try using .loc[row_indexer,col_indexer] = value instead\n",
      "\n",
      "See the caveats in the documentation: http://pandas.pydata.org/pandas-docs/stable/indexing.html#indexing-view-versus-copy\n",
      "  from ipykernel import kernelapp as app\n",
      "/Users/mercyemelike/.virtualenvs/data_analysis/lib/python3.5/site-packages/ipykernel/__main__.py:5: SettingWithCopyWarning: \n",
      "A value is trying to be set on a copy of a slice from a DataFrame.\n",
      "Try using .loc[row_indexer,col_indexer] = value instead\n",
      "\n",
      "See the caveats in the documentation: http://pandas.pydata.org/pandas-docs/stable/indexing.html#indexing-view-versus-copy\n",
      "/Users/mercyemelike/.virtualenvs/data_analysis/lib/python3.5/site-packages/ipykernel/__main__.py:8: SettingWithCopyWarning: \n",
      "A value is trying to be set on a copy of a slice from a DataFrame.\n",
      "Try using .loc[row_indexer,col_indexer] = value instead\n",
      "\n",
      "See the caveats in the documentation: http://pandas.pydata.org/pandas-docs/stable/indexing.html#indexing-view-versus-copy\n"
     ]
    },
    {
     "name": "stdout",
     "output_type": "stream",
     "text": [
      "The sum of every billionaire's wealth in USA is 2,322.4 billion, which is 12.94 percent of the GDP.\n",
      "The sum of every billionaire's wealth in ARE is 14.6 billion, which is 4.226 percent of the GDP.\n",
      "The sum of every billionaire's wealth in SAU is 49.0 billion, which is 7.501 percent of the GDP.\n",
      "The sum of every billionaire's wealth in NGA is 33.3 billion, which is 6.793 percent of the GDP.\n",
      "The sum of every billionaire's wealth in BRA is 192.2 billion, which is 10.84 percent of the GDP.\n",
      "The sum of every billionaire's wealth in IDN is 47.8 billion, which is 5.565 percent of the GDP.\n",
      "The sum of every billionaire's wealth in IND is 191.9 billion, which is 9.179 percent of the GDP.\n",
      "The sum of every billionaire's wealth in TUR is 43.2 billion, which is 5.888 percent of the GDP.\n",
      "The sum of every billionaire's wealth in RUS is 422.5 billion, which is 31.89 percent of the GDP.\n",
      "The sum of every billionaire's wealth in JPN is 101.0 billion, which is 2.45 percent of the GDP.\n",
      "The sum of every billionaire's wealth in CAN is 112.8 billion, which is 7.266 percent of the GDP.\n",
      "The sum of every billionaire's wealth in FRA is 235.3 billion, which is 9.717 percent of the GDP.\n",
      "The sum of every billionaire's wealth in GBR is 152.0 billion, which is 5.335 percent of the GDP.\n",
      "The sum of every billionaire's wealth in AUS is 85.4 billion, which is 6.978 percent of the GDP.\n",
      "The sum of every billionaire's wealth in BEL is 8.0 billion, which is 1.759 percent of the GDP.\n",
      "The sum of every billionaire's wealth in DEU is 401.4 billion, which is 11.95 percent of the GDP.\n",
      "The sum of every billionaire's wealth in HKG is 213.7 billion, which is 68.95 percent of the GDP.\n",
      "The sum of every billionaire's wealth in ESP is 122.6 billion, which is 10.22 percent of the GDP.\n",
      "The sum of every billionaire's wealth in MEX is 142.9 billion, which is 12.49 percent of the GDP.\n",
      "The sum of every billionaire's wealth in ITA is 158.1 billion, which is 8.707 percent of the GDP.\n",
      "The sum of every billionaire's wealth in ARG is 11.3 billion, which is 1.93 percent of the GDP.\n",
      "The sum of every billionaire's wealth in COL is 30.6 billion, which is 10.44 percent of the GDP.\n",
      "The sum of every billionaire's wealth in ISR is 51.8 billion, which is 17.5 percent of the GDP.\n",
      "The sum of every billionaire's wealth in NOR is 21.8 billion, which is 5.597 percent of the GDP.\n",
      "The sum of every billionaire's wealth in PRT is 10.6 billion, which is 5.325 percent of the GDP.\n",
      "The sum of every billionaire's wealth in KAZ is 9.2 billion, which is 5.311 percent of the GDP.\n",
      "The sum of every billionaire's wealth in ZAF is 25.4 billion, which is 8.116 percent of the GDP.\n",
      "The sum of every billionaire's wealth in THA is 36.8 billion, which is 9.31 percent of the GDP.\n",
      "The sum of every billionaire's wealth in CHL is 41.3 billion, which is 17.19 percent of the GDP.\n",
      "The sum of every billionaire's wealth in CHN is 375.8 billion, which is 3.422 percent of the GDP.\n",
      "The sum of every billionaire's wealth in PER is 11.9 billion, which is 6.193 percent of the GDP.\n",
      "The sum of every billionaire's wealth in MYS is 53.1 billion, which is 17.93 percent of the GDP.\n",
      "The sum of every billionaire's wealth in MAR is 7.4 billion, which is 7.175 percent of the GDP.\n",
      "The sum of every billionaire's wealth in CZE is 18.4 billion, which is 10.12 percent of the GDP.\n",
      "The sum of every billionaire's wealth in PHL is 40.1 billion, which is 13.73 percent of the GDP.\n",
      "The sum of every billionaire's wealth in SWE is 116.7 billion, which is 23.69 percent of the GDP.\n",
      "The sum of every billionaire's wealth in FIN is 13.3 billion, which is 5.791 percent of the GDP.\n",
      "The sum of every billionaire's wealth in GRC is 8.2 billion, which is 4.198 percent of the GDP.\n",
      "The sum of every billionaire's wealth in SGP is 45.1 billion, which is 15.41 percent of the GDP.\n",
      "The sum of every billionaire's wealth in LBN is 12.3 billion, which is 24.04 percent of the GDP.\n",
      "The sum of every billionaire's wealth in KWT is 6.5 billion, which is 5.386 percent of the GDP.\n",
      "The sum of every billionaire's wealth in CHE is 80.2 billion, which is 12.07 percent of the GDP.\n",
      "The sum of every billionaire's wealth in GEO is 5.2 billion, which is 37.12 percent of the GDP.\n",
      "The sum of every billionaire's wealth in NPL is 1.1 billion, which is 5.151 percent of the GDP.\n",
      "The sum of every billionaire's wealth in KOR is 60.7 billion, which is 4.409 percent of the GDP.\n",
      "The sum of every billionaire's wealth in NLD is 24.2 billion, which is 3.277 percent of the GDP.\n",
      "The sum of every billionaire's wealth in POL is 12.8 billion, which is 2.695 percent of the GDP.\n",
      "The sum of every billionaire's wealth in MAC is 2.8 billion, which is 6.063 percent of the GDP.\n",
      "The sum of every billionaire's wealth in IRL is 25.5 billion, which is 10.71 percent of the GDP.\n",
      "The sum of every billionaire's wealth in AUT is 33.8 billion, which is 9.034 percent of the GDP.\n",
      "The sum of every billionaire's wealth in NZL is 9.8 billion, which is 5.689 percent of the GDP.\n",
      "The sum of every billionaire's wealth in VEN is 9.0 billion, which is 3.757 percent of the GDP.\n",
      "The sum of every billionaire's wealth in UKR is 26.6 billion, which is 29.38 percent of the GDP.\n",
      "The sum of every billionaire's wealth in ROU is 1.2 billion, which is 0.6768 percent of the GDP.\n",
      "The sum of every billionaire's wealth in AGO is 3.7 billion, which is 3.593 percent of the GDP.\n",
      "The sum of every billionaire's wealth in DZA is 3.2 billion, which is 1.857 percent of the GDP.\n",
      "The sum of every billionaire's wealth in KNA is 1.2 billion, which is 133.9 percent of the GDP.\n",
      "The sum of every billionaire's wealth in CYP is 19.7 billion, which is 101.9 percent of the GDP.\n",
      "The sum of every billionaire's wealth in EGY is 15.6 billion, which is 4.716 percent of the GDP.\n",
      "The sum of every billionaire's wealth in OMN is 2.3 billion, which is 3.932 percent of the GDP.\n",
      "The sum of every billionaire's wealth in SWZ is 3.7 billion, which is 91.86 percent of the GDP.\n",
      "The sum of every billionaire's wealth in LTU is 1.0 billion, which is 2.423 percent of the GDP.\n",
      "The sum of every billionaire's wealth in VNM is 1.6 billion, which is 0.8357 percent of the GDP.\n",
      "The sum of every billionaire's wealth in TZA is 1.0 billion, which is 2.227 percent of the GDP.\n",
      "The sum of every billionaire's wealth in UGA is 1.1 billion, which is 4.446 percent of the GDP.\n"
     ]
    }
   ],
   "source": [
    "# sum by country\n",
    "result['tot_bycountry'] = result.groupby(['countrycode'])['networthusbillion'].transform(sum)\n",
    "\n",
    "# find percent of GDP\n",
    "result['pct_GDP_bycountry'] = ((result['tot_bycountry']*1000)/result['GDPinmillions'])*100\n",
    "\n",
    "# TRUE/FALSE: first occurence of a country\n",
    "result['duplicated'] = result.duplicated('countrycode')\n",
    "\n",
    "# print sum of total billionaire wealth and its percentage of GDP by country \n",
    "for index, row in result.iterrows(): \n",
    "    if not row['duplicated']: \n",
    "        print(\"The sum of every billionaire's wealth in\", row['countrycode'], 'is', '{:,.6}'.format(row['tot_bycountry']), 'billion, which is', '{:,.4}'.format(row['pct_GDP_bycountry']), 'percent of the GDP.')\n",
    "\n",
    "\n"
   ]
  },
  {
   "cell_type": "markdown",
   "metadata": {},
   "source": [
    "### 9) What are the most common industries for billionaires to come from? What's the total amount of billionaire money from each industry?\n"
   ]
  },
  {
   "cell_type": "code",
   "execution_count": 383,
   "metadata": {
    "collapsed": false
   },
   "outputs": [
    {
     "data": {
      "text/plain": [
       "Consumer                   291\n",
       "Real Estate                190\n",
       "Retail, Restaurant         174\n",
       "Diversified financial      132\n",
       "Technology-Computer        131\n",
       "Money Management           122\n",
       "Media                      104\n",
       "Energy                      87\n",
       "Non-consumer industrial     83\n",
       "Technology-Medical          78\n",
       "Name: industry, dtype: int64"
      ]
     },
     "execution_count": 383,
     "metadata": {},
     "output_type": "execute_result"
    }
   ],
   "source": [
    "recent['industry'].value_counts().head(10)"
   ]
  },
  {
   "cell_type": "code",
   "execution_count": 384,
   "metadata": {
    "collapsed": false,
    "scrolled": true
   },
   "outputs": [
    {
     "data": {
      "text/plain": [
       "industry\n",
       "0                                     7.6\n",
       "Constrution                         175.4\n",
       "Consumer                           1177.8\n",
       "Diversified financial               614.4\n",
       "Energy                              340.5\n",
       "Hedge funds                         167.2\n",
       "Media                               490.5\n",
       "Mining and metals                   240.6\n",
       "Money Management                    381.3\n",
       "Non-consumer industrial             298.4\n",
       "Other                               179.3\n",
       "Private equity/leveraged buyout      71.9\n",
       "Real Estate                         573.8\n",
       "Retail, Restaurant                  820.9\n",
       "Technology-Computer                 684.6\n",
       "Technology-Medical                  218.0\n",
       "Venture Capital                      11.1\n",
       "Name: networthusbillion, dtype: float64"
      ]
     },
     "execution_count": 384,
     "metadata": {},
     "output_type": "execute_result"
    }
   ],
   "source": [
    "recent['networthusbillion'].groupby(recent['industry']).sum()"
   ]
  },
  {
   "cell_type": "markdown",
   "metadata": {},
   "source": [
    "### 10) How many self made billionaires vs. others?\n"
   ]
  },
  {
   "cell_type": "code",
   "execution_count": 385,
   "metadata": {
    "collapsed": false
   },
   "outputs": [
    {
     "data": {
      "text/plain": [
       "selfmade\n",
       "inherited     505\n",
       "self-made    1146\n",
       "Name: selfmade, dtype: int64"
      ]
     },
     "execution_count": 385,
     "metadata": {},
     "output_type": "execute_result"
    }
   ],
   "source": [
    "recent['selfmade'].groupby(recent['selfmade']).count()"
   ]
  },
  {
   "cell_type": "markdown",
   "metadata": {},
   "source": [
    "### 11) How old are billionaires? How old are billionaires self made vs. non self made? or different industries?\n"
   ]
  },
  {
   "cell_type": "code",
   "execution_count": 423,
   "metadata": {
    "collapsed": false
   },
   "outputs": [
    {
     "data": {
      "text/plain": [
       "count    1590.000000\n",
       "mean       63.342138\n",
       "std        13.137743\n",
       "min        24.000000\n",
       "25%        53.000000\n",
       "50%        63.000000\n",
       "75%        73.000000\n",
       "max        98.000000\n",
       "Name: age, dtype: float64"
      ]
     },
     "execution_count": 423,
     "metadata": {},
     "output_type": "execute_result"
    }
   ],
   "source": [
    "#how old are billionaires \n",
    "recent['age'].dropna().describe()"
   ]
  },
  {
   "cell_type": "code",
   "execution_count": 426,
   "metadata": {
    "collapsed": false
   },
   "outputs": [
    {
     "data": {
      "text/plain": [
       "selfmade        \n",
       "inherited  count     476.000000\n",
       "           mean       64.962185\n",
       "           std        13.174403\n",
       "           min        24.000000\n",
       "           25%        56.000000\n",
       "           50%        65.000000\n",
       "           75%        74.000000\n",
       "           max        98.000000\n",
       "self-made  count    1112.000000\n",
       "           mean       62.625899\n",
       "           std        13.054631\n",
       "           min        29.000000\n",
       "           25%        52.000000\n",
       "           50%        62.000000\n",
       "           75%        72.000000\n",
       "           max        96.000000\n",
       "Name: age, dtype: float64"
      ]
     },
     "execution_count": 426,
     "metadata": {},
     "output_type": "execute_result"
    }
   ],
   "source": [
    "#how old are billionaires self made vs inherited \n",
    "recent['age'].dropna().groupby(recent['selfmade']).describe()"
   ]
  },
  {
   "cell_type": "code",
   "execution_count": 428,
   "metadata": {
    "collapsed": false
   },
   "outputs": [
    {
     "data": {
      "text/plain": [
       "industry                    \n",
       "0                      count      5.000000\n",
       "                       mean      63.600000\n",
       "                       std       14.170392\n",
       "                       min       49.000000\n",
       "                       25%       53.000000\n",
       "                       50%       63.000000\n",
       "                       75%       68.000000\n",
       "                       max       85.000000\n",
       "Constrution            count     58.000000\n",
       "                       mean      64.965517\n",
       "                       std       14.234829\n",
       "                       min       33.000000\n",
       "                       25%       55.000000\n",
       "                       50%       65.000000\n",
       "                       75%       78.750000\n",
       "                       max       92.000000\n",
       "Consumer               count    276.000000\n",
       "                       mean      64.735507\n",
       "                       std       12.952177\n",
       "                       min       29.000000\n",
       "                       25%       56.000000\n",
       "                       50%       64.000000\n",
       "                       75%       74.000000\n",
       "                       max       95.000000\n",
       "Diversified financial  count    125.000000\n",
       "                       mean      66.344000\n",
       "                       std       13.209908\n",
       "                       min       30.000000\n",
       "                       25%       56.000000\n",
       "                       50%       66.000000\n",
       "                                   ...    \n",
       "Retail, Restaurant     std       12.899621\n",
       "                       min       41.000000\n",
       "                       25%       58.000000\n",
       "                       50%       66.000000\n",
       "                       75%       77.000000\n",
       "                       max       96.000000\n",
       "Technology-Computer    count    131.000000\n",
       "                       mean      54.496183\n",
       "                       std       12.777007\n",
       "                       min       29.000000\n",
       "                       25%       45.000000\n",
       "                       50%       52.000000\n",
       "                       75%       64.000000\n",
       "                       max       85.000000\n",
       "Technology-Medical     count     77.000000\n",
       "                       mean      63.870130\n",
       "                       std       11.134761\n",
       "                       min       44.000000\n",
       "                       25%       56.000000\n",
       "                       50%       63.000000\n",
       "                       75%       70.000000\n",
       "                       max       92.000000\n",
       "Venture Capital        count      5.000000\n",
       "                       mean      58.200000\n",
       "                       std        2.949576\n",
       "                       min       54.000000\n",
       "                       25%       57.000000\n",
       "                       50%       59.000000\n",
       "                       75%       59.000000\n",
       "                       max       62.000000\n",
       "Name: age, dtype: float64"
      ]
     },
     "execution_count": 428,
     "metadata": {},
     "output_type": "execute_result"
    }
   ],
   "source": [
    "# how old are billionaires by industry\n",
    "recent['age'].dropna().groupby(recent['industry']).describe()"
   ]
  },
  {
   "cell_type": "markdown",
   "metadata": {},
   "source": [
    "### 12) Who are the youngest billionaires? The oldest? Age distribution - maybe make a graph about it?\n"
   ]
  },
  {
   "cell_type": "code",
   "execution_count": 469,
   "metadata": {
    "collapsed": false
   },
   "outputs": [
    {
     "name": "stderr",
     "output_type": "stream",
     "text": [
      "/Users/mercyemelike/.virtualenvs/data_analysis/lib/python3.5/site-packages/ipykernel/__main__.py:8: SettingWithCopyWarning: \n",
      "A value is trying to be set on a copy of a slice from a DataFrame.\n",
      "Try using .loc[row_indexer,col_indexer] = value instead\n",
      "\n",
      "See the caveats in the documentation: http://pandas.pydata.org/pandas-docs/stable/indexing.html#indexing-view-versus-copy\n",
      "/Users/mercyemelike/.virtualenvs/data_analysis/lib/python3.5/site-packages/ipykernel/__main__.py:9: SettingWithCopyWarning: \n",
      "A value is trying to be set on a copy of a slice from a DataFrame.\n",
      "Try using .loc[row_indexer,col_indexer] = value instead\n",
      "\n",
      "See the caveats in the documentation: http://pandas.pydata.org/pandas-docs/stable/indexing.html#indexing-view-versus-copy\n"
     ]
    },
    {
     "name": "stdout",
     "output_type": "stream",
     "text": [
      "Oldest billionaire: David Rockefeller, Sr. / 98.0 years old\n",
      "Youngest billionaire: Perenna Kei / 24.0 years old\n"
     ]
    },
    {
     "data": {
      "image/png": "[encoded data removed]",
      "text/plain": [
       "<matplotlib.figure.Figure at 0x1142d9748>"
      ]
     },
     "metadata": {},
     "output_type": "display_data"
    }
   ],
   "source": [
    "ax = recent['age'].hist(bins=20)\n",
    "ax.set_xlabel('Ages')\n",
    "ax.set_ylabel('Frequency')\n",
    "plt.title('Age Distribution of Billionaires')\n",
    "\n",
    "\n",
    "recent['min_age'] = min(recent['age'])\n",
    "recent['max_age'] = max(recent['age'])\n",
    "\n",
    "for index, row in recent.iterrows(): \n",
    "    if row['age'] == row['min_age']:\n",
    "        print ('Youngest billionaire:', row['name'], '/', row['age'], 'years old')\n",
    "    if row['age'] == row['max_age']: \n",
    "        print ('Oldest billionaire:', row['name'], '/', row['age'], 'years old')"
   ]
  },
  {
   "cell_type": "markdown",
   "metadata": {},
   "source": [
    "### 13) Maybe just make a graph about how wealthy they are in general?\n"
   ]
  },
  {
   "cell_type": "code",
   "execution_count": 537,
   "metadata": {
    "collapsed": false
   },
   "outputs": [
    {
     "data": {
      "text/plain": [
       "<matplotlib.text.Text at 0x124db66a0>"
      ]
     },
     "execution_count": 537,
     "metadata": {},
     "output_type": "execute_result"
    },
    {
     "data": {
      "image/png": "[encoded data removed]",
      "text/plain": [
       "<matplotlib.figure.Figure at 0x125bbd160>"
      ]
     },
     "metadata": {},
     "output_type": "display_data"
    }
   ],
   "source": [
    "ax = recent['networthusbillion'].hist(bins=20)\n",
    "plt.title(\"Billionaires' Wealth Distribution\")"
   ]
  },
  {
   "cell_type": "markdown",
   "metadata": {},
   "source": [
    "### 14) Maybe plot their net worth vs age (scatterplot)\n"
   ]
  },
  {
   "cell_type": "code",
   "execution_count": 487,
   "metadata": {
    "collapsed": false
   },
   "outputs": [
    {
     "data": {
      "text/plain": [
       "<matplotlib.text.Text at 0x116ca2160>"
      ]
     },
     "execution_count": 487,
     "metadata": {},
     "output_type": "execute_result"
    },
    {
     "data": {
      "image/png": "[encoded data removed]",
      "text/plain": [
       "<matplotlib.figure.Figure at 0x1137faa90>"
      ]
     },
     "metadata": {},
     "output_type": "display_data"
    }
   ],
   "source": [
    "ax = recent.plot.scatter('age','networthusbillion')\n",
    "ax.set_ylabel('dollars in billions')\n",
    "plt.title('Scatterplot: Networth v Age')"
   ]
  },
  {
   "cell_type": "markdown",
   "metadata": {},
   "source": [
    "### 15) Make a bar graph of the top 10 or 20 richest\n"
   ]
  },
  {
   "cell_type": "code",
   "execution_count": 533,
   "metadata": {
    "collapsed": false
   },
   "outputs": [
    {
     "data": {
      "text/plain": [
       "<matplotlib.text.Text at 0x125a30a20>"
      ]
     },
     "execution_count": 533,
     "metadata": {},
     "output_type": "execute_result"
    },
    {
     "data": {
      "image/png": "[encoded data removed]",
      "text/plain": [
       "<matplotlib.figure.Figure at 0x124ced5f8>"
      ]
     },
     "metadata": {},
     "output_type": "display_data"
    }
   ],
   "source": [
    "indexed = recent.set_index('name')\n",
    "selected = indexed[['networthusbillion']]\n",
    "\n",
    "ax = selected.sort_values(['networthusbillion'], ascending=False)[:10].plot.barh(bottom=['name'],color='green')\n",
    "ax.legend_.remove()\n",
    "plt.title('Top Ten Billionaires')"
   ]
  }
 ],
 "metadata": {
  "kernelspec": {
   "display_name": "Python 3",
   "language": "python",
   "name": "python3"
  },
  "language_info": {
   "codemirror_mode": {
    "name": "ipython",
    "version": 3
   },
   "file_extension": ".py",
   "mimetype": "text/x-python",
   "name": "python",
   "nbconvert_exporter": "python",
   "pygments_lexer": "ipython3",
   "version": "3.5.1"
  }
 },
 "nbformat": 4,
 "nbformat_minor": 0
}
